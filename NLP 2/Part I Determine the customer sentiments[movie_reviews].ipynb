{
 "cells": [
  {
   "cell_type": "code",
   "execution_count": 1,
   "metadata": {
    "id": "Ach0X1WjN75_"
   },
   "outputs": [],
   "source": [
    "import numpy as np\n",
    "import pandas as pd\n",
    "import seaborn as sns\n",
    "sns.set()\n",
    "\n",
    "import random\n",
    "from matplotlib import pyplot\n",
    "from termcolor import colored\n",
    "import matplotlib.pyplot as plt \n",
    "import matplotlib.patches as mpatches\n",
    "\n",
    "import keras\n",
    "from keras.datasets import imdb\n",
    "from keras.layers import Dense\n",
    "from keras.layers import Flatten\n",
    "from keras.models import Sequential\n",
    "from keras.preprocessing import sequence\n",
    "from keras.layers.embeddings import Embedding\n",
    "from keras.layers.convolutional import Conv1D\n",
    "from keras.layers.convolutional import MaxPooling1D\n",
    "from keras.callbacks import ReduceLROnPlateau,EarlyStopping\n",
    "\n",
    "from sklearn.model_selection import train_test_split\n",
    "from sklearn.metrics import accuracy_score, f1_score, confusion_matrix, classification_report"
   ]
  },
  {
   "cell_type": "code",
   "execution_count": 2,
   "metadata": {
    "colab": {
     "base_uri": "https://localhost:8080/"
    },
    "id": "ktNgyHXSIoV9",
    "outputId": "e3de945f-ef04-4384-875f-d64d469c12aa"
   },
   "outputs": [
    {
     "name": "stdout",
     "output_type": "stream",
     "text": [
      "\u001b[32m\u001b[1mLoading dataset with first 10,000 most used words in the dataset.\u001b[0m\n",
      "WARNING:tensorflow:The `nb_words` argument in `load_data` has been renamed `num_words`.\n"
     ]
    },
    {
     "name": "stderr",
     "output_type": "stream",
     "text": [
      "<string>:6: VisibleDeprecationWarning: Creating an ndarray from ragged nested sequences (which is a list-or-tuple of lists-or-tuples-or ndarrays with different lengths or shapes) is deprecated. If you meant to do this, you must specify 'dtype=object' when creating the ndarray\n",
      "/usr/local/lib/python3.7/dist-packages/keras/datasets/imdb.py:155: VisibleDeprecationWarning: Creating an ndarray from ragged nested sequences (which is a list-or-tuple of lists-or-tuples-or ndarrays with different lengths or shapes) is deprecated. If you meant to do this, you must specify 'dtype=object' when creating the ndarray\n",
      "  x_train, y_train = np.array(xs[:idx]), np.array(labels[:idx])\n",
      "/usr/local/lib/python3.7/dist-packages/keras/datasets/imdb.py:156: VisibleDeprecationWarning: Creating an ndarray from ragged nested sequences (which is a list-or-tuple of lists-or-tuples-or ndarrays with different lengths or shapes) is deprecated. If you meant to do this, you must specify 'dtype=object' when creating the ndarray\n",
      "  x_test, y_test = np.array(xs[idx:]), np.array(labels[idx:])\n"
     ]
    }
   ],
   "source": [
    "print(colored('\\x1B[1mLoading dataset with first 10,000 most used words in the dataset.','green'))\n",
    "top_words = 10000\n",
    "(X_train, y_train), (X_Test, y_Test) = imdb.load_data(nb_words = top_words)"
   ]
  },
  {
   "cell_type": "code",
   "execution_count": 3,
   "metadata": {
    "colab": {
     "base_uri": "https://localhost:8080/"
    },
    "id": "AytnlTPEBx9a",
    "outputId": "14ff89bc-fb2a-4faf-e9ed-e97acc53cdca"
   },
   "outputs": [
    {
     "name": "stdout",
     "output_type": "stream",
     "text": [
      "\u001b[32m\u001b[1mSpliting data into training, validation and test sets:\u001b[0m\n"
     ]
    }
   ],
   "source": [
    "print(colored('\\x1B[1mSpliting data into training, validation and test sets:','green'))\n",
    "X_valid, X_test, y_valid, y_test = train_test_split(X_Test, y_Test, test_size=.1, random_state=202)\n",
    "\n",
    "X = np.concatenate((X_train, X_valid, X_test), axis=0)\n",
    "y = np.concatenate((y_train, y_valid, y_test), axis=0)"
   ]
  },
  {
   "cell_type": "code",
   "execution_count": 4,
   "metadata": {
    "colab": {
     "base_uri": "https://localhost:8080/"
    },
    "id": "0YGLgqkPLltg",
    "outputId": "a495549d-ac78-4de7-c9cb-c492150ef487"
   },
   "outputs": [
    {
     "name": "stdout",
     "output_type": "stream",
     "text": [
      "\u001b[32m\u001b[1mShape of training, validation and test data:\u001b[0m\n",
      "Shape of X train (25000,) Shape of Y train (25000,)\n",
      "Shape of X valid (22500,) Shape of Y valid (22500,)\n",
      "Shape of X test (2500,) Shape of Y test (2500,)\n"
     ]
    }
   ],
   "source": [
    "print(colored('\\x1B[1mShape of training, validation and test data:','green'))\n",
    "print('Shape of X train',X_train.shape,'Shape of Y train',y_train.shape)\n",
    "print('Shape of X valid',X_valid.shape,'Shape of Y valid',y_valid.shape)\n",
    "print('Shape of X test',X_test.shape,'Shape of Y test',y_test.shape)"
   ]
  },
  {
   "cell_type": "code",
   "execution_count": 5,
   "metadata": {
    "colab": {
     "base_uri": "https://localhost:8080/"
    },
    "id": "-FpbVAKXLlwc",
    "outputId": "4aafe548-e213-4d01-8522-5ae5579f0156"
   },
   "outputs": [
    {
     "name": "stdout",
     "output_type": "stream",
     "text": [
      "\u001b[32m\u001b[1mNo. of target Classes: 2\u001b[0m\n",
      "[0 1]\n"
     ]
    }
   ],
   "source": [
    "print(colored('\\x1B[1mNo. of target Classes: %d'%len(np.unique(y)),'green'))\n",
    "print(np.unique(y))"
   ]
  },
  {
   "cell_type": "code",
   "execution_count": 6,
   "metadata": {
    "colab": {
     "base_uri": "https://localhost:8080/"
    },
    "id": "fY38Zsj0LlzZ",
    "outputId": "e1db9fd4-e7fd-4a05-d315-0d53bcb73446"
   },
   "outputs": [
    {
     "name": "stdout",
     "output_type": "stream",
     "text": [
      "\u001b[32m\u001b[1mTotal number of words:\u001b[0m\n",
      "9998\n"
     ]
    }
   ],
   "source": [
    "print(colored('\\x1B[1mTotal number of words:','green'))\n",
    "print(len(np.unique(np.hstack(X))))"
   ]
  },
  {
   "cell_type": "code",
   "execution_count": 7,
   "metadata": {
    "colab": {
     "base_uri": "https://localhost:8080/"
    },
    "id": "aqE8fo0tLl2c",
    "outputId": "4f0d82a7-e18a-44f3-c450-e989274d8aa2"
   },
   "outputs": [
    {
     "name": "stdout",
     "output_type": "stream",
     "text": [
      "\u001b[32m\u001b[1mReview length:\u001b[0m\n",
      "\u001b[34m\u001b[1mMean of no. of word: 234.76 with std dvtn: (172.91)\u001b[0m\n"
     ]
    }
   ],
   "source": [
    "print(colored('\\x1B[1mReview length:','green'))\n",
    "result = [len(x) for x in X]\n",
    "print(colored(\"\\x1B[1mMean of no. of word: %.2f with std dvtn: (%.2f)\" % (np.mean(result), np.std(result)),'blue'))"
   ]
  },
  {
   "cell_type": "code",
   "execution_count": 8,
   "metadata": {
    "colab": {
     "base_uri": "https://localhost:8080/",
     "height": 268
    },
    "id": "-2ZB3Lez7EDt",
    "outputId": "4b69d3eb-acce-455f-9773-bbf8d93cb7b5"
   },
   "outputs": [
    {
     "data": {
      "image/png": "[encoded data removed]",
      "text/plain": [
       "<Figure size 432x288 with 1 Axes>"
      ]
     },
     "metadata": {
      "needs_background": "light",
      "tags": []
     },
     "output_type": "display_data"
    }
   ],
   "source": [
    "pyplot.boxplot(result)\n",
    "pyplot.show()"
   ]
  },
  {
   "cell_type": "code",
   "execution_count": 9,
   "metadata": {
    "colab": {
     "base_uri": "https://localhost:8080/"
    },
    "id": "3D8kEqUlldyv",
    "outputId": "18b00f6f-5f7b-4858-8513-c285ee716d6e"
   },
   "outputs": [
    {
     "name": "stdout",
     "output_type": "stream",
     "text": [
      "\u001b[32m\u001b[1mThe length of the largest sentence is 374\u001b[0m\n"
     ]
    }
   ],
   "source": [
    "max_len = len(max(X))\n",
    "print(colored('\\x1B[1mThe length of the largest sentence is %d'%max_len,'green'))"
   ]
  },
  {
   "cell_type": "code",
   "execution_count": 10,
   "metadata": {
    "colab": {
     "base_uri": "https://localhost:8080/"
    },
    "id": "znnZEFjphlt2",
    "outputId": "c7b66c25-8182-416b-90db-db837a6c1155"
   },
   "outputs": [
    {
     "name": "stdout",
     "output_type": "stream",
     "text": [
      "\u001b[32m\u001b[1mWords with their indices and decoding the scentence as well\u001b[0m\n",
      "Sentence No: 40408 with Target: 0\n",
      "negetive\n",
      "[1, 19, 4, 394, 116, 4, 373, 807, 4, 2, 7, 78, 486, 4, 2136, 114, 5, 120, 394, 22, 14, 47, 8, 30, 4, 249, 22, 13, 28, 126, 2395, 11, 61, 113, 5, 146, 4, 711, 7, 1556, 78, 102, 18, 4, 302, 36, 43, 3913, 1214, 541, 23, 84, 5, 183, 161, 1142, 4, 58, 8, 987, 6367, 5, 97, 318, 302, 290, 233, 91, 84, 231, 364, 352, 189, 1554, 33, 222, 81, 142, 40, 7, 2, 42, 142, 8, 97, 6, 4529, 4, 807, 16, 230, 39, 60, 542, 5, 4, 116, 16, 209, 458, 42, 781, 36, 43, 3913, 49, 156, 23, 6, 270, 5, 301, 28, 33, 12, 13, 3874, 207, 110, 128, 108, 39, 61, 22, 13, 707, 33, 396, 89, 122, 14, 126, 79, 6, 288, 766]\n",
      "the film of getting love of tell period of and br do quality of broadway little to show getting you as there in at of sure you was one your influence this only acting to watching of easily br beat do characters but of instead from out occur meaning voice are great to seems nothing zombies of my in pay sized to could excellent instead main last its great minutes along wrong fact absolute they there's people back just br and it's back in could is alcoholic of period with anything or which highly to of love with comedy becomes it's hate from out occur good before are is place to takes one they that was resembles always life still many or only you was silly they doing don't off as your also is year storyline \n",
      "\n",
      "Sentence No: 42143 with Target: 0\n",
      "negetive\n",
      "[1, 14, 203, 24, 30, 4, 249, 20, 126, 93, 21, 12, 9, 427, 4, 91, 357, 594, 138, 12, 9, 324, 669, 11, 4, 465, 5, 669, 19, 3244, 2, 1286, 245, 39, 4, 370, 42, 267, 180, 88, 29, 152, 181, 8, 123, 27, 393, 18, 165, 2, 8, 112, 11, 14, 20, 13, 423, 27, 402, 538, 21, 4, 2, 7, 4, 2115, 5549, 5, 95, 112, 177, 11, 14, 3572, 5290, 90, 180, 6, 2, 11, 61, 274, 5, 8220, 8846, 13, 165, 181, 8, 2222, 90, 6, 2506, 3155, 4, 3594, 8, 14, 165, 4, 973, 16, 4, 64, 282, 13, 296, 14, 20, 5, 8220, 152, 60, 123, 56, 366, 4, 20, 9, 53, 74, 2807, 120, 331, 6, 619, 20]\n",
      "the as action his at of sure on your way not that it boy of its rest brother such that it nice episodes this of seemed to episodes film stealing and edge tv or of awful it's set things most all thing pretty in ever be school but look and in never this as on was couldn't be style blood not of and br of stereotypes fist to them never down this as wonders loneliness made things is and this only ending to unravel distinctly was look pretty in sell made is twisted courage of relative in as look of powerful with of see everything was plays as on to unravel thing which ever she friends of on it up been base show else is serious on \n",
      "\n",
      "Sentence No: 10939 with Target: 0\n",
      "negetive\n",
      "[1, 4, 145, 7, 4, 288, 953, 560, 3996, 1511, 1001, 381, 11, 14, 20, 59, 127, 24, 60, 977, 366, 107, 8881, 7, 4, 20, 9, 120, 5, 95, 94, 11, 1403, 217, 13, 92, 1133, 12, 6, 696, 217, 345, 21, 247, 6, 227, 173, 82, 4, 114, 47, 111, 5639, 791, 49, 2685, 26, 138, 127, 4, 293, 109, 7970, 41, 5641, 492, 138, 127, 41, 5494, 492, 1278, 419, 23, 83, 4, 1374, 29, 560, 94, 18, 6, 6652, 2134, 63, 152, 1260, 233, 540, 4, 2979, 152, 124, 4, 4963, 7, 6, 6652, 2134, 14, 22, 9, 24, 1517, 7, 4, 2364, 1866, 11, 61, 652, 607, 129, 278, 5, 650, 12, 18, 879, 23, 248, 48, 25, 104, 12, 738, 8, 30, 110]\n",
      "the of those br of year setting leave buddies billy inside mean this as on would end his which girlfriend friends seen operating br of on it show to them make this track almost was then recent that is television almost given not girl is far lot other of little there plot firing follow good sir he such end of watched being gretchen about explores works such end about biko works rare yes are first of manner all leave make but is rookie wood really thing west last city of attacked thing does of survivor br is rookie wood as you it his rape br of factor hadn't this only middle looked man sense to change that but truth are day what have two that rock in at life \n",
      "\n",
      "Sentence No: 49415 with Target: 0\n",
      "negetive\n",
      "[1, 54, 13, 16, 2001, 42, 38, 13, 16, 2042, 195, 8, 169, 14, 22, 12, 16, 173, 7, 35, 2203, 5728, 201, 7, 66, 954, 538, 14, 190, 16, 4, 2, 13, 126, 6430, 21, 13, 482, 13, 2962, 12, 99, 78, 73, 51, 8, 901, 128, 74, 2, 4, 957, 7, 1949, 5, 433, 74, 2, 470, 21, 45, 407, 290, 35, 534, 5, 6, 320, 237, 14, 16, 93, 34, 84, 37, 473, 8, 97, 12, 4, 116, 218, 15, 394, 1079, 8, 450, 85, 4277, 1157, 11, 192, 13, 243, 7, 40, 4, 154, 132, 60, 151, 29, 168, 15, 1395, 8, 72, 21, 13, 482, 25, 191, 28, 285, 81, 9891, 6, 5260, 5, 168, 14, 56]\n",
      "the no was with captured it's her was with african that's in same as you that with lot br so religion 1976 original br had hands blood as take with of and was your characteristics not was lead was aunt that movies do much when in situation still been and of previous br mike to entire been and wanted not if itself main so stories to is star he's as with way who great like children in could that of love interesting for getting neither in drama because blew follows this enough was yet br just of work say which old all few for expectations in we not was lead have big one dvd people stray is phrase to few as she \n",
      "\n",
      "Sentence No: 40791 with Target: 1\n",
      "positve\n",
      "[1, 2, 8902, 47, 413, 804, 8, 4, 182, 103, 27, 2996, 365, 4, 2, 20, 451, 188, 8, 124, 4, 405, 7, 4, 167, 37, 1725, 309, 17, 31, 793, 4, 1208, 325, 162, 2, 35, 9980, 37, 1391, 27, 2267, 879, 536, 5, 7124, 4977, 98, 17, 35, 1740, 190, 54, 7452, 8, 14, 20, 2, 6, 2, 448, 725, 4, 667, 34, 2102, 4393, 45, 6, 1076, 275, 65, 10, 10, 4, 436, 22, 9, 33, 86, 650, 38, 955, 38, 1987, 5, 38, 76, 4061, 34, 4, 998, 2334, 7, 35, 1740, 199, 167, 5, 293, 109, 2, 2653, 15, 12, 186, 8, 30, 4063, 18, 111, 797, 1617, 141, 4704, 44, 4, 20, 2313, 17, 112, 99, 550, 2, 42, 2203, 3262, 138, 4, 282, 186, 8, 2866, 11, 6, 2681, 650, 2, 2889, 52, 20, 9, 4680, 8, 3562, 206, 133, 12, 62, 30, 2316, 8, 135, 52, 20, 9, 4680, 8, 57, 206, 17, 6, 551, 7, 192, 316, 62, 30, 502, 8, 135, 31, 4130, 44, 4, 226, 1327, 1500, 5, 15, 62, 4917, 32, 15, 75, 169, 11, 2, 6, 2, 47, 6, 281, 7, 3482, 635, 1061, 19, 199, 5, 2, 15, 977, 8, 30, 2681, 18, 4, 2119, 7, 257, 686, 561, 5, 12, 9, 38, 54, 75, 1495, 4, 7429, 139, 11, 2, 54, 75, 67, 2, 33, 4, 2, 1709, 54, 75, 26, 2, 19, 27, 7254, 921, 1883, 4, 2618, 83, 27, 2, 330, 9, 518, 38, 1596, 15, 4, 64, 96, 18, 4, 529, 8, 140, 23, 149, 4, 22, 9, 8, 81, 27, 41, 118, 8, 235, 5, 585, 247, 74, 67, 5, 104, 32, 9, 4162, 8, 5475, 8, 2, 40, 5793, 23, 2, 54, 68, 58, 266, 11, 85, 715, 32, 47, 6, 281, 7, 1937, 5, 341, 209, 111, 687, 42, 60, 3233, 17, 6, 959, 12, 9, 179, 2388, 15, 25, 80, 79, 4, 326, 7, 4, 20, 103, 6, 686, 829, 12, 215, 30, 110, 53, 74, 1453, 19, 4, 330, 15, 9, 1343, 911, 48, 490, 40, 12, 42, 24, 198, 6, 275, 65, 55, 965, 31, 10, 10, 4, 1614, 1234, 26, 4, 2367, 15, 9, 6456, 33, 86, 1682, 5, 2677, 19, 178, 469, 936, 17, 142, 55, 3191, 18, 4, 293, 109, 15, 739, 8, 216, 5, 563, 360, 17, 142, 240, 5576, 18, 38, 913, 5, 63, 266, 8, 90, 11, 4, 91, 2076, 96, 547, 15, 29, 659, 11, 6, 1667, 430, 37, 739, 17, 6, 2186, 7, 32, 4, 1306, 5, 5219, 17, 6, 4078, 7540, 7, 4717, 4021, 63, 2, 4, 2298, 5417, 2, 127, 6, 3620, 292, 11, 14, 20, 143, 775, 7, 389, 6139, 29, 9786, 178, 19, 6, 55, 821, 650, 7, 2, 54, 4, 206, 304, 273, 4, 4446, 2, 852, 2, 1568, 178, 19, 6, 1307, 1114, 585, 15, 70, 30, 446, 6, 147, 6532, 18, 4, 523, 5, 11, 4, 978, 266, 2, 228, 4, 5102, 625, 113, 1581, 2102, 4393, 8, 4919, 4, 109, 10, 10, 4, 354, 26, 350, 2501, 572, 39, 2, 7106, 17, 4, 293, 109, 2, 2653, 37, 494, 6, 360, 103, 254, 1614, 292, 5, 2, 1027, 8, 169, 12, 11, 8429, 2, 18, 4, 2159, 7, 4, 22, 75, 28, 6, 87, 2618, 83, 27, 2334, 1417, 5, 1421, 7, 2563, 2, 5, 4853, 151, 518, 2279, 29, 941, 178, 23, 4, 208, 1406, 2449, 4, 130, 24, 2328, 440, 18, 4, 329, 1579, 130, 2, 4661, 4, 2186, 7, 2, 4717, 1762, 21, 82, 6, 2186, 7, 936, 5, 2, 15, 739, 8, 236, 184, 346, 2, 12, 16, 32, 99, 346, 560, 4, 293, 109, 6, 87, 151, 55, 3116, 292, 9, 224, 34, 951, 2733, 17, 6, 432, 7, 1165, 3530, 4947, 19, 937, 2, 2, 44, 141, 7843, 17, 936, 1351, 440, 406, 3764, 18, 4947, 936, 3246, 8, 4, 5190, 89, 2, 246, 89, 1824, 4, 326, 238, 30, 5, 126, 984, 11, 1614, 1122, 102, 7, 4, 58, 133, 17, 35, 4537, 761, 39, 2, 452, 10, 10, 906, 388, 849, 2, 4, 1327, 565, 757, 246, 24, 32, 797, 80, 169, 98, 3210, 36, 4379, 8, 4, 226, 1032, 20, 5276, 76, 781, 8, 79, 1646, 4, 208, 1406, 11, 2030, 2267, 3530, 5, 746, 4, 689, 3404, 7, 27, 7027, 793, 141, 139, 13, 1133, 4, 2583, 720, 184, 674, 572, 4, 96, 2, 2, 4, 1748, 3744, 5935, 3421, 4, 583, 7, 3158, 8, 216, 2439, 13, 82, 1144, 4, 665, 54, 2, 9, 1266, 11, 4, 2, 5, 4, 9527, 650, 1102, 11, 4, 978, 89, 2, 15, 203, 2988, 9189, 2334, 7, 4473, 713, 75, 84, 6, 432, 7, 11, 4, 182, 11, 4, 1311, 15, 113, 9, 10, 10, 11, 4, 130, 13, 215, 376, 25, 31, 674, 155, 13, 69, 258, 2, 6, 2, 576, 916, 366, 13, 645, 8, 168, 2750, 33, 51, 4, 167, 9, 66, 269, 8, 2833, 95, 175, 136, 679, 46, 8, 30, 3191, 11, 94, 2956, 19, 63, 25, 92, 28, 8, 1041, 13, 983, 1041, 19, 233, 4, 293, 109, 127, 21, 25, 144, 33, 222, 8324, 14, 17, 142, 4, 2133, 913, 473, 8, 135, 1632, 8, 27, 544, 1741, 90, 18, 6, 171, 715, 11, 31, 1511, 7, 635, 10, 10, 1617, 50, 9, 6, 196, 96, 949, 1897, 4, 22, 237, 24, 111, 102, 40, 15, 71, 112, 93, 11, 5065, 5, 26, 112, 93, 150, 2, 12, 186, 15, 75, 26, 32, 2725, 8, 28, 4, 208, 1417, 44, 14, 22, 11, 4, 196, 521, 4379, 8, 15, 75, 26, 32, 2725, 8, 585, 280, 6, 680, 2, 633, 2076, 635, 15, 341, 9, 693, 158]\n",
      "the and glow there lost dialog in of young watch be buck full of and on beginning can't in does of gives br of going like engaging high movie by re of tough black actually and so avant like charles be unrealistic truth girls to ambitions phony any movie so continue take no lowe in as on and is and fans moving of robert who brilliantly considerable if is compared money their i i of problem you it they how change her plenty her received to her get undoubtedly who of co scare br so continue give going to watched being and imagery for that horror in at relies but plot showing brian should civilization has of on appropriate movie never movies anyway and it's religion redemption such of everything horror in wave this is starred change and reference very on it rising in creation without scene that story at football in why very on it rising in even without movie is kid br enough seeing story at turns in why by sidekick has of script climax lacks to for story equipment an for bad same this and is and there is actor br hire across waiting film give to and for girlfriend in at starred but of frame br having four writer to that it her no bad laughed of tightly something this and no bad can and they of and davis no bad he and film be festivals fi heroine of listening first be and second it run her hidden for of see too but of self in through are doesn't of you it in people be about where in might to murder girl been can to two an it houses in damme in and just eternity are and no were my trying this because jack an there is actor br youth to home comedy plot songs it's which horses movie is effect that it world skin for have into also of less br of on watch is four leads that isn't at life up been zero film of second for it thus joe what guys just that it's his series is money their time fire by i i of therefore involving he of hall for it id they how deeply to ha film want unfortunately fantasy movie back time quote but of watched being for george in saw to cannot hollywood movie back kind malone but her weird to really trying in made this of its washington too slow for all talking this is necessary worse like george movie is foreign br an of drawn to claus movie is brains interpretations br sue blowing really and of research comedians and end is border together this as on i'm begins br small hers all shootings want film is time doubt change br and no of without beautiful put of seed and deal and stuck want film is mood century murder for well at oh is now spectacle but of directed to this of meant trying and making of tribe david acting thats brilliantly considerable in wendy of being i i of boring he try invisible happened or and vera movie of watched being and imagery like tries is hollywood watch each therefore together to and manages in same that this plotted and but of pair br of you bad one is him listening first be scare brief to mainly br performed and to pursuit old run shakespeare all features want are of times aspects claims of here his circumstances mr but of read count here and myers of foreign br and sue scared not other is foreign br fantasy to and for george in performance around men and that with an movies men leave of watched being is him old time bag together it bit who cheesy seek movie is went br mad competition popularity film directing and and has should characteristic movie fantasy batman mr others rid but popularity fantasy nelson in of simmons don't and worst don't heaven of less 2 at to your create this therefore animated characters br of my scene movie so charlotte feels or and killer i i meet understand de and of climax police mention worst his an showing into same any portrait from chased in of script flat on frankenstein get hate in also clothes of times aspects this deals unrealistic competition to message of attention bible br be swinging re should something was recent of stolen paul around five happened of too and and of pre reduced harrison intention of wouldn't br plastic in saw touches was other force of female no and it week this of and to of empathize change dancing this of meant don't and for action warner truthful scare br del tells bad great is went br this of young this of fully for acting it i i this of here was isn't stupid have by five 10 was me although and is and told laughs friends was body in few renting they when of going it had looks in entertain them us scenes modern some in at quote this make replaced film really have then one in plain was potential plain film last of watched being end not have real they there's dern as movie back of crappy weird children in why lord in be feeling unnecessary made but is again jack this by billy br across i i brian more it is both too worked eat of you he's his plot characters just for than never way this merits to he never way years and that horror for bad he an sensitive in one of times brief has as you this of both actress chased in for bad he an sensitive in murder true is call and opening washington across for home it supporting didn't \n",
      "\n"
     ]
    }
   ],
   "source": [
    "print(colored('\\x1B[1mWords with their indices and decoding the scentence as well','green'))\n",
    "word_index = imdb.get_word_index()\n",
    "index_word = {v : k for k,v in word_index.items()}\n",
    "for i in range(0,5):\n",
    "  x=random.choice(range(len(X)))\n",
    "  print('Sentence No: %d'%x,'with Target: %d'%y[x])\n",
    "  print(\"positve\" if y[x]==1 else \"negetive\")\n",
    "  print(X[x])\n",
    "  print(\" \".join([index_word[idx] for idx in X[x]]),'\\n')"
   ]
  },
  {
   "cell_type": "code",
   "execution_count": 11,
   "metadata": {
    "colab": {
     "base_uri": "https://localhost:8080/"
    },
    "id": "kVYL-KZIN7_m",
    "outputId": "6077d848-036d-49b4-8f42-5708f66c9660"
   },
   "outputs": [
    {
     "name": "stdout",
     "output_type": "stream",
     "text": [
      "\u001b[32m\u001b[1mpadding the scentences to a max length of scentence\u001b[0m\n",
      "\u001b[32m\u001b[1mThis will add 0's to the smaller sequences\n",
      "\u001b[0m\n"
     ]
    }
   ],
   "source": [
    "print(colored('\\x1B[1mpadding the scentences to a max length of scentence','green'))\n",
    "print(colored('''\\x1B[1mThis will add 0's to the smaller sequences\\n''','green'))\n",
    "\n",
    "X_train_pad = sequence.pad_sequences(X_train, maxlen=max_len)\n",
    "X_valid_pad = sequence.pad_sequences(X_valid, maxlen=max_len)\n",
    "X_test_pad = sequence.pad_sequences(X_test, maxlen=max_len)"
   ]
  },
  {
   "cell_type": "code",
   "execution_count": 12,
   "metadata": {
    "colab": {
     "base_uri": "https://localhost:8080/"
    },
    "id": "hnOOf1grv6Qi",
    "outputId": "ebe72f62-1f1e-4881-d1c9-10e615101421"
   },
   "outputs": [
    {
     "name": "stdout",
     "output_type": "stream",
     "text": [
      "\u001b[32m\u001b[1mShape of training, validation and test data after padding:\u001b[0m\n",
      "Shape of X train (25000, 374) Shape of Y train (25000,)\n",
      "Shape of X valid (22500, 374) Shape of Y valid (22500,)\n",
      "Shape of X test (2500, 374) Shape of Y test (2500,)\n"
     ]
    }
   ],
   "source": [
    "print(colored('\\x1B[1mShape of training, validation and test data after padding:','green'))\n",
    "print('Shape of X train',X_train_pad.shape,'Shape of Y train',y_train.shape)\n",
    "print('Shape of X valid',X_valid_pad.shape,'Shape of Y valid',y_valid.shape)\n",
    "print('Shape of X test',X_test_pad.shape,'Shape of Y test',y_test.shape)"
   ]
  },
  {
   "cell_type": "markdown",
   "metadata": {
    "id": "aJvTVo538mPY"
   },
   "source": [
    "## Simple multi-layer perceptron model with a single hidden layer."
   ]
  },
  {
   "cell_type": "code",
   "execution_count": 13,
   "metadata": {
    "colab": {
     "base_uri": "https://localhost:8080/"
    },
    "id": "ubU4uvyBN8Cp",
    "outputId": "d944a726-fe57-4cd0-8efe-9d2f00fbb3aa"
   },
   "outputs": [
    {
     "name": "stdout",
     "output_type": "stream",
     "text": [
      "\u001b[32m\u001b[1mBuilding the Simple multi-layer perceptron model\u001b[0m\n"
     ]
    }
   ],
   "source": [
    "print(colored('\\x1B[1mBuilding the Simple multi-layer perceptron model','green'))\n",
    "model1 = Sequential()\n",
    "model1.add(Embedding(top_words, 32, input_length = max_len))\n",
    "model1.add(Flatten())\n",
    "model1.add(Dense(250, activation='relu'))\n",
    "model1.add(Dense(1, activation='sigmoid'))"
   ]
  },
  {
   "cell_type": "code",
   "execution_count": 14,
   "metadata": {
    "colab": {
     "base_uri": "https://localhost:8080/"
    },
    "id": "bDV089JSwF-W",
    "outputId": "fadaea1f-6387-4039-aa4b-c9543b34dd8c"
   },
   "outputs": [
    {
     "name": "stdout",
     "output_type": "stream",
     "text": [
      "\u001b[32m\u001b[1mCompiling Simple multi-layer model\u001b[0m\n"
     ]
    }
   ],
   "source": [
    "print(colored('\\x1B[1mCompiling Simple multi-layer model','green'))\n",
    "model1.compile(loss='binary_crossentropy', optimizer='adam', metrics=['accuracy'])"
   ]
  },
  {
   "cell_type": "code",
   "execution_count": 15,
   "metadata": {
    "colab": {
     "base_uri": "https://localhost:8080/"
    },
    "id": "c3ExLsCwxGbc",
    "outputId": "d7257e26-c537-42e6-f406-6f569384722f"
   },
   "outputs": [
    {
     "name": "stdout",
     "output_type": "stream",
     "text": [
      "\u001b[32m\u001b[1mSummary of Simple multi-layer model\u001b[0m\n",
      "Model: \"sequential\"\n",
      "_________________________________________________________________\n",
      "Layer (type)                 Output Shape              Param #   \n",
      "=================================================================\n",
      "embedding (Embedding)        (None, 374, 32)           320000    \n",
      "_________________________________________________________________\n",
      "flatten (Flatten)            (None, 11968)             0         \n",
      "_________________________________________________________________\n",
      "dense (Dense)                (None, 250)               2992250   \n",
      "_________________________________________________________________\n",
      "dense_1 (Dense)              (None, 1)                 251       \n",
      "=================================================================\n",
      "Total params: 3,312,501\n",
      "Trainable params: 3,312,501\n",
      "Non-trainable params: 0\n",
      "_________________________________________________________________\n",
      "None\n"
     ]
    }
   ],
   "source": [
    "print(colored('\\x1B[1mSummary of Simple multi-layer model','green'))\n",
    "print(model1.summary())"
   ]
  },
  {
   "cell_type": "code",
   "execution_count": 16,
   "metadata": {
    "colab": {
     "base_uri": "https://localhost:8080/"
    },
    "id": "KU8Q2n9LTHm5",
    "outputId": "5386124f-bcc8-4f78-b210-107a7da443a6"
   },
   "outputs": [
    {
     "name": "stdout",
     "output_type": "stream",
     "text": [
      "\u001b[34m\u001b[1mSetting earlystoping\u001b[0m\n",
      "WARNING:tensorflow:`epsilon` argument is deprecated and will be removed, use `min_delta` instead.\n"
     ]
    }
   ],
   "source": [
    "print(colored('\\x1B[1mSetting earlystoping','blue'))\n",
    "earlyStopping = EarlyStopping(monitor='val_loss', patience=10, verbose=0, mode='min')\n",
    "reduce_lr_loss = ReduceLROnPlateau(monitor='val_loss', factor=0.1, patience=7, verbose=1, epsilon=1e-4, mode='min', min_lr=1e-6)"
   ]
  },
  {
   "cell_type": "code",
   "execution_count": 17,
   "metadata": {
    "colab": {
     "base_uri": "https://localhost:8080/"
    },
    "id": "4s9GlaYUN8FY",
    "outputId": "ce3e13a4-4a57-4f1b-a188-8ef9b0674455"
   },
   "outputs": [
    {
     "name": "stdout",
     "output_type": "stream",
     "text": [
      "\u001b[32m\u001b[1mFittting the model\u001b[0m\n",
      "Epoch 1/20\n",
      "391/391 - 37s - loss: 0.4187 - accuracy: 0.7810 - val_loss: 0.2908 - val_accuracy: 0.8773\n",
      "Epoch 2/20\n",
      "391/391 - 21s - loss: 0.1103 - accuracy: 0.9605 - val_loss: 0.3703 - val_accuracy: 0.8576\n",
      "Epoch 3/20\n",
      "391/391 - 21s - loss: 0.0171 - accuracy: 0.9956 - val_loss: 0.5058 - val_accuracy: 0.8600\n",
      "Epoch 4/20\n",
      "391/391 - 21s - loss: 0.0018 - accuracy: 0.9999 - val_loss: 0.5688 - val_accuracy: 0.8654\n",
      "Epoch 5/20\n",
      "391/391 - 21s - loss: 4.2171e-04 - accuracy: 1.0000 - val_loss: 0.5926 - val_accuracy: 0.8644\n",
      "Epoch 6/20\n",
      "391/391 - 21s - loss: 1.8113e-04 - accuracy: 1.0000 - val_loss: 0.6142 - val_accuracy: 0.8658\n",
      "Epoch 7/20\n",
      "391/391 - 22s - loss: 1.1625e-04 - accuracy: 1.0000 - val_loss: 0.6322 - val_accuracy: 0.8663\n",
      "Epoch 8/20\n",
      "391/391 - 21s - loss: 8.1032e-05 - accuracy: 1.0000 - val_loss: 0.6485 - val_accuracy: 0.8665\n",
      "\n",
      "Epoch 00008: ReduceLROnPlateau reducing learning rate to 0.00010000000474974513.\n",
      "Epoch 9/20\n",
      "391/391 - 22s - loss: 6.2988e-05 - accuracy: 1.0000 - val_loss: 0.6502 - val_accuracy: 0.8668\n",
      "Epoch 10/20\n",
      "391/391 - 21s - loss: 6.0813e-05 - accuracy: 1.0000 - val_loss: 0.6521 - val_accuracy: 0.8668\n",
      "Epoch 11/20\n",
      "391/391 - 21s - loss: 5.8465e-05 - accuracy: 1.0000 - val_loss: 0.6543 - val_accuracy: 0.8667\n"
     ]
    }
   ],
   "source": [
    "print(colored('\\x1B[1mFittting the model','green'))\n",
    "history1 =  model1.fit(X_train_pad, y_train, validation_data=(X_valid_pad, y_valid) , epochs=20, batch_size=64, verbose=2,callbacks=[earlyStopping, reduce_lr_loss])"
   ]
  },
  {
   "cell_type": "code",
   "execution_count": 18,
   "metadata": {
    "colab": {
     "base_uri": "https://localhost:8080/"
    },
    "id": "65mnF7E9OG5h",
    "outputId": "ad41ecda-baa4-4da7-b7ad-131f30a1d2ee"
   },
   "outputs": [
    {
     "name": "stdout",
     "output_type": "stream",
     "text": [
      "\u001b[32m\u001b[1mFittting the model\u001b[0m\n",
      "Accuracy: 85.44%\n"
     ]
    }
   ],
   "source": [
    "print(colored('\\x1B[1mFittting the model','green'))\n",
    "scores = model1.evaluate(X_test_pad, y_test, verbose=0)\n",
    "print(\"Accuracy: %.2f%%\" % (scores[1]*100))"
   ]
  },
  {
   "cell_type": "code",
   "execution_count": 19,
   "metadata": {
    "colab": {
     "base_uri": "https://localhost:8080/",
     "height": 330
    },
    "id": "0g_oQs7F1UFp",
    "outputId": "7784301f-ae68-4e26-9420-663d2cf5f4dd"
   },
   "outputs": [
    {
     "name": "stdout",
     "output_type": "stream",
     "text": [
      "\u001b[32m\u001b[1m\t\t\tAccuracy analysis of Simple multi-layer perceptron-Model\n",
      "\u001b[0m\n"
     ]
    },
    {
     "data": {
      "image/png": "[encoded data removed]",
      "text/plain": [
       "<Figure size 1152x360 with 1 Axes>"
      ]
     },
     "metadata": {
      "needs_background": "light",
      "tags": []
     },
     "output_type": "display_data"
    }
   ],
   "source": [
    "print(colored('\\x1B[1m\\t\\t\\tAccuracy analysis of Simple multi-layer perceptron-Model\\n','green'))\n",
    "plt.figure(figsize=(16,5))\n",
    "epochs = range(1, len(history1.history['accuracy'])+1)\n",
    "plt.plot(epochs, history1.history['accuracy'], 'b', label='Training Accuracy', color='red')\n",
    "plt.plot(epochs, history1.history['val_accuracy'], 'b', label='Validation Accuracy')\n",
    "plt.legend()\n",
    "plt.show()"
   ]
  },
  {
   "cell_type": "code",
   "execution_count": 20,
   "metadata": {
    "colab": {
     "base_uri": "https://localhost:8080/",
     "height": 332
    },
    "id": "tFLTq_qu1UFp",
    "outputId": "30f522fb-5d56-46a4-aea0-96e4d21645e8"
   },
   "outputs": [
    {
     "name": "stdout",
     "output_type": "stream",
     "text": [
      "\u001b[32m\u001b[1m\t\t\tLoss analysis graph of Simple multi-layer perceptron-Model\n",
      "\u001b[0m\n"
     ]
    },
    {
     "data": {
      "image/png": "[encoded data removed]",
      "text/plain": [
       "<Figure size 1152x360 with 1 Axes>"
      ]
     },
     "metadata": {
      "needs_background": "light",
      "tags": []
     },
     "output_type": "display_data"
    }
   ],
   "source": [
    "print(colored('\\x1B[1m\\t\\t\\tLoss analysis graph of Simple multi-layer perceptron-Model\\n','green'))\n",
    "plt.figure(figsize=(16,5))\n",
    "epochs = range(1, len(history1.history['accuracy'])+1)\n",
    "plt.plot(epochs, history1.history['loss'], 'b', label='Training Loss', color='red')\n",
    "plt.plot(epochs, history1.history['val_loss'], 'b', label='Validation Loss')\n",
    "plt.legend()\n",
    "plt.show()"
   ]
  },
  {
   "cell_type": "code",
   "execution_count": 21,
   "metadata": {
    "colab": {
     "base_uri": "https://localhost:8080/"
    },
    "id": "oyZGtQbsDQHa",
    "outputId": "a0c03774-ed13-4ff7-99a6-fafcef976c40"
   },
   "outputs": [
    {
     "name": "stdout",
     "output_type": "stream",
     "text": [
      "\u001b[32m\u001b[1mClassification Report\u001b[0m\n"
     ]
    },
    {
     "name": "stderr",
     "output_type": "stream",
     "text": [
      "/usr/local/lib/python3.7/dist-packages/keras/engine/sequential.py:450: UserWarning: `model.predict_classes()` is deprecated and will be removed after 2021-01-01. Please use instead:* `np.argmax(model.predict(x), axis=-1)`,   if your model does multi-class classification   (e.g. if it uses a `softmax` last-layer activation).* `(model.predict(x) > 0.5).astype(\"int32\")`,   if your model does binary classification   (e.g. if it uses a `sigmoid` last-layer activation).\n",
      "  warnings.warn('`model.predict_classes()` is deprecated and '\n"
     ]
    },
    {
     "name": "stdout",
     "output_type": "stream",
     "text": [
      "              precision    recall  f1-score   support\n",
      "\n",
      "           0       0.85      0.86      0.85      1228\n",
      "           1       0.86      0.85      0.86      1272\n",
      "\n",
      "    accuracy                           0.85      2500\n",
      "   macro avg       0.85      0.85      0.85      2500\n",
      "weighted avg       0.85      0.85      0.85      2500\n",
      "\n"
     ]
    }
   ],
   "source": [
    "print(colored('\\x1B[1mClassification Report','green'))\n",
    "print(classification_report(y_test, model1.predict_classes(X_test_pad)))"
   ]
  },
  {
   "cell_type": "code",
   "execution_count": 22,
   "metadata": {
    "colab": {
     "base_uri": "https://localhost:8080/"
    },
    "id": "gdkQQreN1Glz",
    "outputId": "11501e15-25cc-49c8-ac3a-89c7557fc949"
   },
   "outputs": [
    {
     "name": "stderr",
     "output_type": "stream",
     "text": [
      "/usr/local/lib/python3.7/dist-packages/keras/engine/sequential.py:450: UserWarning: `model.predict_classes()` is deprecated and will be removed after 2021-01-01. Please use instead:* `np.argmax(model.predict(x), axis=-1)`,   if your model does multi-class classification   (e.g. if it uses a `softmax` last-layer activation).* `(model.predict(x) > 0.5).astype(\"int32\")`,   if your model does binary classification   (e.g. if it uses a `sigmoid` last-layer activation).\n",
      "  warnings.warn('`model.predict_classes()` is deprecated and '\n"
     ]
    }
   ],
   "source": [
    "cm=confusion_matrix(y_test,model1.predict_classes(X_test_pad))"
   ]
  },
  {
   "cell_type": "code",
   "execution_count": 23,
   "metadata": {
    "colab": {
     "base_uri": "https://localhost:8080/",
     "height": 340
    },
    "id": "R7hcuLc91Glz",
    "outputId": "243d18d6-4a7a-4db5-fbed-9c414dd9732c"
   },
   "outputs": [
    {
     "data": {
      "image/png": "[encoded data removed]",
      "text/plain": [
       "<Figure size 360x360 with 2 Axes>"
      ]
     },
     "metadata": {
      "needs_background": "light",
      "tags": []
     },
     "output_type": "display_data"
    }
   ],
   "source": [
    "plt.figure(figsize=(5,5))\n",
    "sns.heatmap(cm,xticklabels=['0','1'],yticklabels=['0','1'],annot=True,cmap='Blues')\n",
    "plt.title('confusion matrix of test data',fontdict={'size':15})\n",
    "plt.show()"
   ]
  },
  {
   "cell_type": "code",
   "execution_count": 24,
   "metadata": {
    "colab": {
     "base_uri": "https://localhost:8080/"
    },
    "id": "RidtJS6i7R5i",
    "outputId": "f327fa8b-5f34-4bb9-f930-d676fc392583"
   },
   "outputs": [
    {
     "name": "stdout",
     "output_type": "stream",
     "text": [
      "\u001b[32m\u001b[1mPrediciting via Simple multi-layer perceptron model\u001b[0m\n"
     ]
    },
    {
     "name": "stderr",
     "output_type": "stream",
     "text": [
      "/usr/local/lib/python3.7/dist-packages/keras/engine/sequential.py:450: UserWarning: `model.predict_classes()` is deprecated and will be removed after 2021-01-01. Please use instead:* `np.argmax(model.predict(x), axis=-1)`,   if your model does multi-class classification   (e.g. if it uses a `softmax` last-layer activation).* `(model.predict(x) > 0.5).astype(\"int32\")`,   if your model does binary classification   (e.g. if it uses a `sigmoid` last-layer activation).\n",
      "  warnings.warn('`model.predict_classes()` is deprecated and '\n"
     ]
    }
   ],
   "source": [
    "print(colored('\\x1B[1mPrediciting via Simple multi-layer perceptron model','green'))\n",
    "y_pred = model1.predict_classes(X_test_pad)\n",
    "correct = [pred == true for pred, true in zip(y_pred, y_test)]"
   ]
  },
  {
   "cell_type": "code",
   "execution_count": 25,
   "metadata": {
    "colab": {
     "base_uri": "https://localhost:8080/"
    },
    "id": "L-CApAj07R5p",
    "outputId": "2cb95703-6acf-425b-b398-7557509c7eb8"
   },
   "outputs": [
    {
     "name": "stdout",
     "output_type": "stream",
     "text": [
      "\u001b[32m\u001b[1mGetting miscalssified classes\u001b[0m\n"
     ]
    }
   ],
   "source": [
    "print(colored('\\x1B[1mGetting miscalssified classes','green'))\n",
    "true_c = []\n",
    "false = []\n",
    "false_c = []\n",
    "\n",
    "for i in range(len(correct)):\n",
    "  if (correct[i]) != True:\n",
    "    false.append(i)\n",
    "    true_c.append(y_test[i])\n",
    "    false_c.append(y_pred[i])"
   ]
  },
  {
   "cell_type": "code",
   "execution_count": 26,
   "metadata": {
    "colab": {
     "base_uri": "https://localhost:8080/"
    },
    "id": "jmqybdzW7R5q",
    "outputId": "80ad4617-4374-4484-86ca-b5562d9e2901"
   },
   "outputs": [
    {
     "name": "stdout",
     "output_type": "stream",
     "text": [
      "\u001b[32m\u001b[1mTotal number of miscalssified classes from test set are 364 amoung 2500 classes\u001b[0m\n"
     ]
    }
   ],
   "source": [
    "print(colored('\\x1B[1mTotal number of miscalssified classes from test set are %d amoung %d classes'%(len(false_c),len(X_test)),'green'))"
   ]
  },
  {
   "cell_type": "markdown",
   "metadata": {
    "id": "OVidYWknBqFz"
   },
   "source": [
    "## One-Dimensional Convolutional Neural Network Model"
   ]
  },
  {
   "cell_type": "code",
   "execution_count": 27,
   "metadata": {
    "colab": {
     "base_uri": "https://localhost:8080/"
    },
    "id": "916w1vwnLmCj",
    "outputId": "b7721f2d-6911-4dae-a64a-cba0ba38ba42"
   },
   "outputs": [
    {
     "name": "stdout",
     "output_type": "stream",
     "text": [
      "\u001b[32m\u001b[1mBuilding of One-Dimensional Convolutional Neural Network Model\u001b[0m\n"
     ]
    }
   ],
   "source": [
    "print(colored('\\x1B[1mBuilding of One-Dimensional Convolutional Neural Network Model','green'))\n",
    "model2 = Sequential()\n",
    "model2.add(Embedding(top_words, 32, input_length = max_len))\n",
    "model2.add(Conv1D(filters=32, kernel_size=3, padding='same', activation='relu'))\n",
    "model2.add(MaxPooling1D(pool_size=2))\n",
    "model2.add(Flatten())\n",
    "model2.add(Dense(250, activation='relu'))\n",
    "model2.add(Dense(1, activation='sigmoid'))"
   ]
  },
  {
   "cell_type": "code",
   "execution_count": 28,
   "metadata": {
    "colab": {
     "base_uri": "https://localhost:8080/"
    },
    "id": "h7tH0eq5xlyy",
    "outputId": "90d04a8e-084b-4f1f-dd3a-08642bf298af"
   },
   "outputs": [
    {
     "name": "stdout",
     "output_type": "stream",
     "text": [
      "\u001b[32m\u001b[1mCompling One-Dimensional Convolutional Neural Network Model\u001b[0m\n"
     ]
    }
   ],
   "source": [
    "print(colored('\\x1B[1mCompling One-Dimensional Convolutional Neural Network Model','green'))\n",
    "model2.compile(loss='binary_crossentropy', optimizer='adam', metrics=['accuracy'])"
   ]
  },
  {
   "cell_type": "code",
   "execution_count": 29,
   "metadata": {
    "colab": {
     "base_uri": "https://localhost:8080/"
    },
    "id": "3ATT_p1Xxmw1",
    "outputId": "748d727a-e38b-4770-e32d-53ea5e61daea"
   },
   "outputs": [
    {
     "name": "stdout",
     "output_type": "stream",
     "text": [
      "\u001b[32m\u001b[1mCompling of One-Dimensional Convolutional Neural Network Model\u001b[0m\n",
      "Model: \"sequential_1\"\n",
      "_________________________________________________________________\n",
      "Layer (type)                 Output Shape              Param #   \n",
      "=================================================================\n",
      "embedding_1 (Embedding)      (None, 374, 32)           320000    \n",
      "_________________________________________________________________\n",
      "conv1d (Conv1D)              (None, 374, 32)           3104      \n",
      "_________________________________________________________________\n",
      "max_pooling1d (MaxPooling1D) (None, 187, 32)           0         \n",
      "_________________________________________________________________\n",
      "flatten_1 (Flatten)          (None, 5984)              0         \n",
      "_________________________________________________________________\n",
      "dense_2 (Dense)              (None, 250)               1496250   \n",
      "_________________________________________________________________\n",
      "dense_3 (Dense)              (None, 1)                 251       \n",
      "=================================================================\n",
      "Total params: 1,819,605\n",
      "Trainable params: 1,819,605\n",
      "Non-trainable params: 0\n",
      "_________________________________________________________________\n"
     ]
    }
   ],
   "source": [
    "print(colored('\\x1B[1mCompling of One-Dimensional Convolutional Neural Network Model','green'))\n",
    "model2.summary()"
   ]
  },
  {
   "cell_type": "code",
   "execution_count": 30,
   "metadata": {
    "colab": {
     "base_uri": "https://localhost:8080/"
    },
    "id": "j0Deo9PtV5kL",
    "outputId": "7a41e65a-d5b3-4263-de39-3f321f6be541"
   },
   "outputs": [
    {
     "name": "stdout",
     "output_type": "stream",
     "text": [
      "\u001b[34m\u001b[1mSetting earlystoping\u001b[0m\n",
      "WARNING:tensorflow:`epsilon` argument is deprecated and will be removed, use `min_delta` instead.\n"
     ]
    }
   ],
   "source": [
    "print(colored('\\x1B[1mSetting earlystoping','blue'))\n",
    "earlyStopping = EarlyStopping(monitor='val_loss', patience=10, verbose=0, mode='min')\n",
    "reduce_lr_loss = ReduceLROnPlateau(monitor='val_loss', factor=0.1, patience=7, verbose=1, epsilon=1e-4, mode='min', min_lr=1e-6)"
   ]
  },
  {
   "cell_type": "code",
   "execution_count": 31,
   "metadata": {
    "colab": {
     "base_uri": "https://localhost:8080/"
    },
    "id": "b_qbQgoSLmFg",
    "outputId": "aa13cdb7-4156-434d-fc46-2e3f328f1e27"
   },
   "outputs": [
    {
     "name": "stdout",
     "output_type": "stream",
     "text": [
      "\u001b[32m\u001b[1mFittting the model\u001b[0m\n",
      "Epoch 1/20\n",
      "391/391 - 27s - loss: 0.3979 - accuracy: 0.7937 - val_loss: 0.2802 - val_accuracy: 0.8837\n",
      "Epoch 2/20\n",
      "391/391 - 23s - loss: 0.1730 - accuracy: 0.9348 - val_loss: 0.2873 - val_accuracy: 0.8820\n",
      "Epoch 3/20\n",
      "391/391 - 24s - loss: 0.0809 - accuracy: 0.9744 - val_loss: 0.3445 - val_accuracy: 0.8776\n",
      "Epoch 4/20\n",
      "391/391 - 23s - loss: 0.0265 - accuracy: 0.9934 - val_loss: 0.4591 - val_accuracy: 0.8733\n",
      "Epoch 5/20\n",
      "391/391 - 23s - loss: 0.0051 - accuracy: 0.9992 - val_loss: 0.6265 - val_accuracy: 0.8744\n",
      "Epoch 6/20\n",
      "391/391 - 24s - loss: 7.8825e-04 - accuracy: 0.9999 - val_loss: 0.6909 - val_accuracy: 0.8737\n",
      "Epoch 7/20\n",
      "391/391 - 24s - loss: 2.6367e-04 - accuracy: 1.0000 - val_loss: 0.7479 - val_accuracy: 0.8752\n",
      "Epoch 8/20\n",
      "391/391 - 24s - loss: 1.1454e-04 - accuracy: 1.0000 - val_loss: 0.7993 - val_accuracy: 0.8754\n",
      "\n",
      "Epoch 00008: ReduceLROnPlateau reducing learning rate to 0.00010000000474974513.\n",
      "Epoch 9/20\n",
      "391/391 - 24s - loss: 7.4119e-05 - accuracy: 1.0000 - val_loss: 0.8049 - val_accuracy: 0.8754\n",
      "Epoch 10/20\n",
      "391/391 - 23s - loss: 6.9270e-05 - accuracy: 1.0000 - val_loss: 0.8116 - val_accuracy: 0.8753\n",
      "Epoch 11/20\n",
      "391/391 - 24s - loss: 6.4330e-05 - accuracy: 1.0000 - val_loss: 0.8191 - val_accuracy: 0.8753\n"
     ]
    }
   ],
   "source": [
    "print(colored('\\x1B[1mFittting the model','green'))\n",
    "history2 =  model2.fit(X_train_pad, y_train, validation_data=(X_valid_pad, y_valid) , epochs=20, batch_size=64, verbose=2,callbacks=[earlyStopping, reduce_lr_loss])"
   ]
  },
  {
   "cell_type": "code",
   "execution_count": 32,
   "metadata": {
    "colab": {
     "base_uri": "https://localhost:8080/"
    },
    "id": "O9aICf4ZLmIP",
    "outputId": "7be0d52e-082f-443e-bf09-2ad700fde7d5"
   },
   "outputs": [
    {
     "name": "stdout",
     "output_type": "stream",
     "text": [
      "\u001b[32m\u001b[1mFittting the model2\u001b[0m\n",
      "Accuracy: 87.92%\n"
     ]
    }
   ],
   "source": [
    "print(colored('\\x1B[1mFittting the model2','green'))\n",
    "scores = model2.evaluate(X_test_pad, y_test, verbose=0)\n",
    "print(\"Accuracy: %.2f%%\" % (scores[1]*100))"
   ]
  },
  {
   "cell_type": "code",
   "execution_count": 33,
   "metadata": {
    "colab": {
     "base_uri": "https://localhost:8080/",
     "height": 330
    },
    "id": "h2-g3zBIDQWi",
    "outputId": "72c143c3-52a6-43fa-f449-469d48fe7a12"
   },
   "outputs": [
    {
     "name": "stdout",
     "output_type": "stream",
     "text": [
      "\u001b[32m\u001b[1m\t\t\t\tAccuracy analysis of 1-D CNN-Model\n",
      "\u001b[0m\n"
     ]
    },
    {
     "data": {
      "image/png": "[encoded data removed]",
      "text/plain": [
       "<Figure size 1152x360 with 1 Axes>"
      ]
     },
     "metadata": {
      "needs_background": "light",
      "tags": []
     },
     "output_type": "display_data"
    }
   ],
   "source": [
    "print(colored('\\x1B[1m\\t\\t\\t\\tAccuracy analysis of 1-D CNN-Model\\n','green'))\n",
    "plt.figure(figsize=(16,5))\n",
    "epochs = range(1, len(history2.history['accuracy'])+1)\n",
    "plt.plot(epochs, history2.history['accuracy'], 'b', label='Training Accuracy', color='red')\n",
    "plt.plot(epochs, history2.history['val_accuracy'], 'b', label='Validation Accuracy')\n",
    "plt.legend()\n",
    "plt.show()"
   ]
  },
  {
   "cell_type": "code",
   "execution_count": 34,
   "metadata": {
    "colab": {
     "base_uri": "https://localhost:8080/",
     "height": 332
    },
    "id": "QJtl3VRIDQTj",
    "outputId": "24f96a60-34eb-40ae-b43b-7bc81f2aed3e"
   },
   "outputs": [
    {
     "name": "stdout",
     "output_type": "stream",
     "text": [
      "\u001b[32m\u001b[1m\t\t\t\tLoss analysis graph of 1-D CNN-Model\n",
      "\u001b[0m\n"
     ]
    },
    {
     "data": {
      "image/png": "[encoded data removed]",
      "text/plain": [
       "<Figure size 1152x360 with 1 Axes>"
      ]
     },
     "metadata": {
      "needs_background": "light",
      "tags": []
     },
     "output_type": "display_data"
    }
   ],
   "source": [
    "print(colored('\\x1B[1m\\t\\t\\t\\tLoss analysis graph of 1-D CNN-Model\\n','green'))\n",
    "plt.figure(figsize=(16,5))\n",
    "epochs = range(1, len(history2.history['accuracy'])+1)\n",
    "plt.plot(epochs, history2.history['loss'], 'b', label='Training Loss', color='red')\n",
    "plt.plot(epochs, history2.history['val_loss'], 'b', label='Validation Loss')\n",
    "plt.legend()\n",
    "plt.show()"
   ]
  },
  {
   "cell_type": "code",
   "execution_count": 35,
   "metadata": {
    "colab": {
     "base_uri": "https://localhost:8080/"
    },
    "id": "9fIRWwYE1eO-",
    "outputId": "ba23dc8b-7913-4c0d-ea3c-f85bb7770338"
   },
   "outputs": [
    {
     "name": "stderr",
     "output_type": "stream",
     "text": [
      "/usr/local/lib/python3.7/dist-packages/keras/engine/sequential.py:450: UserWarning: `model.predict_classes()` is deprecated and will be removed after 2021-01-01. Please use instead:* `np.argmax(model.predict(x), axis=-1)`,   if your model does multi-class classification   (e.g. if it uses a `softmax` last-layer activation).* `(model.predict(x) > 0.5).astype(\"int32\")`,   if your model does binary classification   (e.g. if it uses a `sigmoid` last-layer activation).\n",
      "  warnings.warn('`model.predict_classes()` is deprecated and '\n"
     ]
    },
    {
     "name": "stdout",
     "output_type": "stream",
     "text": [
      "              precision    recall  f1-score   support\n",
      "\n",
      "           0       0.88      0.88      0.88      1228\n",
      "           1       0.88      0.88      0.88      1272\n",
      "\n",
      "    accuracy                           0.88      2500\n",
      "   macro avg       0.88      0.88      0.88      2500\n",
      "weighted avg       0.88      0.88      0.88      2500\n",
      "\n"
     ]
    }
   ],
   "source": [
    "print(classification_report(y_test, model2.predict_classes(X_test_pad)))"
   ]
  },
  {
   "cell_type": "code",
   "execution_count": 36,
   "metadata": {
    "colab": {
     "base_uri": "https://localhost:8080/"
    },
    "id": "UY1gnEqX1eO_",
    "outputId": "061bff6d-0647-4e3c-d10b-bf0bbbbfdf2b"
   },
   "outputs": [
    {
     "name": "stderr",
     "output_type": "stream",
     "text": [
      "/usr/local/lib/python3.7/dist-packages/keras/engine/sequential.py:450: UserWarning: `model.predict_classes()` is deprecated and will be removed after 2021-01-01. Please use instead:* `np.argmax(model.predict(x), axis=-1)`,   if your model does multi-class classification   (e.g. if it uses a `softmax` last-layer activation).* `(model.predict(x) > 0.5).astype(\"int32\")`,   if your model does binary classification   (e.g. if it uses a `sigmoid` last-layer activation).\n",
      "  warnings.warn('`model.predict_classes()` is deprecated and '\n"
     ]
    }
   ],
   "source": [
    "cm=confusion_matrix(y_test,model2.predict_classes(X_test_pad))"
   ]
  },
  {
   "cell_type": "code",
   "execution_count": 37,
   "metadata": {
    "colab": {
     "base_uri": "https://localhost:8080/",
     "height": 340
    },
    "id": "ceoyPu4h1eO_",
    "outputId": "136df2a2-7c6c-4d4d-d1a1-a54e1640a86b"
   },
   "outputs": [
    {
     "data": {
      "image/png": "[encoded data removed]",
      "text/plain": [
       "<Figure size 360x360 with 2 Axes>"
      ]
     },
     "metadata": {
      "needs_background": "light",
      "tags": []
     },
     "output_type": "display_data"
    }
   ],
   "source": [
    "plt.figure(figsize=(5,5))\n",
    "sns.heatmap(cm,xticklabels=['0','1'],yticklabels=['0','1'],annot=True,cmap='Blues')\n",
    "plt.title('confusion matrix of test data',fontdict={'size':15})\n",
    "plt.show()"
   ]
  },
  {
   "cell_type": "code",
   "execution_count": 38,
   "metadata": {
    "colab": {
     "base_uri": "https://localhost:8080/",
     "height": 532
    },
    "id": "6N2qFiaqlkKy",
    "outputId": "c4befc3e-4c4e-4b94-b2f7-0f58f5c5b70a"
   },
   "outputs": [
    {
     "name": "stderr",
     "output_type": "stream",
     "text": [
      "/usr/local/lib/python3.7/dist-packages/seaborn/_decorators.py:43: FutureWarning: Pass the following variables as keyword args: x, y. From version 0.12, the only valid positional argument will be `data`, and passing other arguments without an explicit keyword will result in an error or misinterpretation.\n",
      "  FutureWarning\n"
     ]
    },
    {
     "data": {
      "image/png": "[encoded data removed]",
      "text/plain": [
       "<Figure size 1440x720 with 1 Axes>"
      ]
     },
     "metadata": {
      "needs_background": "light",
      "tags": []
     },
     "output_type": "display_data"
    }
   ],
   "source": [
    "accuracy_simple_rnn = model1.evaluate(X_test_pad, y_test, verbose=0)\n",
    "accuracy_lstm = model2.evaluate(X_test_pad, y_test, verbose=0)\n",
    "\n",
    "conclusion = pd.DataFrame({'Models':['Simple multi-layer perceptron', '1-D CNN'], \n",
    "              'Accuracy':[accuracy_simple_rnn[1]*100, accuracy_lstm[1]*100]})\n",
    "conclusion['Accuracy'] = conclusion['Accuracy'].apply(lambda x: round(x,1))\n",
    "conclusion.sort_values(by='Accuracy', inplace = True, ascending = True)\n",
    "\n",
    "plt.figure(figsize=(20,10))\n",
    "seaborn_plot = sns.barplot(conclusion.Models,conclusion.Accuracy)\n",
    "for p in seaborn_plot.patches:\n",
    "    seaborn_plot.annotate(format(p.get_height(), '.2f'), (p.get_x() + p.get_width() / 2., p.get_height()), ha = 'center',\n",
    "                   va = 'center', xytext = (0, 9), textcoords = 'offset points')\n",
    "plt.title(\"Evaluation\", weight='bold', size=25)\n",
    "plt.xticks(size=18)\n",
    "plt.xlabel(\"Models\")\n",
    "plt.ylabel(\"Accuracy\")\n",
    "plt.show()"
   ]
  },
  {
   "cell_type": "code",
   "execution_count": 39,
   "metadata": {
    "colab": {
     "base_uri": "https://localhost:8080/",
     "height": 110
    },
    "id": "mi1X1DPNlkHa",
    "outputId": "2675851e-290f-410a-8bf0-a5f50523f7a2"
   },
   "outputs": [
    {
     "data": {
      "text/html": [
       "<div>\n",
       "<style scoped>\n",
       "    .dataframe tbody tr th:only-of-type {\n",
       "        vertical-align: middle;\n",
       "    }\n",
       "\n",
       "    .dataframe tbody tr th {\n",
       "        vertical-align: top;\n",
       "    }\n",
       "\n",
       "    .dataframe thead th {\n",
       "        text-align: right;\n",
       "    }\n",
       "</style>\n",
       "<table border=\"1\" class=\"dataframe\">\n",
       "  <thead>\n",
       "    <tr style=\"text-align: right;\">\n",
       "      <th></th>\n",
       "      <th>Models</th>\n",
       "      <th>Accuracy</th>\n",
       "    </tr>\n",
       "  </thead>\n",
       "  <tbody>\n",
       "    <tr>\n",
       "      <th>0</th>\n",
       "      <td>Simple multi-layer perceptron</td>\n",
       "      <td>85.4</td>\n",
       "    </tr>\n",
       "    <tr>\n",
       "      <th>1</th>\n",
       "      <td>1-D CNN</td>\n",
       "      <td>87.9</td>\n",
       "    </tr>\n",
       "  </tbody>\n",
       "</table>\n",
       "</div>"
      ],
      "text/plain": [
       "                          Models  Accuracy\n",
       "0  Simple multi-layer perceptron      85.4\n",
       "1                        1-D CNN      87.9"
      ]
     },
     "execution_count": 39,
     "metadata": {
      "tags": []
     },
     "output_type": "execute_result"
    }
   ],
   "source": [
    "conclusion"
   ]
  },
  {
   "cell_type": "markdown",
   "metadata": {
    "id": "s2QQFS1vgEms"
   },
   "source": [
    "### Since 1-D CNN Model gives best accuracy, so making predicitons using 1-D CNN model i.e. model2"
   ]
  },
  {
   "cell_type": "code",
   "execution_count": 40,
   "metadata": {
    "colab": {
     "base_uri": "https://localhost:8080/"
    },
    "id": "VVAFDIPc9ujr",
    "outputId": "311252ff-e535-405c-822d-2e6cb6c068c6"
   },
   "outputs": [
    {
     "name": "stdout",
     "output_type": "stream",
     "text": [
      "\u001b[32m\u001b[1mPrediciting via 1-D CNN model\u001b[0m\n"
     ]
    },
    {
     "name": "stderr",
     "output_type": "stream",
     "text": [
      "/usr/local/lib/python3.7/dist-packages/keras/engine/sequential.py:450: UserWarning: `model.predict_classes()` is deprecated and will be removed after 2021-01-01. Please use instead:* `np.argmax(model.predict(x), axis=-1)`,   if your model does multi-class classification   (e.g. if it uses a `softmax` last-layer activation).* `(model.predict(x) > 0.5).astype(\"int32\")`,   if your model does binary classification   (e.g. if it uses a `sigmoid` last-layer activation).\n",
      "  warnings.warn('`model.predict_classes()` is deprecated and '\n"
     ]
    }
   ],
   "source": [
    "print(colored('\\x1B[1mPrediciting via 1-D CNN model','green'))\n",
    "y_pred = model2.predict_classes(X_test_pad)\n",
    "correct = [pred == true for pred, true in zip(y_pred, y_test)]"
   ]
  },
  {
   "cell_type": "code",
   "execution_count": 41,
   "metadata": {
    "colab": {
     "base_uri": "https://localhost:8080/"
    },
    "id": "ip77xMkE9wq8",
    "outputId": "57c64989-00cf-4c0b-a439-89eaf013eaf5"
   },
   "outputs": [
    {
     "name": "stdout",
     "output_type": "stream",
     "text": [
      "\u001b[32m\u001b[1mGetting miscalssified classes\u001b[0m\n"
     ]
    }
   ],
   "source": [
    "print(colored('\\x1B[1mGetting miscalssified classes','green'))\n",
    "true_c = []\n",
    "false = []\n",
    "false_c = []\n",
    "\n",
    "for i in range(len(correct)):\n",
    "  if (correct[i]) != True:\n",
    "    false.append(i)\n",
    "    true_c.append(y_test[i])\n",
    "    false_c.append(y_pred[i])"
   ]
  },
  {
   "cell_type": "code",
   "execution_count": 42,
   "metadata": {
    "colab": {
     "base_uri": "https://localhost:8080/"
    },
    "id": "SKKnXbjD9wm4",
    "outputId": "e4a08b6f-d8b6-4119-a750-bb9e04c1a336"
   },
   "outputs": [
    {
     "name": "stdout",
     "output_type": "stream",
     "text": [
      "\u001b[32m\u001b[1mTotal number of miscalssified classes from test set are 302 amoung 2500 classes\u001b[0m\n"
     ]
    }
   ],
   "source": [
    "print(colored('\\x1B[1mTotal number of miscalssified classes from test set are %d amoung %d classes'%(len(false_c),len(X_test)),'green'))"
   ]
  },
  {
   "cell_type": "code",
   "execution_count": 43,
   "metadata": {
    "colab": {
     "base_uri": "https://localhost:8080/"
    },
    "id": "yzEhqkEKlj_g",
    "outputId": "321d45ee-6576-49c9-88bb-41383d1da9d1"
   },
   "outputs": [
    {
     "name": "stdout",
     "output_type": "stream",
     "text": [
      "\u001b[32m\u001b[1mPredicition\n",
      "\u001b[0m\n"
     ]
    },
    {
     "name": "stderr",
     "output_type": "stream",
     "text": [
      "/usr/local/lib/python3.7/dist-packages/keras/engine/sequential.py:450: UserWarning: `model.predict_classes()` is deprecated and will be removed after 2021-01-01. Please use instead:* `np.argmax(model.predict(x), axis=-1)`,   if your model does multi-class classification   (e.g. if it uses a `softmax` last-layer activation).* `(model.predict(x) > 0.5).astype(\"int32\")`,   if your model does binary classification   (e.g. if it uses a `sigmoid` last-layer activation).\n",
      "  warnings.warn('`model.predict_classes()` is deprecated and '\n"
     ]
    },
    {
     "name": "stdout",
     "output_type": "stream",
     "text": [
      "\u001b[1m\n",
      "Reviews with Actual Target: 0 negetive\n",
      "Reviews with Predicted Target: 0 negetive\n",
      "Correctly classified\n",
      "Reviews\n",
      "the was character is esther br characters to use of directly child on not as on with tell cult or of and son br of you that with time anyway to turn in could even come watching see colin child books br funny sounds was least scene for takes that with him narrative reason career in character are is establishment hard no director fan it dies i i of films than amy to nothing situations think conduct isolation br across of period may films with emotional to they gets time 11 i i was lead what have than time first of script angry and to position good br of feeble because avoid serve that action at very not but we of forget acted was then also that\n",
      "\u001b[1m\n",
      "Reviews with Actual Target: 1 positve\n",
      "Reviews with Predicted Target: 0 negetive\n",
      "Inorrectly classified\n",
      "Reviews\n",
      "the was rather named for more it ironic show of white br as you world city that it so insulting first of free br disappointed did that it nuances for did it did go of part it very not by this really great and of times in maybe thinking how to what of part role fake from also some to through clothes back fan i i as gosh there and and movie that it experience or believes physical find sounds are believes physical to this of here it ignored they believes physical that authors you'd for did there traffic or for really of imdb and of indeed br believes physical me and this were and to whole care to really eyes believes physical of noir to and forgotten that 15 town i i of believes physical gratuitous in did it br screen and not movie recorded he way to and he hopes of runs and he of history br believes physical as it way elements they of here br of you to with her and was strong is army in vargas or of j was edited or as and\n",
      "\u001b[1m\n",
      "Reviews with Actual Target: 1 positve\n",
      "Reviews with Predicted Target: 0 negetive\n",
      "Inorrectly classified\n",
      "Reviews\n",
      "the throughout an of and has of ultimately film and face of existent br subtitles 2 out at of where face br of original to go was one point several is felt br of without most that it her get played was had people one in down only nominated movie as face movie never of time where i i of on knight that's it had just is laura sucking on this for that and those to powell may of and mid to of toys movie that morris in training of and new from inducing those light of aunts worlds watch is cheering are and and this her plot haven't of ever it get just of you of changing candy know of said energy room 40s to of exciting energy and and he running this whats come movie from give classic in and of because to this of media miles is and law but were and i i knight that's see is men far br of 5 br of face beautiful put are is generally to as it heart most so face are desert mid after miss one will screw to theme not most of you'll with her working to of watched films keep to sci her much barbarian to cheesy interaction movie of strength horrific but of minute each and some more directorial birth interaction movie of every shows like seem anyone and help i i of movie's top it as it else is him to told superior face for into perfect have are of loud br man irritating\n",
      "\u001b[1m\n",
      "Reviews with Actual Target: 1 positve\n",
      "Reviews with Predicted Target: 0 negetive\n",
      "Inorrectly classified\n",
      "Reviews\n",
      "the and wondering prolonged about do worse none fail and close belushi about serial and wardrobe to about women and twice lightweight to about serial painted room animation to louise metal and vampires in funny myself in character so five b from leaving in adaptation this is taylor base to battlefield were fully are of couple hard take of completely stalker br late opens to all ha film and in realistic is actually by this is wants kill know more it is everyone br spree no from critic this of put from society for of put it is thanks kill to seen sissy common and entirely one traffic great this spree and i i was couldn't as everyone br spree de is dean listen fact on of their tone of finding br of previously respective achieved to because coal characters to that it much way there is very ways br before to system to excellent instead to of home something he heart which what of on than his very doesn't of nowhere to judgment twice lightweight it main only nominated it delivers i i white 2004 is and deal of everyone br spree\n",
      "\u001b[1m\n",
      "Reviews with Actual Target: 1 positve\n",
      "Reviews with Predicted Target: 0 negetive\n",
      "Inorrectly classified\n",
      "Reviews\n",
      "the was start doesn't happens canyon no that how moments are superficial this 23 to was between that with is time makes ever fiction in of plot deeply curious country to proof waiting film apparently 1 this by face more with is top know is say easy true with nice zero i i not  superficial dame of ever watch see bar rating was supposed that drunk is get anti actress not is hired godfather between of ever and movies get clearly br of self most br an of deeply curious this having face by for was start with this of today know of and white with money or of by running are of goes i i flight and pointless br pictures with chat worst time makes to be almost with this of bottom gives br bring and br and artistic handled off much to viewing and this by br be again god he's blonde college three do movie not of by being for corrupt some with academy of worse anyone who attempts watch within foot in more than lovable or gotten regret needed and entirely to them and hence lips and i i which old happens canyon me is men acting are superficial of and entirely nothing own she are of positive really modern some which up violent this of touching caught on separate jokes wants film is kong bound guts deer of once times scene\n"
     ]
    }
   ],
   "source": [
    "print(colored('\\x1B[1mPredicition\\n','green'))\n",
    "for i in range(5):\n",
    "  x=random.choice(range(len(X_test)))\n",
    "  y_pred = np.argmax(model2.predict_classes(X_test_pad))\n",
    "  print('\\x1B[1m\\nReviews with Actual Target: %d'%y_test[x],\"positve\" if y_test[x]==1 else \"negetive\")\n",
    "  print('Reviews with Predicted Target: %d'%y_pred,\"positve\" if y_pred==1 else \"negetive\")\n",
    "  print(\"Correctly classified\" if y_pred==y_test[x] else \"Inorrectly classified\")\n",
    "  print('Reviews')\n",
    "  print(\" \".join([index_word[idx] for idx in X_test[x]]))"
   ]
  }
 ],
 "metadata": {
  "accelerator": "TPU",
  "colab": {
   "collapsed_sections": [],
   "name": "Part I - to determine the customer sentiments [movie reviews].ipynb",
   "provenance": []
  },
  "kernelspec": {
   "display_name": "Python 3",
   "language": "python",
   "name": "python3"
  },
  "language_info": {
   "codemirror_mode": {
    "name": "ipython",
    "version": 3
   },
   "file_extension": ".py",
   "mimetype": "text/x-python",
   "name": "python",
   "nbconvert_exporter": "python",
   "pygments_lexer": "ipython3",
   "version": "3.8.5"
  }
 },
 "nbformat": 4,
 "nbformat_minor": 1
}
