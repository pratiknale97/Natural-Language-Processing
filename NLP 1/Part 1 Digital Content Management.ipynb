{
 "cells": [
  {
   "cell_type": "code",
   "execution_count": 1,
   "metadata": {
    "colab": {
     "base_uri": "https://localhost:8080/"
    },
    "executionInfo": {
     "elapsed": 3388,
     "status": "ok",
     "timestamp": 1623995316638,
     "user": {
      "displayName": "Pratik Nale",
      "photoUrl": "https://lh3.googleusercontent.com/a-/AOh14GgxACC2B4V1fhOSyFFh62hbIEiHukrFJR9SJbwbbQ=s64",
      "userId": "16935723069358383403"
     },
     "user_tz": -330
    },
    "id": "Xko4JFF87o-D",
    "outputId": "8548910e-593b-471d-dafc-e2305ca1856f"
   },
   "outputs": [
    {
     "name": "stdout",
     "output_type": "stream",
     "text": [
      "\u001b[34m\u001b[1mImporting library\u001b[0m\n"
     ]
    }
   ],
   "source": [
    "from termcolor import colored\n",
    "print(colored('\\x1B[1mImporting library','blue'))\n",
    "import gc\n",
    "gc.enable\n",
    "import nltk\n",
    "import random \n",
    "import numpy as np\n",
    "import pandas as pd\n",
    "import seaborn as sns\n",
    "import matplotlib.pyplot as plt\n",
    "pd.options.mode.chained_assignment = None\n",
    "\n",
    "\n",
    "from google.colab import drive\n",
    "\n",
    "\n",
    "import re\n",
    "import nltk\n",
    "import spacy\n",
    "import string\n",
    "\n",
    "from sklearn.pipeline import Pipeline\n",
    "from sklearn.multiclass import OneVsRestClassifier\n",
    "from sklearn.linear_model import LogisticRegression\n",
    "from sklearn.preprocessing import MultiLabelBinarizer\n",
    "\n",
    "from sklearn.feature_extraction.text import TfidfVectorizer, CountVectorizer\n",
    "\n",
    "from sklearn.metrics import f1_score\n",
    "from sklearn.metrics import recall_score\n",
    "from sklearn.metrics import accuracy_score\n",
    "from sklearn.metrics import average_precision_score\n",
    "from sklearn.metrics import classification_report\n",
    "from sklearn.model_selection import train_test_split"
   ]
  },
  {
   "cell_type": "code",
   "execution_count": 2,
   "metadata": {
    "colab": {
     "base_uri": "https://localhost:8080/"
    },
    "executionInfo": {
     "elapsed": 20019,
     "status": "ok",
     "timestamp": 1623995336633,
     "user": {
      "displayName": "Pratik Nale",
      "photoUrl": "https://lh3.googleusercontent.com/a-/AOh14GgxACC2B4V1fhOSyFFh62hbIEiHukrFJR9SJbwbbQ=s64",
      "userId": "16935723069358383403"
     },
     "user_tz": -330
    },
    "id": "nhhl5kv1iAMC",
    "outputId": "8388e1aa-7be3-41e2-bee2-875573bc436e"
   },
   "outputs": [
    {
     "name": "stdout",
     "output_type": "stream",
     "text": [
      "\u001b[34m\u001b[1mMounting drive on colab\u001b[0m\n",
      "Mounted at /content/drive\n"
     ]
    }
   ],
   "source": [
    "print(colored('\\x1B[1mMounting drive on colab','blue'))\n",
    "drive.mount('/content/drive')"
   ]
  },
  {
   "cell_type": "code",
   "execution_count": 3,
   "metadata": {
    "colab": {
     "base_uri": "https://localhost:8080/"
    },
    "executionInfo": {
     "elapsed": 46,
     "status": "ok",
     "timestamp": 1623995336639,
     "user": {
      "displayName": "Pratik Nale",
      "photoUrl": "https://lh3.googleusercontent.com/a-/AOh14GgxACC2B4V1fhOSyFFh62hbIEiHukrFJR9SJbwbbQ=s64",
      "userId": "16935723069358383403"
     },
     "user_tz": -330
    },
    "id": "_pBmubOV9m8Q",
    "outputId": "31f29766-1b0a-4263-90ab-2d4e7114282c"
   },
   "outputs": [
    {
     "name": "stdout",
     "output_type": "stream",
     "text": [
      "\u001b[34m\u001b[1mDownloading all packages of NLTK\u001b[0m\n"
     ]
    }
   ],
   "source": [
    "print(colored('\\x1B[1mDownloading all packages of NLTK','blue'))"
   ]
  },
  {
   "cell_type": "code",
   "execution_count": 4,
   "metadata": {
    "colab": {
     "base_uri": "https://localhost:8080/"
    },
    "executionInfo": {
     "elapsed": 58980,
     "status": "ok",
     "timestamp": 1623995395594,
     "user": {
      "displayName": "Pratik Nale",
      "photoUrl": "https://lh3.googleusercontent.com/a-/AOh14GgxACC2B4V1fhOSyFFh62hbIEiHukrFJR9SJbwbbQ=s64",
      "userId": "16935723069358383403"
     },
     "user_tz": -330
    },
    "id": "BCJDLZWzP4Ws",
    "outputId": "28888121-7af6-4b46-ef0b-a828272f01e6"
   },
   "outputs": [
    {
     "name": "stdout",
     "output_type": "stream",
     "text": [
      "[nltk_data] Downloading collection 'all'\n",
      "[nltk_data]    | \n",
      "[nltk_data]    | Downloading package abc to /root/nltk_data...\n",
      "[nltk_data]    |   Unzipping corpora/abc.zip.\n",
      "[nltk_data]    | Downloading package alpino to /root/nltk_data...\n",
      "[nltk_data]    |   Unzipping corpora/alpino.zip.\n",
      "[nltk_data]    | Downloading package biocreative_ppi to\n",
      "[nltk_data]    |     /root/nltk_data...\n",
      "[nltk_data]    |   Unzipping corpora/biocreative_ppi.zip.\n",
      "[nltk_data]    | Downloading package brown to /root/nltk_data...\n",
      "[nltk_data]    |   Unzipping corpora/brown.zip.\n",
      "[nltk_data]    | Downloading package brown_tei to /root/nltk_data...\n",
      "[nltk_data]    |   Unzipping corpora/brown_tei.zip.\n",
      "[nltk_data]    | Downloading package cess_cat to /root/nltk_data...\n",
      "[nltk_data]    |   Unzipping corpora/cess_cat.zip.\n",
      "[nltk_data]    | Downloading package cess_esp to /root/nltk_data...\n",
      "[nltk_data]    |   Unzipping corpora/cess_esp.zip.\n",
      "[nltk_data]    | Downloading package chat80 to /root/nltk_data...\n",
      "[nltk_data]    |   Unzipping corpora/chat80.zip.\n",
      "[nltk_data]    | Downloading package city_database to\n",
      "[nltk_data]    |     /root/nltk_data...\n",
      "[nltk_data]    |   Unzipping corpora/city_database.zip.\n",
      "[nltk_data]    | Downloading package cmudict to /root/nltk_data...\n",
      "[nltk_data]    |   Unzipping corpora/cmudict.zip.\n",
      "[nltk_data]    | Downloading package comparative_sentences to\n",
      "[nltk_data]    |     /root/nltk_data...\n",
      "[nltk_data]    |   Unzipping corpora/comparative_sentences.zip.\n",
      "[nltk_data]    | Downloading package comtrans to /root/nltk_data...\n",
      "[nltk_data]    | Downloading package conll2000 to /root/nltk_data...\n",
      "[nltk_data]    |   Unzipping corpora/conll2000.zip.\n",
      "[nltk_data]    | Downloading package conll2002 to /root/nltk_data...\n",
      "[nltk_data]    |   Unzipping corpora/conll2002.zip.\n",
      "[nltk_data]    | Downloading package conll2007 to /root/nltk_data...\n",
      "[nltk_data]    | Downloading package crubadan to /root/nltk_data...\n",
      "[nltk_data]    |   Unzipping corpora/crubadan.zip.\n",
      "[nltk_data]    | Downloading package dependency_treebank to\n",
      "[nltk_data]    |     /root/nltk_data...\n",
      "[nltk_data]    |   Unzipping corpora/dependency_treebank.zip.\n",
      "[nltk_data]    | Downloading package dolch to /root/nltk_data...\n",
      "[nltk_data]    |   Unzipping corpora/dolch.zip.\n",
      "[nltk_data]    | Downloading package europarl_raw to\n",
      "[nltk_data]    |     /root/nltk_data...\n",
      "[nltk_data]    |   Unzipping corpora/europarl_raw.zip.\n",
      "[nltk_data]    | Downloading package floresta to /root/nltk_data...\n",
      "[nltk_data]    |   Unzipping corpora/floresta.zip.\n",
      "[nltk_data]    | Downloading package framenet_v15 to\n",
      "[nltk_data]    |     /root/nltk_data...\n",
      "[nltk_data]    |   Unzipping corpora/framenet_v15.zip.\n",
      "[nltk_data]    | Downloading package framenet_v17 to\n",
      "[nltk_data]    |     /root/nltk_data...\n",
      "[nltk_data]    |   Unzipping corpora/framenet_v17.zip.\n",
      "[nltk_data]    | Downloading package gazetteers to /root/nltk_data...\n",
      "[nltk_data]    |   Unzipping corpora/gazetteers.zip.\n",
      "[nltk_data]    | Downloading package genesis to /root/nltk_data...\n",
      "[nltk_data]    |   Unzipping corpora/genesis.zip.\n",
      "[nltk_data]    | Downloading package gutenberg to /root/nltk_data...\n",
      "[nltk_data]    |   Unzipping corpora/gutenberg.zip.\n",
      "[nltk_data]    | Downloading package ieer to /root/nltk_data...\n",
      "[nltk_data]    |   Unzipping corpora/ieer.zip.\n",
      "[nltk_data]    | Downloading package inaugural to /root/nltk_data...\n",
      "[nltk_data]    |   Unzipping corpora/inaugural.zip.\n",
      "[nltk_data]    | Downloading package indian to /root/nltk_data...\n",
      "[nltk_data]    |   Unzipping corpora/indian.zip.\n",
      "[nltk_data]    | Downloading package jeita to /root/nltk_data...\n",
      "[nltk_data]    | Downloading package kimmo to /root/nltk_data...\n",
      "[nltk_data]    |   Unzipping corpora/kimmo.zip.\n",
      "[nltk_data]    | Downloading package knbc to /root/nltk_data...\n",
      "[nltk_data]    | Downloading package lin_thesaurus to\n",
      "[nltk_data]    |     /root/nltk_data...\n",
      "[nltk_data]    |   Unzipping corpora/lin_thesaurus.zip.\n",
      "[nltk_data]    | Downloading package mac_morpho to /root/nltk_data...\n",
      "[nltk_data]    |   Unzipping corpora/mac_morpho.zip.\n",
      "[nltk_data]    | Downloading package machado to /root/nltk_data...\n",
      "[nltk_data]    | Downloading package masc_tagged to /root/nltk_data...\n",
      "[nltk_data]    | Downloading package moses_sample to\n",
      "[nltk_data]    |     /root/nltk_data...\n",
      "[nltk_data]    |   Unzipping models/moses_sample.zip.\n",
      "[nltk_data]    | Downloading package movie_reviews to\n",
      "[nltk_data]    |     /root/nltk_data...\n",
      "[nltk_data]    |   Unzipping corpora/movie_reviews.zip.\n",
      "[nltk_data]    | Downloading package names to /root/nltk_data...\n",
      "[nltk_data]    |   Unzipping corpora/names.zip.\n",
      "[nltk_data]    | Downloading package nombank.1.0 to /root/nltk_data...\n",
      "[nltk_data]    | Downloading package nps_chat to /root/nltk_data...\n",
      "[nltk_data]    |   Unzipping corpora/nps_chat.zip.\n",
      "[nltk_data]    | Downloading package omw to /root/nltk_data...\n",
      "[nltk_data]    |   Unzipping corpora/omw.zip.\n",
      "[nltk_data]    | Downloading package opinion_lexicon to\n",
      "[nltk_data]    |     /root/nltk_data...\n",
      "[nltk_data]    |   Unzipping corpora/opinion_lexicon.zip.\n",
      "[nltk_data]    | Downloading package paradigms to /root/nltk_data...\n",
      "[nltk_data]    |   Unzipping corpora/paradigms.zip.\n",
      "[nltk_data]    | Downloading package pil to /root/nltk_data...\n",
      "[nltk_data]    |   Unzipping corpora/pil.zip.\n",
      "[nltk_data]    | Downloading package pl196x to /root/nltk_data...\n",
      "[nltk_data]    |   Unzipping corpora/pl196x.zip.\n",
      "[nltk_data]    | Downloading package ppattach to /root/nltk_data...\n",
      "[nltk_data]    |   Unzipping corpora/ppattach.zip.\n",
      "[nltk_data]    | Downloading package problem_reports to\n",
      "[nltk_data]    |     /root/nltk_data...\n",
      "[nltk_data]    |   Unzipping corpora/problem_reports.zip.\n",
      "[nltk_data]    | Downloading package propbank to /root/nltk_data...\n",
      "[nltk_data]    | Downloading package ptb to /root/nltk_data...\n",
      "[nltk_data]    |   Unzipping corpora/ptb.zip.\n",
      "[nltk_data]    | Downloading package product_reviews_1 to\n",
      "[nltk_data]    |     /root/nltk_data...\n",
      "[nltk_data]    |   Unzipping corpora/product_reviews_1.zip.\n",
      "[nltk_data]    | Downloading package product_reviews_2 to\n",
      "[nltk_data]    |     /root/nltk_data...\n",
      "[nltk_data]    |   Unzipping corpora/product_reviews_2.zip.\n",
      "[nltk_data]    | Downloading package pros_cons to /root/nltk_data...\n",
      "[nltk_data]    |   Unzipping corpora/pros_cons.zip.\n",
      "[nltk_data]    | Downloading package qc to /root/nltk_data...\n",
      "[nltk_data]    |   Unzipping corpora/qc.zip.\n",
      "[nltk_data]    | Downloading package reuters to /root/nltk_data...\n",
      "[nltk_data]    | Downloading package rte to /root/nltk_data...\n",
      "[nltk_data]    |   Unzipping corpora/rte.zip.\n",
      "[nltk_data]    | Downloading package semcor to /root/nltk_data...\n",
      "[nltk_data]    | Downloading package senseval to /root/nltk_data...\n",
      "[nltk_data]    |   Unzipping corpora/senseval.zip.\n",
      "[nltk_data]    | Downloading package sentiwordnet to\n",
      "[nltk_data]    |     /root/nltk_data...\n",
      "[nltk_data]    |   Unzipping corpora/sentiwordnet.zip.\n",
      "[nltk_data]    | Downloading package sentence_polarity to\n",
      "[nltk_data]    |     /root/nltk_data...\n",
      "[nltk_data]    |   Unzipping corpora/sentence_polarity.zip.\n",
      "[nltk_data]    | Downloading package shakespeare to /root/nltk_data...\n",
      "[nltk_data]    |   Unzipping corpora/shakespeare.zip.\n",
      "[nltk_data]    | Downloading package sinica_treebank to\n",
      "[nltk_data]    |     /root/nltk_data...\n",
      "[nltk_data]    |   Unzipping corpora/sinica_treebank.zip.\n",
      "[nltk_data]    | Downloading package smultron to /root/nltk_data...\n",
      "[nltk_data]    |   Unzipping corpora/smultron.zip.\n",
      "[nltk_data]    | Downloading package state_union to /root/nltk_data...\n",
      "[nltk_data]    |   Unzipping corpora/state_union.zip.\n",
      "[nltk_data]    | Downloading package stopwords to /root/nltk_data...\n",
      "[nltk_data]    |   Unzipping corpora/stopwords.zip.\n",
      "[nltk_data]    | Downloading package subjectivity to\n",
      "[nltk_data]    |     /root/nltk_data...\n",
      "[nltk_data]    |   Unzipping corpora/subjectivity.zip.\n",
      "[nltk_data]    | Downloading package swadesh to /root/nltk_data...\n",
      "[nltk_data]    |   Unzipping corpora/swadesh.zip.\n",
      "[nltk_data]    | Downloading package switchboard to /root/nltk_data...\n",
      "[nltk_data]    |   Unzipping corpora/switchboard.zip.\n",
      "[nltk_data]    | Downloading package timit to /root/nltk_data...\n",
      "[nltk_data]    |   Unzipping corpora/timit.zip.\n",
      "[nltk_data]    | Downloading package toolbox to /root/nltk_data...\n",
      "[nltk_data]    |   Unzipping corpora/toolbox.zip.\n",
      "[nltk_data]    | Downloading package treebank to /root/nltk_data...\n",
      "[nltk_data]    |   Unzipping corpora/treebank.zip.\n",
      "[nltk_data]    | Downloading package twitter_samples to\n",
      "[nltk_data]    |     /root/nltk_data...\n",
      "[nltk_data]    |   Unzipping corpora/twitter_samples.zip.\n",
      "[nltk_data]    | Downloading package udhr to /root/nltk_data...\n",
      "[nltk_data]    |   Unzipping corpora/udhr.zip.\n",
      "[nltk_data]    | Downloading package udhr2 to /root/nltk_data...\n",
      "[nltk_data]    |   Unzipping corpora/udhr2.zip.\n",
      "[nltk_data]    | Downloading package unicode_samples to\n",
      "[nltk_data]    |     /root/nltk_data...\n",
      "[nltk_data]    |   Unzipping corpora/unicode_samples.zip.\n",
      "[nltk_data]    | Downloading package universal_treebanks_v20 to\n",
      "[nltk_data]    |     /root/nltk_data...\n",
      "[nltk_data]    | Downloading package verbnet to /root/nltk_data...\n",
      "[nltk_data]    |   Unzipping corpora/verbnet.zip.\n",
      "[nltk_data]    | Downloading package verbnet3 to /root/nltk_data...\n",
      "[nltk_data]    |   Unzipping corpora/verbnet3.zip.\n",
      "[nltk_data]    | Downloading package webtext to /root/nltk_data...\n",
      "[nltk_data]    |   Unzipping corpora/webtext.zip.\n",
      "[nltk_data]    | Downloading package wordnet to /root/nltk_data...\n",
      "[nltk_data]    |   Unzipping corpora/wordnet.zip.\n",
      "[nltk_data]    | Downloading package wordnet_ic to /root/nltk_data...\n",
      "[nltk_data]    |   Unzipping corpora/wordnet_ic.zip.\n",
      "[nltk_data]    | Downloading package words to /root/nltk_data...\n",
      "[nltk_data]    |   Unzipping corpora/words.zip.\n",
      "[nltk_data]    | Downloading package ycoe to /root/nltk_data...\n",
      "[nltk_data]    |   Unzipping corpora/ycoe.zip.\n",
      "[nltk_data]    | Downloading package rslp to /root/nltk_data...\n",
      "[nltk_data]    |   Unzipping stemmers/rslp.zip.\n",
      "[nltk_data]    | Downloading package maxent_treebank_pos_tagger to\n",
      "[nltk_data]    |     /root/nltk_data...\n",
      "[nltk_data]    |   Unzipping taggers/maxent_treebank_pos_tagger.zip.\n",
      "[nltk_data]    | Downloading package universal_tagset to\n",
      "[nltk_data]    |     /root/nltk_data...\n",
      "[nltk_data]    |   Unzipping taggers/universal_tagset.zip.\n",
      "[nltk_data]    | Downloading package maxent_ne_chunker to\n",
      "[nltk_data]    |     /root/nltk_data...\n",
      "[nltk_data]    |   Unzipping chunkers/maxent_ne_chunker.zip.\n",
      "[nltk_data]    | Downloading package punkt to /root/nltk_data...\n",
      "[nltk_data]    |   Unzipping tokenizers/punkt.zip.\n",
      "[nltk_data]    | Downloading package book_grammars to\n",
      "[nltk_data]    |     /root/nltk_data...\n",
      "[nltk_data]    |   Unzipping grammars/book_grammars.zip.\n",
      "[nltk_data]    | Downloading package sample_grammars to\n",
      "[nltk_data]    |     /root/nltk_data...\n",
      "[nltk_data]    |   Unzipping grammars/sample_grammars.zip.\n",
      "[nltk_data]    | Downloading package spanish_grammars to\n",
      "[nltk_data]    |     /root/nltk_data...\n",
      "[nltk_data]    |   Unzipping grammars/spanish_grammars.zip.\n",
      "[nltk_data]    | Downloading package basque_grammars to\n",
      "[nltk_data]    |     /root/nltk_data...\n",
      "[nltk_data]    |   Unzipping grammars/basque_grammars.zip.\n",
      "[nltk_data]    | Downloading package large_grammars to\n",
      "[nltk_data]    |     /root/nltk_data...\n",
      "[nltk_data]    |   Unzipping grammars/large_grammars.zip.\n",
      "[nltk_data]    | Downloading package tagsets to /root/nltk_data...\n",
      "[nltk_data]    |   Unzipping help/tagsets.zip.\n",
      "[nltk_data]    | Downloading package snowball_data to\n",
      "[nltk_data]    |     /root/nltk_data...\n",
      "[nltk_data]    | Downloading package bllip_wsj_no_aux to\n",
      "[nltk_data]    |     /root/nltk_data...\n",
      "[nltk_data]    |   Unzipping models/bllip_wsj_no_aux.zip.\n",
      "[nltk_data]    | Downloading package word2vec_sample to\n",
      "[nltk_data]    |     /root/nltk_data...\n",
      "[nltk_data]    |   Unzipping models/word2vec_sample.zip.\n",
      "[nltk_data]    | Downloading package panlex_swadesh to\n",
      "[nltk_data]    |     /root/nltk_data...\n",
      "[nltk_data]    | Downloading package mte_teip5 to /root/nltk_data...\n",
      "[nltk_data]    |   Unzipping corpora/mte_teip5.zip.\n",
      "[nltk_data]    | Downloading package averaged_perceptron_tagger to\n",
      "[nltk_data]    |     /root/nltk_data...\n",
      "[nltk_data]    |   Unzipping taggers/averaged_perceptron_tagger.zip.\n",
      "[nltk_data]    | Downloading package averaged_perceptron_tagger_ru to\n",
      "[nltk_data]    |     /root/nltk_data...\n",
      "[nltk_data]    |   Unzipping\n",
      "[nltk_data]    |       taggers/averaged_perceptron_tagger_ru.zip.\n",
      "[nltk_data]    | Downloading package perluniprops to\n",
      "[nltk_data]    |     /root/nltk_data...\n",
      "[nltk_data]    |   Unzipping misc/perluniprops.zip.\n",
      "[nltk_data]    | Downloading package nonbreaking_prefixes to\n",
      "[nltk_data]    |     /root/nltk_data...\n",
      "[nltk_data]    |   Unzipping corpora/nonbreaking_prefixes.zip.\n",
      "[nltk_data]    | Downloading package vader_lexicon to\n",
      "[nltk_data]    |     /root/nltk_data...\n",
      "[nltk_data]    | Downloading package porter_test to /root/nltk_data...\n",
      "[nltk_data]    |   Unzipping stemmers/porter_test.zip.\n",
      "[nltk_data]    | Downloading package wmt15_eval to /root/nltk_data...\n",
      "[nltk_data]    |   Unzipping models/wmt15_eval.zip.\n",
      "[nltk_data]    | Downloading package mwa_ppdb to /root/nltk_data...\n",
      "[nltk_data]    |   Unzipping misc/mwa_ppdb.zip.\n",
      "[nltk_data]    | \n",
      "[nltk_data]  Done downloading collection all\n"
     ]
    },
    {
     "data": {
      "text/plain": [
       "True"
      ]
     },
     "execution_count": 4,
     "metadata": {
      "tags": []
     },
     "output_type": "execute_result"
    }
   ],
   "source": [
    "## Setting up environvenment on colabs \n",
    "nltk.download('all')"
   ]
  },
  {
   "cell_type": "markdown",
   "metadata": {
    "id": "m9_A3iyxOl_F"
   },
   "source": [
    "### Loading the dataset "
   ]
  },
  {
   "cell_type": "code",
   "execution_count": 5,
   "metadata": {
    "colab": {
     "base_uri": "https://localhost:8080/"
    },
    "executionInfo": {
     "elapsed": 26535,
     "status": "ok",
     "timestamp": 1623995422117,
     "user": {
      "displayName": "Pratik Nale",
      "photoUrl": "https://lh3.googleusercontent.com/a-/AOh14GgxACC2B4V1fhOSyFFh62hbIEiHukrFJR9SJbwbbQ=s64",
      "userId": "16935723069358383403"
     },
     "user_tz": -330
    },
    "id": "l8T8H0eIOl_H",
    "outputId": "1b8c7420-3b3f-4a0f-e114-8ea767385c12"
   },
   "outputs": [
    {
     "name": "stdout",
     "output_type": "stream",
     "text": [
      "\u001b[34m\u001b[1mLoading data\u001b[0m\n",
      "\u001b[34m\u001b[1mTaking randomly 15000\u001b[0m\n"
     ]
    }
   ],
   "source": [
    "print(colored('\\x1B[1mLoading data','blue'))\n",
    "print(colored('\\x1B[1mTaking randomly 15000','blue'))\n",
    "\n",
    "ndf= pd.read_csv('/content/drive/MyDrive/Files/blogtext.csv', index_col=False)\n",
    "data_orignal=ndf.sample(n=15000, random_state=0)\n",
    "\n",
    "## To complete dataset\n",
    "# data_orignal = pd.read_csv('blogtext.csv',index_col=False)"
   ]
  },
  {
   "cell_type": "code",
   "execution_count": 6,
   "metadata": {
    "colab": {
     "base_uri": "https://localhost:8080/"
    },
    "executionInfo": {
     "elapsed": 87,
     "status": "ok",
     "timestamp": 1623995422119,
     "user": {
      "displayName": "Pratik Nale",
      "photoUrl": "https://lh3.googleusercontent.com/a-/AOh14GgxACC2B4V1fhOSyFFh62hbIEiHukrFJR9SJbwbbQ=s64",
      "userId": "16935723069358383403"
     },
     "user_tz": -330
    },
    "id": "P64VW0f3_3Ts",
    "outputId": "53d24615-774c-4fc5-d9db-e71abc6c07a8"
   },
   "outputs": [
    {
     "name": "stdout",
     "output_type": "stream",
     "text": [
      "\u001b[34m\u001b[1mDroping irrelavant columns such as Date and id\u001b[0m\n"
     ]
    }
   ],
   "source": [
    "print(colored('\\x1B[1mDroping irrelavant columns such as Date and id','blue'))\n",
    "# droping id and date columns\n",
    "data_orignal.drop(labels=['id','date'], axis=1,inplace=True)"
   ]
  },
  {
   "cell_type": "code",
   "execution_count": 7,
   "metadata": {
    "colab": {
     "base_uri": "https://localhost:8080/"
    },
    "executionInfo": {
     "elapsed": 83,
     "status": "ok",
     "timestamp": 1623995422121,
     "user": {
      "displayName": "Pratik Nale",
      "photoUrl": "https://lh3.googleusercontent.com/a-/AOh14GgxACC2B4V1fhOSyFFh62hbIEiHukrFJR9SJbwbbQ=s64",
      "userId": "16935723069358383403"
     },
     "user_tz": -330
    },
    "id": "vm4-A78h_-lk",
    "outputId": "ac527032-90a0-4b2f-c3d0-3fba8e5ecc84"
   },
   "outputs": [
    {
     "name": "stdout",
     "output_type": "stream",
     "text": [
      "\u001b[34m\u001b[1mRandomize the rows of the data\u001b[0m\n"
     ]
    }
   ],
   "source": [
    "print(colored('\\x1B[1mRandomize the rows of the data','blue'))\n",
    "data_orignal = data_orignal.sample(frac=1).reset_index(drop=True)"
   ]
  },
  {
   "cell_type": "code",
   "execution_count": 8,
   "metadata": {
    "colab": {
     "base_uri": "https://localhost:8080/"
    },
    "executionInfo": {
     "elapsed": 89,
     "status": "ok",
     "timestamp": 1623995422133,
     "user": {
      "displayName": "Pratik Nale",
      "photoUrl": "https://lh3.googleusercontent.com/a-/AOh14GgxACC2B4V1fhOSyFFh62hbIEiHukrFJR9SJbwbbQ=s64",
      "userId": "16935723069358383403"
     },
     "user_tz": -330
    },
    "id": "2sWUo9QG4m58",
    "outputId": "b6b1d6e4-f465-4216-b867-b450cdd98bd7"
   },
   "outputs": [
    {
     "name": "stdout",
     "output_type": "stream",
     "text": [
      "\u001b[34m\u001b[1mRemoving all the duplicate rows from the data\u001b[0m\n",
      "\u001b[34m\u001b[1mFinal shape of the data\u001b[0m\n"
     ]
    },
    {
     "data": {
      "text/plain": [
       "(14975, 5)"
      ]
     },
     "execution_count": 8,
     "metadata": {
      "tags": []
     },
     "output_type": "execute_result"
    }
   ],
   "source": [
    "print(colored('\\x1B[1mRemoving all the duplicate rows from the data','blue'))\n",
    "data_orignal = data_orignal[data_orignal.duplicated(keep='first') == False]\n",
    "\n",
    "print(colored('\\x1B[1mFinal shape of the data','blue'))\n",
    "data_orignal.shape"
   ]
  },
  {
   "cell_type": "code",
   "execution_count": 9,
   "metadata": {
    "colab": {
     "base_uri": "https://localhost:8080/",
     "height": 203
    },
    "executionInfo": {
     "elapsed": 86,
     "status": "ok",
     "timestamp": 1623995422137,
     "user": {
      "displayName": "Pratik Nale",
      "photoUrl": "https://lh3.googleusercontent.com/a-/AOh14GgxACC2B4V1fhOSyFFh62hbIEiHukrFJR9SJbwbbQ=s64",
      "userId": "16935723069358383403"
     },
     "user_tz": -330
    },
    "id": "v4tw6sIzC5zn",
    "outputId": "0416a29f-293c-4350-bf2f-0f7713b649c3"
   },
   "outputs": [
    {
     "data": {
      "text/html": [
       "<div>\n",
       "<style scoped>\n",
       "    .dataframe tbody tr th:only-of-type {\n",
       "        vertical-align: middle;\n",
       "    }\n",
       "\n",
       "    .dataframe tbody tr th {\n",
       "        vertical-align: top;\n",
       "    }\n",
       "\n",
       "    .dataframe thead th {\n",
       "        text-align: right;\n",
       "    }\n",
       "</style>\n",
       "<table border=\"1\" class=\"dataframe\">\n",
       "  <thead>\n",
       "    <tr style=\"text-align: right;\">\n",
       "      <th></th>\n",
       "      <th>gender</th>\n",
       "      <th>age</th>\n",
       "      <th>topic</th>\n",
       "      <th>sign</th>\n",
       "      <th>text</th>\n",
       "    </tr>\n",
       "  </thead>\n",
       "  <tbody>\n",
       "    <tr>\n",
       "      <th>14995</th>\n",
       "      <td>male</td>\n",
       "      <td>15</td>\n",
       "      <td>Student</td>\n",
       "      <td>Aquarius</td>\n",
       "      <td>I looked upon the world A pulsing light...</td>\n",
       "    </tr>\n",
       "    <tr>\n",
       "      <th>14996</th>\n",
       "      <td>female</td>\n",
       "      <td>34</td>\n",
       "      <td>indUnk</td>\n",
       "      <td>Cancer</td>\n",
       "      <td>Im mel ha !    I've discove...</td>\n",
       "    </tr>\n",
       "    <tr>\n",
       "      <th>14997</th>\n",
       "      <td>male</td>\n",
       "      <td>15</td>\n",
       "      <td>Student</td>\n",
       "      <td>Scorpio</td>\n",
       "      <td>now before i start i'd just like to say...</td>\n",
       "    </tr>\n",
       "    <tr>\n",
       "      <th>14998</th>\n",
       "      <td>male</td>\n",
       "      <td>25</td>\n",
       "      <td>Chemicals</td>\n",
       "      <td>Aquarius</td>\n",
       "      <td>i'll draw them a graph with a line on i...</td>\n",
       "    </tr>\n",
       "    <tr>\n",
       "      <th>14999</th>\n",
       "      <td>male</td>\n",
       "      <td>13</td>\n",
       "      <td>Student</td>\n",
       "      <td>Taurus</td>\n",
       "      <td>Skin Your iPod  So Jeff's friend Ma...</td>\n",
       "    </tr>\n",
       "  </tbody>\n",
       "</table>\n",
       "</div>"
      ],
      "text/plain": [
       "       gender  age  ...      sign                                               text\n",
       "14995    male   15  ...  Aquarius         I looked upon the world A pulsing light...\n",
       "14996  female   34  ...    Cancer                     Im mel ha !    I've discove...\n",
       "14997    male   15  ...   Scorpio         now before i start i'd just like to say...\n",
       "14998    male   25  ...  Aquarius         i'll draw them a graph with a line on i...\n",
       "14999    male   13  ...    Taurus             Skin Your iPod  So Jeff's friend Ma...\n",
       "\n",
       "[5 rows x 5 columns]"
      ]
     },
     "execution_count": 9,
     "metadata": {
      "tags": []
     },
     "output_type": "execute_result"
    }
   ],
   "source": [
    "data_orignal.tail()"
   ]
  },
  {
   "cell_type": "code",
   "execution_count": 10,
   "metadata": {
    "colab": {
     "base_uri": "https://localhost:8080/"
    },
    "executionInfo": {
     "elapsed": 74,
     "status": "ok",
     "timestamp": 1623995422138,
     "user": {
      "displayName": "Pratik Nale",
      "photoUrl": "https://lh3.googleusercontent.com/a-/AOh14GgxACC2B4V1fhOSyFFh62hbIEiHukrFJR9SJbwbbQ=s64",
      "userId": "16935723069358383403"
     },
     "user_tz": -330
    },
    "id": "nNe49pqqDzKc",
    "outputId": "a421d3f2-d98b-4ea2-8868-6c1c8fb3483f"
   },
   "outputs": [
    {
     "name": "stdout",
     "output_type": "stream",
     "text": [
      "\u001b[34m\u001b[1mInformation of the data\u001b[0m\n",
      "<class 'pandas.core.frame.DataFrame'>\n",
      "Int64Index: 14975 entries, 0 to 14999\n",
      "Data columns (total 5 columns):\n",
      " #   Column  Non-Null Count  Dtype \n",
      "---  ------  --------------  ----- \n",
      " 0   gender  14975 non-null  object\n",
      " 1   age     14975 non-null  int64 \n",
      " 2   topic   14975 non-null  object\n",
      " 3   sign    14975 non-null  object\n",
      " 4   text    14975 non-null  object\n",
      "dtypes: int64(1), object(4)\n",
      "memory usage: 702.0+ KB\n"
     ]
    }
   ],
   "source": [
    "print(colored('\\x1B[1mInformation of the data','blue'))\n",
    "data_orignal.info()"
   ]
  },
  {
   "cell_type": "markdown",
   "metadata": {
    "id": "7PyEFzxlOl_O"
   },
   "source": [
    "### Preprocessing\n",
    "\n",
    "Some of the common text preprocessing / cleaning steps are:\n",
    "\n",
    "    \n",
    "    - [ ] remove unwanted space \n",
    "    - [ ] remove unwanted characters / remove Punctuation\n",
    "    - [ ] remove Stopwords \n",
    "    - [ ] convert text to lowercase\n",
    "\n"
   ]
  },
  {
   "cell_type": "code",
   "execution_count": 11,
   "metadata": {
    "colab": {
     "base_uri": "https://localhost:8080/",
     "height": 220
    },
    "executionInfo": {
     "elapsed": 68,
     "status": "ok",
     "timestamp": 1623995422140,
     "user": {
      "displayName": "Pratik Nale",
      "photoUrl": "https://lh3.googleusercontent.com/a-/AOh14GgxACC2B4V1fhOSyFFh62hbIEiHukrFJR9SJbwbbQ=s64",
      "userId": "16935723069358383403"
     },
     "user_tz": -330
    },
    "id": "Ov2OmTudOl_P",
    "outputId": "8677301f-812a-426f-d224-6da98a04c42e"
   },
   "outputs": [
    {
     "name": "stdout",
     "output_type": "stream",
     "text": [
      "\u001b[34m\u001b[1mOrignal text\u001b[0m\n"
     ]
    },
    {
     "data": {
      "text/html": [
       "<div>\n",
       "<style scoped>\n",
       "    .dataframe tbody tr th:only-of-type {\n",
       "        vertical-align: middle;\n",
       "    }\n",
       "\n",
       "    .dataframe tbody tr th {\n",
       "        vertical-align: top;\n",
       "    }\n",
       "\n",
       "    .dataframe thead th {\n",
       "        text-align: right;\n",
       "    }\n",
       "</style>\n",
       "<table border=\"1\" class=\"dataframe\">\n",
       "  <thead>\n",
       "    <tr style=\"text-align: right;\">\n",
       "      <th></th>\n",
       "      <th>text</th>\n",
       "    </tr>\n",
       "  </thead>\n",
       "  <tbody>\n",
       "    <tr>\n",
       "      <th>0</th>\n",
       "      <td>well today is Saturday and i'm suppose ...</td>\n",
       "    </tr>\n",
       "    <tr>\n",
       "      <th>1</th>\n",
       "      <td>not until august time if I remember cor...</td>\n",
       "    </tr>\n",
       "    <tr>\n",
       "      <th>2</th>\n",
       "      <td>I set up my Senior Pictures S...</td>\n",
       "    </tr>\n",
       "    <tr>\n",
       "      <th>3</th>\n",
       "      <td>40 days to go.  Heading to Houston ...</td>\n",
       "    </tr>\n",
       "    <tr>\n",
       "      <th>4</th>\n",
       "      <td>I was in Johnson City the other day...</td>\n",
       "    </tr>\n",
       "  </tbody>\n",
       "</table>\n",
       "</div>"
      ],
      "text/plain": [
       "                                                text\n",
       "0         well today is Saturday and i'm suppose ...\n",
       "1         not until august time if I remember cor...\n",
       "2                   I set up my Senior Pictures S...\n",
       "3             40 days to go.  Heading to Houston ...\n",
       "4             I was in Johnson City the other day..."
      ]
     },
     "execution_count": 11,
     "metadata": {
      "tags": []
     },
     "output_type": "execute_result"
    }
   ],
   "source": [
    "print(colored('\\x1B[1mOrignal text','blue'))\n",
    "df = data_orignal[[\"text\"]]\n",
    "df[:5]"
   ]
  },
  {
   "cell_type": "code",
   "execution_count": 12,
   "metadata": {
    "colab": {
     "base_uri": "https://localhost:8080/"
    },
    "executionInfo": {
     "elapsed": 60,
     "status": "ok",
     "timestamp": 1623995422141,
     "user": {
      "displayName": "Pratik Nale",
      "photoUrl": "https://lh3.googleusercontent.com/a-/AOh14GgxACC2B4V1fhOSyFFh62hbIEiHukrFJR9SJbwbbQ=s64",
      "userId": "16935723069358383403"
     },
     "user_tz": -330
    },
    "id": "cP5pSBY4Ol_q",
    "outputId": "e19f14d3-85ee-4d5c-8302-78e35ce2bdd1"
   },
   "outputs": [
    {
     "name": "stdout",
     "output_type": "stream",
     "text": [
      "\u001b[34m\u001b[1mFunction for removing punctuations\u001b[0m\n"
     ]
    }
   ],
   "source": [
    "print(colored('\\x1B[1mFunction for removing punctuations','blue'))\n",
    "PUNCT_TO_REMOVE = string.punctuation\n",
    "def remove_punctuation(text):\n",
    "    return text.translate(str.maketrans('','',PUNCT_TO_REMOVE))"
   ]
  },
  {
   "cell_type": "code",
   "execution_count": 13,
   "metadata": {
    "colab": {
     "base_uri": "https://localhost:8080/"
    },
    "executionInfo": {
     "elapsed": 58,
     "status": "ok",
     "timestamp": 1623995422143,
     "user": {
      "displayName": "Pratik Nale",
      "photoUrl": "https://lh3.googleusercontent.com/a-/AOh14GgxACC2B4V1fhOSyFFh62hbIEiHukrFJR9SJbwbbQ=s64",
      "userId": "16935723069358383403"
     },
     "user_tz": -330
    },
    "id": "7-EE1vG5Ol_2",
    "outputId": "41cc45f0-1dac-41d8-dac5-a15b95697bd8"
   },
   "outputs": [
    {
     "name": "stdout",
     "output_type": "stream",
     "text": [
      "\u001b[34m\u001b[1mFunction for removing stop word\u001b[0m\n"
     ]
    }
   ],
   "source": [
    "print(colored('\\x1B[1mFunction for removing stop word','blue'))\n",
    "from nltk.corpus import stopwords\n",
    "STOPWORDS = set(stopwords.words('english'))\n",
    "def remove_stopwords(text):\n",
    "    return \" \".join([word for word in str(text).split() if word not in STOPWORDS])"
   ]
  },
  {
   "cell_type": "code",
   "execution_count": 14,
   "metadata": {
    "colab": {
     "base_uri": "https://localhost:8080/"
    },
    "executionInfo": {
     "elapsed": 2067,
     "status": "ok",
     "timestamp": 1623995424158,
     "user": {
      "displayName": "Pratik Nale",
      "photoUrl": "https://lh3.googleusercontent.com/a-/AOh14GgxACC2B4V1fhOSyFFh62hbIEiHukrFJR9SJbwbbQ=s64",
      "userId": "16935723069358383403"
     },
     "user_tz": -330
    },
    "id": "AsrJWmyuEF4y",
    "outputId": "1a396771-8649-482e-9489-868ed0ddfeaf"
   },
   "outputs": [
    {
     "name": "stdout",
     "output_type": "stream",
     "text": [
      "\u001b[34m\u001b[1mFunction for Lemmatization\u001b[0m\n"
     ]
    }
   ],
   "source": [
    "print(colored('\\x1B[1mFunction for Lemmatization','blue'))\n",
    "from nltk.corpus import wordnet\n",
    "from nltk.stem import WordNetLemmatizer\n",
    "\n",
    "lemmatizer = WordNetLemmatizer()\n",
    "wordnet_map = {\"N\":wordnet.NOUN, \"V\":wordnet.VERB, \"J\":wordnet.ADJ, \"R\":wordnet.ADV}\n",
    "def lemmatize_words(text):\n",
    "    pos_tagged_text = nltk.pos_tag(text.split())\n",
    "    return \" \".join([lemmatizer.lemmatize(word, wordnet_map.get(pos[0], wordnet.NOUN)) for word, pos in pos_tagged_text])"
   ]
  },
  {
   "cell_type": "code",
   "execution_count": 15,
   "metadata": {
    "colab": {
     "base_uri": "https://localhost:8080/"
    },
    "executionInfo": {
     "elapsed": 130888,
     "status": "ok",
     "timestamp": 1623995555038,
     "user": {
      "displayName": "Pratik Nale",
      "photoUrl": "https://lh3.googleusercontent.com/a-/AOh14GgxACC2B4V1fhOSyFFh62hbIEiHukrFJR9SJbwbbQ=s64",
      "userId": "16935723069358383403"
     },
     "user_tz": -330
    },
    "id": "rbcu-eQvOl__",
    "outputId": "1e20312b-12b8-4b7d-9a7f-caf223ab0553"
   },
   "outputs": [
    {
     "name": "stdout",
     "output_type": "stream",
     "text": [
      "\u001b[34m\u001b[1mUsing Pipeline for pre-processing the text\u001b[0m\n",
      "\u001b[1m1.Removing Puntucation\n",
      "2.Removing Stop Words\n",
      "3.Lemmatization\n",
      "4.Lower-CaseStrip\n",
      "5.Strip\u001b[0m\n"
     ]
    }
   ],
   "source": [
    "print(colored('\\x1B[1mUsing Pipeline for pre-processing the text','blue'))\n",
    "print(colored('''\\x1B[1m1.Removing Puntucation\\n2.Removing Stop Words\\n3.Lemmatization\\n4.Lower-CaseStrip\\n5.Strip'''))\n",
    "def clean_text(text):\n",
    "    text = remove_punctuation(text)\n",
    "    text = remove_stopwords(text)\n",
    "    text = lemmatize_words(text)\n",
    "    text = text.lower()\n",
    "    text = text.strip()\n",
    "    return text\n",
    "\n",
    "data_orignal[\"text\"] = data_orignal[\"text\"].map(lambda text : clean_text(text))"
   ]
  },
  {
   "cell_type": "markdown",
   "metadata": {
    "id": "ANrKq7TfOmAI"
   },
   "source": [
    "## EDA "
   ]
  },
  {
   "cell_type": "code",
   "execution_count": 16,
   "metadata": {
    "colab": {
     "base_uri": "https://localhost:8080/",
     "height": 374
    },
    "executionInfo": {
     "elapsed": 164,
     "status": "ok",
     "timestamp": 1623995555045,
     "user": {
      "displayName": "Pratik Nale",
      "photoUrl": "https://lh3.googleusercontent.com/a-/AOh14GgxACC2B4V1fhOSyFFh62hbIEiHukrFJR9SJbwbbQ=s64",
      "userId": "16935723069358383403"
     },
     "user_tz": -330
    },
    "id": "eXcuvd4rOmAN",
    "outputId": "e532abd8-6110-4634-b292-ed730eaedd73"
   },
   "outputs": [
    {
     "name": "stdout",
     "output_type": "stream",
     "text": [
      "\u001b[34m\u001b[1mProcessed Dataframe\u001b[0m\n"
     ]
    },
    {
     "data": {
      "text/html": [
       "<div>\n",
       "<style scoped>\n",
       "    .dataframe tbody tr th:only-of-type {\n",
       "        vertical-align: middle;\n",
       "    }\n",
       "\n",
       "    .dataframe tbody tr th {\n",
       "        vertical-align: top;\n",
       "    }\n",
       "\n",
       "    .dataframe thead th {\n",
       "        text-align: right;\n",
       "    }\n",
       "</style>\n",
       "<table border=\"1\" class=\"dataframe\">\n",
       "  <thead>\n",
       "    <tr style=\"text-align: right;\">\n",
       "      <th></th>\n",
       "      <th>gender</th>\n",
       "      <th>age</th>\n",
       "      <th>topic</th>\n",
       "      <th>sign</th>\n",
       "      <th>text</th>\n",
       "    </tr>\n",
       "  </thead>\n",
       "  <tbody>\n",
       "    <tr>\n",
       "      <th>0</th>\n",
       "      <td>female</td>\n",
       "      <td>14</td>\n",
       "      <td>Student</td>\n",
       "      <td>Virgo</td>\n",
       "      <td>well today saturday im suppose go movie hope g...</td>\n",
       "    </tr>\n",
       "    <tr>\n",
       "      <th>1</th>\n",
       "      <td>male</td>\n",
       "      <td>25</td>\n",
       "      <td>Banking</td>\n",
       "      <td>Cancer</td>\n",
       "      <td>august time i remember correctly</td>\n",
       "    </tr>\n",
       "    <tr>\n",
       "      <th>2</th>\n",
       "      <td>female</td>\n",
       "      <td>17</td>\n",
       "      <td>indUnk</td>\n",
       "      <td>Taurus</td>\n",
       "      <td>i set senior pictures setting yesterday septem...</td>\n",
       "    </tr>\n",
       "    <tr>\n",
       "      <th>3</th>\n",
       "      <td>male</td>\n",
       "      <td>24</td>\n",
       "      <td>Technology</td>\n",
       "      <td>Cancer</td>\n",
       "      <td>40 day go heading houston weekend spend time o...</td>\n",
       "    </tr>\n",
       "    <tr>\n",
       "      <th>4</th>\n",
       "      <td>female</td>\n",
       "      <td>38</td>\n",
       "      <td>indUnk</td>\n",
       "      <td>Virgo</td>\n",
       "      <td>i johnson city day book store i saw bunch peop...</td>\n",
       "    </tr>\n",
       "    <tr>\n",
       "      <th>5</th>\n",
       "      <td>female</td>\n",
       "      <td>38</td>\n",
       "      <td>indUnk</td>\n",
       "      <td>Virgo</td>\n",
       "      <td>aaron copeland never make gray station late su...</td>\n",
       "    </tr>\n",
       "    <tr>\n",
       "      <th>6</th>\n",
       "      <td>male</td>\n",
       "      <td>27</td>\n",
       "      <td>Law</td>\n",
       "      <td>Gemini</td>\n",
       "      <td>who say kerry afraid take firm position contro...</td>\n",
       "    </tr>\n",
       "    <tr>\n",
       "      <th>7</th>\n",
       "      <td>female</td>\n",
       "      <td>45</td>\n",
       "      <td>Technology</td>\n",
       "      <td>Virgo</td>\n",
       "      <td>baseball fever the urllink red sox tie series ...</td>\n",
       "    </tr>\n",
       "    <tr>\n",
       "      <th>8</th>\n",
       "      <td>male</td>\n",
       "      <td>24</td>\n",
       "      <td>Engineering</td>\n",
       "      <td>Leo</td>\n",
       "      <td>know say go start write day leave uk decide il...</td>\n",
       "    </tr>\n",
       "    <tr>\n",
       "      <th>9</th>\n",
       "      <td>male</td>\n",
       "      <td>25</td>\n",
       "      <td>indUnk</td>\n",
       "      <td>Capricorn</td>\n",
       "      <td>chris southern illinois in eric cartman voice ...</td>\n",
       "    </tr>\n",
       "  </tbody>\n",
       "</table>\n",
       "</div>"
      ],
      "text/plain": [
       "   gender  age  ...       sign                                               text\n",
       "0  female   14  ...      Virgo  well today saturday im suppose go movie hope g...\n",
       "1    male   25  ...     Cancer                   august time i remember correctly\n",
       "2  female   17  ...     Taurus  i set senior pictures setting yesterday septem...\n",
       "3    male   24  ...     Cancer  40 day go heading houston weekend spend time o...\n",
       "4  female   38  ...      Virgo  i johnson city day book store i saw bunch peop...\n",
       "5  female   38  ...      Virgo  aaron copeland never make gray station late su...\n",
       "6    male   27  ...     Gemini  who say kerry afraid take firm position contro...\n",
       "7  female   45  ...      Virgo  baseball fever the urllink red sox tie series ...\n",
       "8    male   24  ...        Leo  know say go start write day leave uk decide il...\n",
       "9    male   25  ...  Capricorn  chris southern illinois in eric cartman voice ...\n",
       "\n",
       "[10 rows x 5 columns]"
      ]
     },
     "execution_count": 16,
     "metadata": {
      "tags": []
     },
     "output_type": "execute_result"
    }
   ],
   "source": [
    "print(colored('\\x1B[1mProcessed Dataframe','blue'))\n",
    "pd.set_option('display.max_colwidth', 50)\n",
    "data_orignal.head(10)"
   ]
  },
  {
   "cell_type": "code",
   "execution_count": 17,
   "metadata": {
    "colab": {
     "base_uri": "https://localhost:8080/"
    },
    "executionInfo": {
     "elapsed": 153,
     "status": "ok",
     "timestamp": 1623995555045,
     "user": {
      "displayName": "Pratik Nale",
      "photoUrl": "https://lh3.googleusercontent.com/a-/AOh14GgxACC2B4V1fhOSyFFh62hbIEiHukrFJR9SJbwbbQ=s64",
      "userId": "16935723069358383403"
     },
     "user_tz": -330
    },
    "id": "k0CnAAB8OmAR",
    "outputId": "48cb8b01-fe2a-48a1-e030-bfec542f15e9"
   },
   "outputs": [
    {
     "name": "stdout",
     "output_type": "stream",
     "text": [
      "\u001b[34m\u001b[1mChecking null/missing values of data\u001b[0m\n"
     ]
    },
    {
     "data": {
      "text/plain": [
       "False"
      ]
     },
     "execution_count": 17,
     "metadata": {
      "tags": []
     },
     "output_type": "execute_result"
    }
   ],
   "source": [
    "print(colored('\\x1B[1mChecking null/missing values of data','blue'))\n",
    "data_orignal.isnull().any().any()"
   ]
  },
  {
   "cell_type": "code",
   "execution_count": 18,
   "metadata": {
    "colab": {
     "base_uri": "https://localhost:8080/",
     "height": 97
    },
    "executionInfo": {
     "elapsed": 141,
     "status": "ok",
     "timestamp": 1623995555046,
     "user": {
      "displayName": "Pratik Nale",
      "photoUrl": "https://lh3.googleusercontent.com/a-/AOh14GgxACC2B4V1fhOSyFFh62hbIEiHukrFJR9SJbwbbQ=s64",
      "userId": "16935723069358383403"
     },
     "user_tz": -330
    },
    "id": "0JXm-NulOmAV",
    "outputId": "39169c27-b207-4333-b18e-205237bdd5db"
   },
   "outputs": [
    {
     "name": "stdout",
     "output_type": "stream",
     "text": [
      "\u001b[34m\u001b[1mDescripition of numerical column\u001b[0m\n"
     ]
    },
    {
     "data": {
      "text/html": [
       "<div>\n",
       "<style scoped>\n",
       "    .dataframe tbody tr th:only-of-type {\n",
       "        vertical-align: middle;\n",
       "    }\n",
       "\n",
       "    .dataframe tbody tr th {\n",
       "        vertical-align: top;\n",
       "    }\n",
       "\n",
       "    .dataframe thead th {\n",
       "        text-align: right;\n",
       "    }\n",
       "</style>\n",
       "<table border=\"1\" class=\"dataframe\">\n",
       "  <thead>\n",
       "    <tr style=\"text-align: right;\">\n",
       "      <th></th>\n",
       "      <th>count</th>\n",
       "      <th>mean</th>\n",
       "      <th>std</th>\n",
       "      <th>min</th>\n",
       "      <th>25%</th>\n",
       "      <th>50%</th>\n",
       "      <th>75%</th>\n",
       "      <th>max</th>\n",
       "    </tr>\n",
       "  </thead>\n",
       "  <tbody>\n",
       "    <tr>\n",
       "      <th>age</th>\n",
       "      <td>14975.0</td>\n",
       "      <td>24.010217</td>\n",
       "      <td>7.786998</td>\n",
       "      <td>13.0</td>\n",
       "      <td>17.0</td>\n",
       "      <td>24.0</td>\n",
       "      <td>27.0</td>\n",
       "      <td>48.0</td>\n",
       "    </tr>\n",
       "  </tbody>\n",
       "</table>\n",
       "</div>"
      ],
      "text/plain": [
       "       count       mean       std   min   25%   50%   75%   max\n",
       "age  14975.0  24.010217  7.786998  13.0  17.0  24.0  27.0  48.0"
      ]
     },
     "execution_count": 18,
     "metadata": {
      "tags": []
     },
     "output_type": "execute_result"
    }
   ],
   "source": [
    "print(colored('\\x1B[1mDescripition of numerical column','blue'))\n",
    "data_orignal.describe(include = [np.number]).T"
   ]
  },
  {
   "cell_type": "code",
   "execution_count": 19,
   "metadata": {
    "colab": {
     "base_uri": "https://localhost:8080/",
     "height": 189
    },
    "executionInfo": {
     "elapsed": 134,
     "status": "ok",
     "timestamp": 1623995555049,
     "user": {
      "displayName": "Pratik Nale",
      "photoUrl": "https://lh3.googleusercontent.com/a-/AOh14GgxACC2B4V1fhOSyFFh62hbIEiHukrFJR9SJbwbbQ=s64",
      "userId": "16935723069358383403"
     },
     "user_tz": -330
    },
    "id": "OkSOd_Q5OmAc",
    "outputId": "156ada0e-178a-48f7-be80-e0e461b89fe2"
   },
   "outputs": [
    {
     "name": "stdout",
     "output_type": "stream",
     "text": [
      "\u001b[34m\u001b[1mDescripition of categorical column\u001b[0m\n"
     ]
    },
    {
     "data": {
      "text/html": [
       "<div>\n",
       "<style scoped>\n",
       "    .dataframe tbody tr th:only-of-type {\n",
       "        vertical-align: middle;\n",
       "    }\n",
       "\n",
       "    .dataframe tbody tr th {\n",
       "        vertical-align: top;\n",
       "    }\n",
       "\n",
       "    .dataframe thead th {\n",
       "        text-align: right;\n",
       "    }\n",
       "</style>\n",
       "<table border=\"1\" class=\"dataframe\">\n",
       "  <thead>\n",
       "    <tr style=\"text-align: right;\">\n",
       "      <th></th>\n",
       "      <th>count</th>\n",
       "      <th>unique</th>\n",
       "      <th>top</th>\n",
       "      <th>freq</th>\n",
       "    </tr>\n",
       "  </thead>\n",
       "  <tbody>\n",
       "    <tr>\n",
       "      <th>gender</th>\n",
       "      <td>14975</td>\n",
       "      <td>2</td>\n",
       "      <td>male</td>\n",
       "      <td>7639</td>\n",
       "    </tr>\n",
       "    <tr>\n",
       "      <th>topic</th>\n",
       "      <td>14975</td>\n",
       "      <td>40</td>\n",
       "      <td>indUnk</td>\n",
       "      <td>5455</td>\n",
       "    </tr>\n",
       "    <tr>\n",
       "      <th>sign</th>\n",
       "      <td>14975</td>\n",
       "      <td>12</td>\n",
       "      <td>Aries</td>\n",
       "      <td>1427</td>\n",
       "    </tr>\n",
       "    <tr>\n",
       "      <th>text</th>\n",
       "      <td>14975</td>\n",
       "      <td>14796</td>\n",
       "      <td></td>\n",
       "      <td>70</td>\n",
       "    </tr>\n",
       "  </tbody>\n",
       "</table>\n",
       "</div>"
      ],
      "text/plain": [
       "        count unique     top  freq\n",
       "gender  14975      2    male  7639\n",
       "topic   14975     40  indUnk  5455\n",
       "sign    14975     12   Aries  1427\n",
       "text    14975  14796            70"
      ]
     },
     "execution_count": 19,
     "metadata": {
      "tags": []
     },
     "output_type": "execute_result"
    }
   ],
   "source": [
    "print(colored('\\x1B[1mDescripition of categorical column','blue'))\n",
    "data_orignal.describe(include = [np.object]).T"
   ]
  },
  {
   "cell_type": "code",
   "execution_count": 20,
   "metadata": {
    "colab": {
     "base_uri": "https://localhost:8080/"
    },
    "executionInfo": {
     "elapsed": 128,
     "status": "ok",
     "timestamp": 1623995555051,
     "user": {
      "displayName": "Pratik Nale",
      "photoUrl": "https://lh3.googleusercontent.com/a-/AOh14GgxACC2B4V1fhOSyFFh62hbIEiHukrFJR9SJbwbbQ=s64",
      "userId": "16935723069358383403"
     },
     "user_tz": -330
    },
    "id": "czt--wL_OmAg",
    "outputId": "a066b79e-81d8-4a17-e870-009076d48d4c"
   },
   "outputs": [
    {
     "name": "stdout",
     "output_type": "stream",
     "text": [
      "\u001b[34m\u001b[1mMemory analysis for dataframe\u001b[0m\n"
     ]
    },
    {
     "data": {
      "text/plain": [
       "Index       119800\n",
       "gender      928147\n",
       "age         119800\n",
       "topic       970611\n",
       "sign        947918\n",
       "text      12490804\n",
       "dtype: int64"
      ]
     },
     "execution_count": 20,
     "metadata": {
      "tags": []
     },
     "output_type": "execute_result"
    }
   ],
   "source": [
    "print(colored('\\x1B[1mMemory analysis for dataframe','blue'))\n",
    "orignal_mem = data_orignal.memory_usage(deep=True)\n",
    "orignal_mem"
   ]
  },
  {
   "cell_type": "code",
   "execution_count": 21,
   "metadata": {
    "colab": {
     "base_uri": "https://localhost:8080/"
    },
    "executionInfo": {
     "elapsed": 121,
     "status": "ok",
     "timestamp": 1623995555052,
     "user": {
      "displayName": "Pratik Nale",
      "photoUrl": "https://lh3.googleusercontent.com/a-/AOh14GgxACC2B4V1fhOSyFFh62hbIEiHukrFJR9SJbwbbQ=s64",
      "userId": "16935723069358383403"
     },
     "user_tz": -330
    },
    "id": "CWB1_0Q4OmAo",
    "outputId": "6db813ad-55ba-42dc-d1d5-b949e4f90df9"
   },
   "outputs": [
    {
     "name": "stdout",
     "output_type": "stream",
     "text": [
      "\u001b[34m\u001b[1mConverting object datatype to categorical datatype\u001b[0m\n"
     ]
    }
   ],
   "source": [
    "print(colored('\\x1B[1mConverting object datatype to categorical datatype','blue'))\n",
    "catagorical_coloumns = [\"gender\", \"topic\", \"sign\"]\n",
    "data_orignal[catagorical_coloumns] = data_orignal[catagorical_coloumns].astype(\"category\")"
   ]
  },
  {
   "cell_type": "code",
   "execution_count": 22,
   "metadata": {
    "colab": {
     "base_uri": "https://localhost:8080/"
    },
    "executionInfo": {
     "elapsed": 118,
     "status": "ok",
     "timestamp": 1623995555055,
     "user": {
      "displayName": "Pratik Nale",
      "photoUrl": "https://lh3.googleusercontent.com/a-/AOh14GgxACC2B4V1fhOSyFFh62hbIEiHukrFJR9SJbwbbQ=s64",
      "userId": "16935723069358383403"
     },
     "user_tz": -330
    },
    "id": "Lo8p32aZOmAw",
    "outputId": "c53b129f-b8a4-4a70-a99a-a6baa791caaa"
   },
   "outputs": [
    {
     "name": "stdout",
     "output_type": "stream",
     "text": [
      "\u001b[34m\u001b[1mValue count of gender\u001b[0m\n"
     ]
    },
    {
     "data": {
      "text/plain": [
       "male      7639\n",
       "female    7336\n",
       "Name: gender, dtype: int64"
      ]
     },
     "execution_count": 22,
     "metadata": {
      "tags": []
     },
     "output_type": "execute_result"
    }
   ],
   "source": [
    "print(colored('\\x1B[1mValue count of gender','blue'))\n",
    "data_orignal.gender.value_counts()"
   ]
  },
  {
   "cell_type": "code",
   "execution_count": 23,
   "metadata": {
    "colab": {
     "base_uri": "https://localhost:8080/",
     "height": 402
    },
    "executionInfo": {
     "elapsed": 1059,
     "status": "ok",
     "timestamp": 1623995556003,
     "user": {
      "displayName": "Pratik Nale",
      "photoUrl": "https://lh3.googleusercontent.com/a-/AOh14GgxACC2B4V1fhOSyFFh62hbIEiHukrFJR9SJbwbbQ=s64",
      "userId": "16935723069358383403"
     },
     "user_tz": -330
    },
    "id": "UNFBVvboywr3",
    "outputId": "e727adfd-a4cb-4abb-dd9f-3675aca401d4"
   },
   "outputs": [
    {
     "data": {
      "text/plain": [
       "<matplotlib.axes._subplots.AxesSubplot at 0x7fdc8129e210>"
      ]
     },
     "execution_count": 23,
     "metadata": {
      "tags": []
     },
     "output_type": "execute_result"
    },
    {
     "data": {
      "image/png": "[encoded data removed]",
      "text/plain": [
       "<Figure size 864x432 with 1 Axes>"
      ]
     },
     "metadata": {
      "needs_background": "light",
      "tags": []
     },
     "output_type": "display_data"
    }
   ],
   "source": [
    "plt.figure(figsize=(12,6))\n",
    "sns.countplot(x=\"gender\", data=data_orignal)"
   ]
  },
  {
   "cell_type": "code",
   "execution_count": 24,
   "metadata": {
    "colab": {
     "base_uri": "https://localhost:8080/"
    },
    "executionInfo": {
     "elapsed": 111,
     "status": "ok",
     "timestamp": 1623995556004,
     "user": {
      "displayName": "Pratik Nale",
      "photoUrl": "https://lh3.googleusercontent.com/a-/AOh14GgxACC2B4V1fhOSyFFh62hbIEiHukrFJR9SJbwbbQ=s64",
      "userId": "16935723069358383403"
     },
     "user_tz": -330
    },
    "id": "GgKHt3QAF2bP",
    "outputId": "da727cd7-2de9-4e88-94dd-05914f8f9f9f"
   },
   "outputs": [
    {
     "name": "stdout",
     "output_type": "stream",
     "text": [
      "\u001b[34m\u001b[1mValue count of age\u001b[0m\n",
      "24    1771\n",
      "17    1765\n",
      "16    1594\n",
      "23    1591\n",
      "25    1498\n",
      "26    1236\n",
      "27    1018\n",
      "15     883\n",
      "14     570\n",
      "34     467\n",
      "33     411\n",
      "35     371\n",
      "36     329\n",
      "13     294\n",
      "37     220\n",
      "38     158\n",
      "40     124\n",
      "39     105\n",
      "48      89\n",
      "43      85\n",
      "45      83\n",
      "41      74\n",
      "42      69\n",
      "46      66\n",
      "44      53\n",
      "47      51\n",
      "Name: age, dtype: int64\n"
     ]
    }
   ],
   "source": [
    "print(colored('\\x1B[1mValue count of age','blue'))\n",
    "print(data_orignal.age.value_counts())"
   ]
  },
  {
   "cell_type": "code",
   "execution_count": 25,
   "metadata": {
    "colab": {
     "base_uri": "https://localhost:8080/",
     "height": 398
    },
    "executionInfo": {
     "elapsed": 107,
     "status": "ok",
     "timestamp": 1623995556006,
     "user": {
      "displayName": "Pratik Nale",
      "photoUrl": "https://lh3.googleusercontent.com/a-/AOh14GgxACC2B4V1fhOSyFFh62hbIEiHukrFJR9SJbwbbQ=s64",
      "userId": "16935723069358383403"
     },
     "user_tz": -330
    },
    "id": "PzbNsCz1OmAz",
    "outputId": "b5bd1804-459b-48c2-fb39-8c8f150cef03"
   },
   "outputs": [
    {
     "data": {
      "text/plain": [
       "<matplotlib.axes._subplots.AxesSubplot at 0x7fdc6edb1f50>"
      ]
     },
     "execution_count": 25,
     "metadata": {
      "tags": []
     },
     "output_type": "execute_result"
    },
    {
     "data": {
      "image/png": "[encoded data removed]",
      "text/plain": [
       "<Figure size 864x432 with 1 Axes>"
      ]
     },
     "metadata": {
      "needs_background": "light",
      "tags": []
     },
     "output_type": "display_data"
    }
   ],
   "source": [
    "plt.figure(figsize=(12,6))\n",
    "sns.countplot(x=\"age\", data=data_orignal)"
   ]
  },
  {
   "cell_type": "code",
   "execution_count": 26,
   "metadata": {
    "colab": {
     "base_uri": "https://localhost:8080/"
    },
    "executionInfo": {
     "elapsed": 109,
     "status": "ok",
     "timestamp": 1623995556020,
     "user": {
      "displayName": "Pratik Nale",
      "photoUrl": "https://lh3.googleusercontent.com/a-/AOh14GgxACC2B4V1fhOSyFFh62hbIEiHukrFJR9SJbwbbQ=s64",
      "userId": "16935723069358383403"
     },
     "user_tz": -330
    },
    "id": "TGk_u0bg12CM",
    "outputId": "f6123c16-57cd-4784-ecd6-c36848f51b01"
   },
   "outputs": [
    {
     "name": "stdout",
     "output_type": "stream",
     "text": [
      "\u001b[34m\u001b[1mValue count of sign\u001b[0m\n",
      "Aries          1427\n",
      "Cancer         1416\n",
      "Virgo          1371\n",
      "Libra          1368\n",
      "Taurus         1344\n",
      "Scorpio        1231\n",
      "Leo            1205\n",
      "Gemini         1147\n",
      "Pisces         1146\n",
      "Capricorn      1118\n",
      "Aquarius       1107\n",
      "Sagittarius    1095\n",
      "Name: sign, dtype: int64\n"
     ]
    }
   ],
   "source": [
    "print(colored('\\x1B[1mValue count of sign','blue'))\n",
    "print(data_orignal.sign.value_counts())"
   ]
  },
  {
   "cell_type": "code",
   "execution_count": 27,
   "metadata": {
    "colab": {
     "base_uri": "https://localhost:8080/",
     "height": 398
    },
    "executionInfo": {
     "elapsed": 571,
     "status": "ok",
     "timestamp": 1623995556487,
     "user": {
      "displayName": "Pratik Nale",
      "photoUrl": "https://lh3.googleusercontent.com/a-/AOh14GgxACC2B4V1fhOSyFFh62hbIEiHukrFJR9SJbwbbQ=s64",
      "userId": "16935723069358383403"
     },
     "user_tz": -330
    },
    "id": "wssPL3AY17WJ",
    "outputId": "f0635dae-ce32-40cb-c0b3-e95447c79051"
   },
   "outputs": [
    {
     "data": {
      "text/plain": [
       "<matplotlib.axes._subplots.AxesSubplot at 0x7fdc62a2f050>"
      ]
     },
     "execution_count": 27,
     "metadata": {
      "tags": []
     },
     "output_type": "execute_result"
    },
    {
     "data": {
      "image/png": "[encoded data removed]",
      "text/plain": [
       "<Figure size 864x432 with 1 Axes>"
      ]
     },
     "metadata": {
      "needs_background": "light",
      "tags": []
     },
     "output_type": "display_data"
    }
   ],
   "source": [
    "plt.figure(figsize=(12,6))\n",
    "sns.countplot(x=\"sign\", data=data_orignal)"
   ]
  },
  {
   "cell_type": "code",
   "execution_count": 28,
   "metadata": {
    "colab": {
     "base_uri": "https://localhost:8080/",
     "height": 398
    },
    "executionInfo": {
     "elapsed": 33,
     "status": "ok",
     "timestamp": 1623995556488,
     "user": {
      "displayName": "Pratik Nale",
      "photoUrl": "https://lh3.googleusercontent.com/a-/AOh14GgxACC2B4V1fhOSyFFh62hbIEiHukrFJR9SJbwbbQ=s64",
      "userId": "16935723069358383403"
     },
     "user_tz": -330
    },
    "id": "bDmUS0MS7ebv",
    "outputId": "7f477d50-609e-4697-89db-861d6c072358"
   },
   "outputs": [
    {
     "data": {
      "text/plain": [
       "<matplotlib.axes._subplots.AxesSubplot at 0x7fdc62a0ab50>"
      ]
     },
     "execution_count": 28,
     "metadata": {
      "tags": []
     },
     "output_type": "execute_result"
    },
    {
     "data": {
      "image/png": "[encoded data removed]",
      "text/plain": [
       "<Figure size 864x432 with 1 Axes>"
      ]
     },
     "metadata": {
      "needs_background": "light",
      "tags": []
     },
     "output_type": "display_data"
    }
   ],
   "source": [
    "plt.figure(figsize=(12,6))\n",
    "sns.countplot(x=\"age\", hue=\"gender\", data=data_orignal)"
   ]
  },
  {
   "cell_type": "code",
   "execution_count": 29,
   "metadata": {
    "colab": {
     "base_uri": "https://localhost:8080/",
     "height": 402
    },
    "executionInfo": {
     "elapsed": 802,
     "status": "ok",
     "timestamp": 1623995557270,
     "user": {
      "displayName": "Pratik Nale",
      "photoUrl": "https://lh3.googleusercontent.com/a-/AOh14GgxACC2B4V1fhOSyFFh62hbIEiHukrFJR9SJbwbbQ=s64",
      "userId": "16935723069358383403"
     },
     "user_tz": -330
    },
    "id": "zA2rb-_H7oZu",
    "outputId": "41fa07a5-f579-46ee-cf07-0dbb804deb15"
   },
   "outputs": [
    {
     "data": {
      "text/plain": [
       "<matplotlib.axes._subplots.AxesSubplot at 0x7fdc6287d150>"
      ]
     },
     "execution_count": 29,
     "metadata": {
      "tags": []
     },
     "output_type": "execute_result"
    },
    {
     "data": {
      "image/png": "[encoded data removed]",
      "text/plain": [
       "<Figure size 864x432 with 1 Axes>"
      ]
     },
     "metadata": {
      "needs_background": "light",
      "tags": []
     },
     "output_type": "display_data"
    }
   ],
   "source": [
    "plt.figure(figsize=(12,6))\n",
    "sns.countplot(x=\"sign\", hue=\"gender\", data=data_orignal)"
   ]
  },
  {
   "cell_type": "code",
   "execution_count": 30,
   "metadata": {
    "colab": {
     "base_uri": "https://localhost:8080/",
     "height": 402
    },
    "executionInfo": {
     "elapsed": 1842,
     "status": "ok",
     "timestamp": 1623995559095,
     "user": {
      "displayName": "Pratik Nale",
      "photoUrl": "https://lh3.googleusercontent.com/a-/AOh14GgxACC2B4V1fhOSyFFh62hbIEiHukrFJR9SJbwbbQ=s64",
      "userId": "16935723069358383403"
     },
     "user_tz": -330
    },
    "id": "wZww1AHQ2HEl",
    "outputId": "e18a3e50-23ce-49b5-e88a-0df7780ebcfa"
   },
   "outputs": [
    {
     "data": {
      "text/plain": [
       "<matplotlib.axes._subplots.AxesSubplot at 0x7fdc629cd8d0>"
      ]
     },
     "execution_count": 30,
     "metadata": {
      "tags": []
     },
     "output_type": "execute_result"
    },
    {
     "data": {
      "image/png": "[encoded data removed]",
      "text/plain": [
       "<Figure size 864x432 with 1 Axes>"
      ]
     },
     "metadata": {
      "needs_background": "light",
      "tags": []
     },
     "output_type": "display_data"
    }
   ],
   "source": [
    "plt.figure(figsize=(12,6))\n",
    "sns.countplot(x=\"age\", hue=\"sign\", data=data_orignal)"
   ]
  },
  {
   "cell_type": "markdown",
   "metadata": {
    "id": "XTOczLJrOmA-"
   },
   "source": [
    "### Merge labels for multi-label classification problem "
   ]
  },
  {
   "cell_type": "code",
   "execution_count": 31,
   "metadata": {
    "colab": {
     "base_uri": "https://localhost:8080/"
    },
    "executionInfo": {
     "elapsed": 999,
     "status": "ok",
     "timestamp": 1623995560048,
     "user": {
      "displayName": "Pratik Nale",
      "photoUrl": "https://lh3.googleusercontent.com/a-/AOh14GgxACC2B4V1fhOSyFFh62hbIEiHukrFJR9SJbwbbQ=s64",
      "userId": "16935723069358383403"
     },
     "user_tz": -330
    },
    "id": "mAtMt0L4OmBA",
    "outputId": "d52b63b2-adcd-4192-c2b6-12e8c77e2713"
   },
   "outputs": [
    {
     "name": "stdout",
     "output_type": "stream",
     "text": [
      "\u001b[34m\u001b[1mCreating target column with multi-feature\u001b[0m\n"
     ]
    }
   ],
   "source": [
    "print(colored('\\x1B[1mCreating target column with multi-feature','blue'))\n",
    "data_orignal[\"age\"] = data_orignal[\"age\"].astype(str)\n",
    "data_orignal[\"labels\"] = data_orignal.apply(lambda col :\n",
    "                            [col[\"gender\"],col[\"age\"],col[\"topic\"],col[\"sign\"]],axis =1)"
   ]
  },
  {
   "cell_type": "code",
   "execution_count": 32,
   "metadata": {
    "colab": {
     "base_uri": "https://localhost:8080/"
    },
    "executionInfo": {
     "elapsed": 171,
     "status": "ok",
     "timestamp": 1623995560049,
     "user": {
      "displayName": "Pratik Nale",
      "photoUrl": "https://lh3.googleusercontent.com/a-/AOh14GgxACC2B4V1fhOSyFFh62hbIEiHukrFJR9SJbwbbQ=s64",
      "userId": "16935723069358383403"
     },
     "user_tz": -330
    },
    "id": "SUIcwobnOmBE",
    "outputId": "e5e17ffd-3ed0-4be2-8302-72d2222f5d75"
   },
   "outputs": [
    {
     "name": "stdout",
     "output_type": "stream",
     "text": [
      "\u001b[34m\u001b[1mDroping individual multi-feature\u001b[0m\n"
     ]
    },
    {
     "data": {
      "text/plain": [
       "74"
      ]
     },
     "execution_count": 32,
     "metadata": {
      "tags": []
     },
     "output_type": "execute_result"
    }
   ],
   "source": [
    "print(colored('\\x1B[1mDroping individual multi-feature','blue'))\n",
    "data_orignal.drop(columns=[\"gender\",\"age\",\"sign\",\"topic\"],axis =1, inplace = True)\n",
    "gc.collect()"
   ]
  },
  {
   "cell_type": "code",
   "execution_count": 33,
   "metadata": {
    "colab": {
     "base_uri": "https://localhost:8080/",
     "height": 374
    },
    "executionInfo": {
     "elapsed": 170,
     "status": "ok",
     "timestamp": 1623995560050,
     "user": {
      "displayName": "Pratik Nale",
      "photoUrl": "https://lh3.googleusercontent.com/a-/AOh14GgxACC2B4V1fhOSyFFh62hbIEiHukrFJR9SJbwbbQ=s64",
      "userId": "16935723069358383403"
     },
     "user_tz": -330
    },
    "id": "NcN9h1UXOmBH",
    "outputId": "164c4376-eb18-421d-db16-39d6f349fa68"
   },
   "outputs": [
    {
     "name": "stdout",
     "output_type": "stream",
     "text": [
      "\u001b[34m\u001b[1mFinal data frame\u001b[0m\n"
     ]
    },
    {
     "data": {
      "text/html": [
       "<div>\n",
       "<style scoped>\n",
       "    .dataframe tbody tr th:only-of-type {\n",
       "        vertical-align: middle;\n",
       "    }\n",
       "\n",
       "    .dataframe tbody tr th {\n",
       "        vertical-align: top;\n",
       "    }\n",
       "\n",
       "    .dataframe thead th {\n",
       "        text-align: right;\n",
       "    }\n",
       "</style>\n",
       "<table border=\"1\" class=\"dataframe\">\n",
       "  <thead>\n",
       "    <tr style=\"text-align: right;\">\n",
       "      <th></th>\n",
       "      <th>text</th>\n",
       "      <th>labels</th>\n",
       "    </tr>\n",
       "  </thead>\n",
       "  <tbody>\n",
       "    <tr>\n",
       "      <th>0</th>\n",
       "      <td>well today saturday im suppose go movie hope g...</td>\n",
       "      <td>[female, 14, Student, Virgo]</td>\n",
       "    </tr>\n",
       "    <tr>\n",
       "      <th>1</th>\n",
       "      <td>august time i remember correctly</td>\n",
       "      <td>[male, 25, Banking, Cancer]</td>\n",
       "    </tr>\n",
       "    <tr>\n",
       "      <th>2</th>\n",
       "      <td>i set senior pictures setting yesterday septem...</td>\n",
       "      <td>[female, 17, indUnk, Taurus]</td>\n",
       "    </tr>\n",
       "    <tr>\n",
       "      <th>3</th>\n",
       "      <td>40 day go heading houston weekend spend time o...</td>\n",
       "      <td>[male, 24, Technology, Cancer]</td>\n",
       "    </tr>\n",
       "    <tr>\n",
       "      <th>4</th>\n",
       "      <td>i johnson city day book store i saw bunch peop...</td>\n",
       "      <td>[female, 38, indUnk, Virgo]</td>\n",
       "    </tr>\n",
       "    <tr>\n",
       "      <th>5</th>\n",
       "      <td>aaron copeland never make gray station late su...</td>\n",
       "      <td>[female, 38, indUnk, Virgo]</td>\n",
       "    </tr>\n",
       "    <tr>\n",
       "      <th>6</th>\n",
       "      <td>who say kerry afraid take firm position contro...</td>\n",
       "      <td>[male, 27, Law, Gemini]</td>\n",
       "    </tr>\n",
       "    <tr>\n",
       "      <th>7</th>\n",
       "      <td>baseball fever the urllink red sox tie series ...</td>\n",
       "      <td>[female, 45, Technology, Virgo]</td>\n",
       "    </tr>\n",
       "    <tr>\n",
       "      <th>8</th>\n",
       "      <td>know say go start write day leave uk decide il...</td>\n",
       "      <td>[male, 24, Engineering, Leo]</td>\n",
       "    </tr>\n",
       "    <tr>\n",
       "      <th>9</th>\n",
       "      <td>chris southern illinois in eric cartman voice ...</td>\n",
       "      <td>[male, 25, indUnk, Capricorn]</td>\n",
       "    </tr>\n",
       "  </tbody>\n",
       "</table>\n",
       "</div>"
      ],
      "text/plain": [
       "                                                text                           labels\n",
       "0  well today saturday im suppose go movie hope g...     [female, 14, Student, Virgo]\n",
       "1                   august time i remember correctly      [male, 25, Banking, Cancer]\n",
       "2  i set senior pictures setting yesterday septem...     [female, 17, indUnk, Taurus]\n",
       "3  40 day go heading houston weekend spend time o...   [male, 24, Technology, Cancer]\n",
       "4  i johnson city day book store i saw bunch peop...      [female, 38, indUnk, Virgo]\n",
       "5  aaron copeland never make gray station late su...      [female, 38, indUnk, Virgo]\n",
       "6  who say kerry afraid take firm position contro...          [male, 27, Law, Gemini]\n",
       "7  baseball fever the urllink red sox tie series ...  [female, 45, Technology, Virgo]\n",
       "8  know say go start write day leave uk decide il...     [male, 24, Engineering, Leo]\n",
       "9  chris southern illinois in eric cartman voice ...    [male, 25, indUnk, Capricorn]"
      ]
     },
     "execution_count": 33,
     "metadata": {
      "tags": []
     },
     "output_type": "execute_result"
    }
   ],
   "source": [
    "print(colored('\\x1B[1mFinal data frame','blue'))\n",
    "data_orignal.head(10)"
   ]
  },
  {
   "cell_type": "markdown",
   "metadata": {
    "id": "CBFJPOCNOmBK"
   },
   "source": [
    "### Create train and test dataset"
   ]
  },
  {
   "cell_type": "code",
   "execution_count": 34,
   "metadata": {
    "colab": {
     "base_uri": "https://localhost:8080/"
    },
    "executionInfo": {
     "elapsed": 149,
     "status": "ok",
     "timestamp": 1623995560050,
     "user": {
      "displayName": "Pratik Nale",
      "photoUrl": "https://lh3.googleusercontent.com/a-/AOh14GgxACC2B4V1fhOSyFFh62hbIEiHukrFJR9SJbwbbQ=s64",
      "userId": "16935723069358383403"
     },
     "user_tz": -330
    },
    "id": "WUygCCKHOmBL",
    "outputId": "a1127507-2cf3-4696-8c80-25c5fecca5d2"
   },
   "outputs": [
    {
     "name": "stdout",
     "output_type": "stream",
     "text": [
      "\u001b[34m\u001b[1mSplitting data into train, test and validation sets\u001b[0m\n"
     ]
    }
   ],
   "source": [
    "print(colored('\\x1B[1mSplitting data into train, test and validation sets','blue'))\n",
    "X = data_orignal.text\n",
    "y = data_orignal.labels\n",
    "X_train, X_test, y_train, y_test = train_test_split(X,y, random_state=42,\n",
    "                                                   test_size = 0.2,\n",
    "                                                  shuffle = True)\n",
    "\n"
   ]
  },
  {
   "cell_type": "code",
   "execution_count": 35,
   "metadata": {
    "colab": {
     "base_uri": "https://localhost:8080/"
    },
    "executionInfo": {
     "elapsed": 164,
     "status": "ok",
     "timestamp": 1623995560083,
     "user": {
      "displayName": "Pratik Nale",
      "photoUrl": "https://lh3.googleusercontent.com/a-/AOh14GgxACC2B4V1fhOSyFFh62hbIEiHukrFJR9SJbwbbQ=s64",
      "userId": "16935723069358383403"
     },
     "user_tz": -330
    },
    "id": "653UO8VeOmBU",
    "outputId": "34d48edf-742d-4339-b93d-f08a69068353"
   },
   "outputs": [
    {
     "name": "stdout",
     "output_type": "stream",
     "text": [
      "shape of training set : (11980,)\n",
      "shape of test set : (2995,)\n"
     ]
    }
   ],
   "source": [
    "print(\"shape of training set :\", X_train.shape)\n",
    "print(\"shape of test set :\", X_test.shape)"
   ]
  },
  {
   "cell_type": "markdown",
   "metadata": {
    "id": "lhNdrJNPOmBY"
   },
   "source": [
    "### Vectorizing the features "
   ]
  },
  {
   "cell_type": "code",
   "execution_count": 36,
   "metadata": {
    "colab": {
     "base_uri": "https://localhost:8080/"
    },
    "executionInfo": {
     "elapsed": 155,
     "status": "ok",
     "timestamp": 1623995560088,
     "user": {
      "displayName": "Pratik Nale",
      "photoUrl": "https://lh3.googleusercontent.com/a-/AOh14GgxACC2B4V1fhOSyFFh62hbIEiHukrFJR9SJbwbbQ=s64",
      "userId": "16935723069358383403"
     },
     "user_tz": -330
    },
    "id": "j2Kt2DCDGdi6",
    "outputId": "95524859-d8a9-4baf-b17f-280a1fc3b1e3"
   },
   "outputs": [
    {
     "name": "stdout",
     "output_type": "stream",
     "text": [
      "\u001b[32m\u001b[1mVectorizing the features\n",
      "1. Bag of words\n",
      "2. TfIDF\u001b[0m\n"
     ]
    }
   ],
   "source": [
    "print(colored('\\x1B[1mVectorizing the features\\n1. Bag of words\\n2. TfIDF','green'))"
   ]
  },
  {
   "cell_type": "code",
   "execution_count": 37,
   "metadata": {
    "colab": {
     "base_uri": "https://localhost:8080/"
    },
    "executionInfo": {
     "elapsed": 149,
     "status": "ok",
     "timestamp": 1623995560097,
     "user": {
      "displayName": "Pratik Nale",
      "photoUrl": "https://lh3.googleusercontent.com/a-/AOh14GgxACC2B4V1fhOSyFFh62hbIEiHukrFJR9SJbwbbQ=s64",
      "userId": "16935723069358383403"
     },
     "user_tz": -330
    },
    "id": "Oph5VDhTOmBZ",
    "outputId": "ff93fd45-a303-45ca-ade7-4cf224e8077d"
   },
   "outputs": [
    {
     "name": "stdout",
     "output_type": "stream",
     "text": [
      "\u001b[34m\u001b[1mBag of words\u001b[0m\n",
      "\u001b[34m\u001b[1mInitializing CountVectorizer\u001b[0m\n"
     ]
    }
   ],
   "source": [
    "print(colored('\\x1B[1mBag of words','blue'))\n",
    "print(colored('\\x1B[1mInitializing CountVectorizer','blue'))\n",
    "ctv = CountVectorizer(analyzer='word', token_pattern=r'\\w{1,}', \n",
    "                      ngram_range=(1, 3), stop_words = 'english')"
   ]
  },
  {
   "cell_type": "code",
   "execution_count": 38,
   "metadata": {
    "colab": {
     "base_uri": "https://localhost:8080/"
    },
    "executionInfo": {
     "elapsed": 19238,
     "status": "ok",
     "timestamp": 1623995579206,
     "user": {
      "displayName": "Pratik Nale",
      "photoUrl": "https://lh3.googleusercontent.com/a-/AOh14GgxACC2B4V1fhOSyFFh62hbIEiHukrFJR9SJbwbbQ=s64",
      "userId": "16935723069358383403"
     },
     "user_tz": -330
    },
    "id": "jZyzA5lCBQCa",
    "outputId": "98be2f04-593c-47fd-8faa-d37ab23fd4df"
   },
   "outputs": [
    {
     "name": "stdout",
     "output_type": "stream",
     "text": [
      "\u001b[34m\u001b[1mFitting X_train and X_test data to CountVectorizer\u001b[0m\n"
     ]
    },
    {
     "data": {
      "text/plain": [
       "CountVectorizer(analyzer='word', binary=False, decode_error='strict',\n",
       "                dtype=<class 'numpy.int64'>, encoding='utf-8', input='content',\n",
       "                lowercase=True, max_df=1.0, max_features=None, min_df=1,\n",
       "                ngram_range=(1, 3), preprocessor=None, stop_words='english',\n",
       "                strip_accents=None, token_pattern='\\\\w{1,}', tokenizer=None,\n",
       "                vocabulary=None)"
      ]
     },
     "execution_count": 38,
     "metadata": {
      "tags": []
     },
     "output_type": "execute_result"
    }
   ],
   "source": [
    "print(colored('\\x1B[1mFitting X_train and X_test data to CountVectorizer','blue'))\n",
    "ctv.fit(X_train)"
   ]
  },
  {
   "cell_type": "code",
   "execution_count": 39,
   "metadata": {
    "colab": {
     "base_uri": "https://localhost:8080/"
    },
    "executionInfo": {
     "elapsed": 5900,
     "status": "ok",
     "timestamp": 1623995585083,
     "user": {
      "displayName": "Pratik Nale",
      "photoUrl": "https://lh3.googleusercontent.com/a-/AOh14GgxACC2B4V1fhOSyFFh62hbIEiHukrFJR9SJbwbbQ=s64",
      "userId": "16935723069358383403"
     },
     "user_tz": -330
    },
    "id": "h95O_aoxBQyW",
    "outputId": "acba6fad-ca66-4c5a-b544-2f41f17cebfc"
   },
   "outputs": [
    {
     "name": "stdout",
     "output_type": "stream",
     "text": [
      "\u001b[34m\u001b[1mTransforming X_train\u001b[0m\n",
      "\u001b[34m\u001b[1mTransforming X_test\u001b[0m\n"
     ]
    }
   ],
   "source": [
    "print(colored('\\x1B[1mTransforming X_train','blue'))\n",
    "xtrain_ctv = ctv.transform(X_train)\n",
    "\n",
    "print(colored('\\x1B[1mTransforming X_test','blue'))\n",
    "xtest_ctv = ctv.transform(X_test)"
   ]
  },
  {
   "cell_type": "markdown",
   "metadata": {
    "id": "3A3xBSRlOmBl"
   },
   "source": [
    "####  TF-IDF (Term Frequency - Inverse Document Frequency)"
   ]
  },
  {
   "cell_type": "code",
   "execution_count": 40,
   "metadata": {
    "colab": {
     "base_uri": "https://localhost:8080/"
    },
    "executionInfo": {
     "elapsed": 27,
     "status": "ok",
     "timestamp": 1623995585084,
     "user": {
      "displayName": "Pratik Nale",
      "photoUrl": "https://lh3.googleusercontent.com/a-/AOh14GgxACC2B4V1fhOSyFFh62hbIEiHukrFJR9SJbwbbQ=s64",
      "userId": "16935723069358383403"
     },
     "user_tz": -330
    },
    "id": "t-dsmcLnOmBl",
    "outputId": "ed75c0e2-3f47-4cd7-c16a-2e834764bff4"
   },
   "outputs": [
    {
     "name": "stdout",
     "output_type": "stream",
     "text": [
      "\u001b[34m\u001b[1mTF-IDF\u001b[0m\n",
      "\u001b[34m\u001b[1mInitializing TfidfVectorizer\u001b[0m\n"
     ]
    }
   ],
   "source": [
    "print(colored('\\x1B[1mTF-IDF','blue'))\n",
    "print(colored('\\x1B[1mInitializing TfidfVectorizer','blue'))\n",
    "\n",
    "tfv = TfidfVectorizer(min_df=3,  max_features=None, \n",
    "                      strip_accents='unicode', analyzer='word',\n",
    "                      token_pattern=r'\\w{1,}',ngram_range=(1, 3), \n",
    "                      use_idf=1,smooth_idf=1,sublinear_tf=1,\n",
    "                      stop_words = 'english')"
   ]
  },
  {
   "cell_type": "code",
   "execution_count": 41,
   "metadata": {
    "colab": {
     "base_uri": "https://localhost:8080/"
    },
    "executionInfo": {
     "elapsed": 19780,
     "status": "ok",
     "timestamp": 1623995604847,
     "user": {
      "displayName": "Pratik Nale",
      "photoUrl": "https://lh3.googleusercontent.com/a-/AOh14GgxACC2B4V1fhOSyFFh62hbIEiHukrFJR9SJbwbbQ=s64",
      "userId": "16935723069358383403"
     },
     "user_tz": -330
    },
    "id": "I-Ci9bhWHfiZ",
    "outputId": "824d5eed-302c-4b42-90fb-df10c0dc7539"
   },
   "outputs": [
    {
     "name": "stdout",
     "output_type": "stream",
     "text": [
      "\u001b[34m\u001b[1mFitting X_train TF-IDFVectorizer\u001b[0m\n"
     ]
    },
    {
     "data": {
      "text/plain": [
       "TfidfVectorizer(analyzer='word', binary=False, decode_error='strict',\n",
       "                dtype=<class 'numpy.float64'>, encoding='utf-8',\n",
       "                input='content', lowercase=True, max_df=1.0, max_features=None,\n",
       "                min_df=3, ngram_range=(1, 3), norm='l2', preprocessor=None,\n",
       "                smooth_idf=1, stop_words='english', strip_accents='unicode',\n",
       "                sublinear_tf=1, token_pattern='\\\\w{1,}', tokenizer=None,\n",
       "                use_idf=1, vocabulary=None)"
      ]
     },
     "execution_count": 41,
     "metadata": {
      "tags": []
     },
     "output_type": "execute_result"
    }
   ],
   "source": [
    "print(colored('\\x1B[1mFitting X_train TF-IDFVectorizer','blue'))\n",
    "tfv.fit(X_train)"
   ]
  },
  {
   "cell_type": "code",
   "execution_count": 42,
   "metadata": {
    "colab": {
     "base_uri": "https://localhost:8080/"
    },
    "executionInfo": {
     "elapsed": 5458,
     "status": "ok",
     "timestamp": 1623995610283,
     "user": {
      "displayName": "Pratik Nale",
      "photoUrl": "https://lh3.googleusercontent.com/a-/AOh14GgxACC2B4V1fhOSyFFh62hbIEiHukrFJR9SJbwbbQ=s64",
      "userId": "16935723069358383403"
     },
     "user_tz": -330
    },
    "id": "SIj1PYFWHY2i",
    "outputId": "44f3a869-c682-47dd-8ea3-a2f96c6f2ffc"
   },
   "outputs": [
    {
     "name": "stdout",
     "output_type": "stream",
     "text": [
      "\u001b[34m\u001b[1mTransforming X_train data\u001b[0m\n",
      "\u001b[34m\u001b[1mTransforming X_train data\u001b[0m\n"
     ]
    }
   ],
   "source": [
    "print(colored('\\x1B[1mTransforming X_train data','blue'))\n",
    "xtrain_tfv =  tfv.transform(X_train) \n",
    "\n",
    "print(colored('\\x1B[1mTransforming X_train data','blue'))\n",
    "xtest_tfv = tfv.transform(X_test)"
   ]
  },
  {
   "cell_type": "markdown",
   "metadata": {
    "id": "aJosDserOmBr"
   },
   "source": [
    "### Create a dictionary to get the count of every label "
   ]
  },
  {
   "cell_type": "code",
   "execution_count": 43,
   "metadata": {
    "executionInfo": {
     "elapsed": 41,
     "status": "ok",
     "timestamp": 1623995610284,
     "user": {
      "displayName": "Pratik Nale",
      "photoUrl": "https://lh3.googleusercontent.com/a-/AOh14GgxACC2B4V1fhOSyFFh62hbIEiHukrFJR9SJbwbbQ=s64",
      "userId": "16935723069358383403"
     },
     "user_tz": -330
    },
    "id": "AZbZSlirOmBs"
   },
   "outputs": [],
   "source": [
    "label_counts=dict()\n",
    "\n",
    "for labels in data_orignal.labels.values:\n",
    "    for label in labels:\n",
    "        if label in label_counts:\n",
    "            label_counts[str(label)]+=1\n",
    "        else:\n",
    "            label_counts[str(label)]=1"
   ]
  },
  {
   "cell_type": "markdown",
   "metadata": {
    "id": "lbfM-RlvOmBv"
   },
   "source": [
    "### Transform the labels"
   ]
  },
  {
   "cell_type": "code",
   "execution_count": 44,
   "metadata": {
    "colab": {
     "base_uri": "https://localhost:8080/"
    },
    "executionInfo": {
     "elapsed": 40,
     "status": "ok",
     "timestamp": 1623995610285,
     "user": {
      "displayName": "Pratik Nale",
      "photoUrl": "https://lh3.googleusercontent.com/a-/AOh14GgxACC2B4V1fhOSyFFh62hbIEiHukrFJR9SJbwbbQ=s64",
      "userId": "16935723069358383403"
     },
     "user_tz": -330
    },
    "id": "Mpi7YHZuOmBw",
    "outputId": "f42bdabb-9b81-4d70-e30d-173804fc8d5b"
   },
   "outputs": [
    {
     "name": "stdout",
     "output_type": "stream",
     "text": [
      "\u001b[34m\u001b[1mBinarizing target column\u001b[0m\n"
     ]
    }
   ],
   "source": [
    "print(colored('\\x1B[1mBinarizing target column','blue'))\n",
    "\n",
    "binarizer=MultiLabelBinarizer(classes=sorted(label_counts.keys()))\n",
    "\n",
    "y_train = binarizer.fit_transform(y_train)\n",
    "y_test = binarizer.transform(y_test)"
   ]
  },
  {
   "cell_type": "code",
   "execution_count": 45,
   "metadata": {
    "colab": {
     "base_uri": "https://localhost:8080/"
    },
    "executionInfo": {
     "elapsed": 31,
     "status": "ok",
     "timestamp": 1623995610286,
     "user": {
      "displayName": "Pratik Nale",
      "photoUrl": "https://lh3.googleusercontent.com/a-/AOh14GgxACC2B4V1fhOSyFFh62hbIEiHukrFJR9SJbwbbQ=s64",
      "userId": "16935723069358383403"
     },
     "user_tz": -330
    },
    "id": "O-mBEHTR9Frs",
    "outputId": "fa852b1b-ea47-4376-8e15-2f11af880e67"
   },
   "outputs": [
    {
     "name": "stdout",
     "output_type": "stream",
     "text": [
      "\u001b[34m\u001b[1mTotal no. of classes\u001b[0m\n"
     ]
    },
    {
     "data": {
      "text/plain": [
       "80"
      ]
     },
     "execution_count": 45,
     "metadata": {
      "tags": []
     },
     "output_type": "execute_result"
    }
   ],
   "source": [
    "print(colored('\\x1B[1mTotal no. of classes','blue'))\n",
    "len(binarizer.classes_)"
   ]
  },
  {
   "cell_type": "code",
   "execution_count": 46,
   "metadata": {
    "colab": {
     "base_uri": "https://localhost:8080/"
    },
    "executionInfo": {
     "elapsed": 26,
     "status": "ok",
     "timestamp": 1623995610287,
     "user": {
      "displayName": "Pratik Nale",
      "photoUrl": "https://lh3.googleusercontent.com/a-/AOh14GgxACC2B4V1fhOSyFFh62hbIEiHukrFJR9SJbwbbQ=s64",
      "userId": "16935723069358383403"
     },
     "user_tz": -330
    },
    "id": "8eGpqHJcOmB2",
    "outputId": "79e1b30c-b5ba-4b68-c83a-d0c3899206a4"
   },
   "outputs": [
    {
     "name": "stdout",
     "output_type": "stream",
     "text": [
      "\u001b[34m\u001b[1mLegth of each array \u001b[0m\n"
     ]
    },
    {
     "data": {
      "text/plain": [
       "80"
      ]
     },
     "execution_count": 46,
     "metadata": {
      "tags": []
     },
     "output_type": "execute_result"
    }
   ],
   "source": [
    "print(colored('\\x1B[1mLegth of each array ','blue'))\n",
    "len(y_train[0])"
   ]
  },
  {
   "cell_type": "markdown",
   "metadata": {
    "id": "gzaUW3FBOmB7"
   },
   "source": [
    "### Multi-Label Classification Techniques"
   ]
  },
  {
   "cell_type": "code",
   "execution_count": 47,
   "metadata": {
    "colab": {
     "base_uri": "https://localhost:8080/"
    },
    "executionInfo": {
     "elapsed": 19,
     "status": "ok",
     "timestamp": 1623995610287,
     "user": {
      "displayName": "Pratik Nale",
      "photoUrl": "https://lh3.googleusercontent.com/a-/AOh14GgxACC2B4V1fhOSyFFh62hbIEiHukrFJR9SJbwbbQ=s64",
      "userId": "16935723069358383403"
     },
     "user_tz": -330
    },
    "id": "_u1viP9mOmB8",
    "outputId": "95a07d1f-2808-476a-a881-40e4f439641e"
   },
   "outputs": [
    {
     "name": "stdout",
     "output_type": "stream",
     "text": [
      "\u001b[34m\u001b[1mFunctions for metrics\u001b[0m\n",
      "\u001b[32m\u001b[1m1.Micro Metrics\n",
      "2.Macro Metrics\n",
      "3.Weighted Metrics\u001b[0m\n"
     ]
    }
   ],
   "source": [
    "print(colored('\\x1B[1mFunctions for metrics','blue'))\n",
    "print(colored('\\x1B[1m1.Micro Metrics\\n2.Macro Metrics\\n3.Weighted Metrics','green'))\n",
    "\n",
    "def display_metrics_micro(Ytest, Ypred):\n",
    "    print(colored('\\x1B[1mAccuracy score: ','blue'))\n",
    "    print(accuracy_score(Ytest, Ypred))\n",
    "    print(colored('\\x1B[1mF1 score: Micro','blue'))\n",
    "    print(f1_score(Ytest, Ypred, average='micro'))\n",
    "    print(colored('\\x1B[1mAverage precision score: Micro','blue'))\n",
    "    print(average_precision_score(Ytest, Ypred, average='micro'))\n",
    "    print(colored('\\x1B[1mAverage recall score: Micro','blue'))\n",
    "    print(recall_score(Ytest, Ypred, average='micro'))\n",
    "    \n",
    "    \n",
    "def display_metrics_macro(Ytest, Ypred):\n",
    "    print(colored('\\x1B[1mAccuracy score: ','blue'))\n",
    "    print(accuracy_score(Ytest, Ypred))\n",
    "    print(colored('\\x1B[1mF1 score: Macro','blue'))\n",
    "    print(f1_score(Ytest, Ypred, average='macro'))\n",
    "    print(colored('\\x1B[1mAverage recall score: MAcro','blue'))\n",
    "    print(recall_score(Ytest, Ypred, average='macro'))\n",
    "    \n",
    "def display_metrics_weighted(Ytest, Ypred):\n",
    "    print(colored('\\x1B[1mAccuracy score: ','blue'))\n",
    "    print(accuracy_score(Ytest, Ypred))\n",
    "    print(colored('\\x1B[1mF1 score: weighted','blue'))\n",
    "    print(f1_score(Ytest, Ypred, average='weighted'))\n",
    "    print(colored('\\x1B[1mAverage precision score: weighted','blue'))\n",
    "    print(average_precision_score(Ytest, Ypred, average='weighted'))\n",
    "    print(colored('\\x1B[1mAverage recall score: weighted','blue'))\n",
    "    print(recall_score(Ytest, Ypred, average='weighted'))"
   ]
  },
  {
   "cell_type": "markdown",
   "metadata": {
    "id": "n8mHOxzUGFsJ"
   },
   "source": [
    "### Classifier using BOW"
   ]
  },
  {
   "cell_type": "code",
   "execution_count": 48,
   "metadata": {
    "colab": {
     "base_uri": "https://localhost:8080/"
    },
    "executionInfo": {
     "elapsed": 1596496,
     "status": "ok",
     "timestamp": 1623997206769,
     "user": {
      "displayName": "Pratik Nale",
      "photoUrl": "https://lh3.googleusercontent.com/a-/AOh14GgxACC2B4V1fhOSyFFh62hbIEiHukrFJR9SJbwbbQ=s64",
      "userId": "16935723069358383403"
     },
     "user_tz": -330
    },
    "id": "cNrMZJj8OmCB",
    "outputId": "c9bc9521-a338-49f1-a20a-acb79977e177"
   },
   "outputs": [
    {
     "name": "stdout",
     "output_type": "stream",
     "text": [
      "\u001b[34m\u001b[1mUsing pipeline for applying logistic regression and one vs rest classifier\u001b[0m\n",
      "\u001b[34m\u001b[1mFitting data to classifier\u001b[0m\n"
     ]
    }
   ],
   "source": [
    "print(colored('\\x1B[1mUsing pipeline for applying logistic regression and one vs rest classifier','blue'))\n",
    "print(colored('\\x1B[1mFitting data to classifier','blue'))\n",
    "\n",
    "clsfr = Pipeline([\n",
    "                ('clf', OneVsRestClassifier(LogisticRegression(solver='lbfgs'),\n",
    "                    n_jobs=-1)),])\n",
    "clsfr.fit(xtrain_ctv, y_train)\n",
    "\n",
    "Y_predicted_oneVsRest = clsfr.predict(xtest_ctv)"
   ]
  },
  {
   "cell_type": "code",
   "execution_count": 49,
   "metadata": {
    "colab": {
     "base_uri": "https://localhost:8080/"
    },
    "executionInfo": {
     "elapsed": 114,
     "status": "ok",
     "timestamp": 1623997206772,
     "user": {
      "displayName": "Pratik Nale",
      "photoUrl": "https://lh3.googleusercontent.com/a-/AOh14GgxACC2B4V1fhOSyFFh62hbIEiHukrFJR9SJbwbbQ=s64",
      "userId": "16935723069358383403"
     },
     "user_tz": -330
    },
    "id": "tfTwkhwX-WFA",
    "outputId": "e0ad7d7b-37a0-44a0-a1ce-b0f308a4e044"
   },
   "outputs": [
    {
     "name": "stdout",
     "output_type": "stream",
     "text": [
      "\u001b[34m\u001b[1mClassification Report\u001b[0m\n",
      "              precision    recall  f1-score   support\n",
      "\n",
      "           0       0.00      0.00      0.00        54\n",
      "           1       1.00      0.01      0.02       120\n",
      "           2       0.17      0.02      0.03       179\n",
      "           3       0.41      0.04      0.08       334\n",
      "           4       0.36      0.04      0.08       373\n",
      "           5       0.21      0.01      0.02       286\n",
      "           6       0.33      0.02      0.03       337\n",
      "           7       0.23      0.01      0.02       294\n",
      "           8       0.00      0.00      0.00       235\n",
      "           9       0.00      0.00      0.00       210\n",
      "          10       0.25      0.01      0.02        84\n",
      "          11       0.25      0.01      0.02       102\n",
      "          12       0.25      0.03      0.05        80\n",
      "          13       0.00      0.00      0.00        70\n",
      "          14       0.00      0.00      0.00        44\n",
      "          15       0.00      0.00      0.00        23\n",
      "          16       0.00      0.00      0.00        21\n",
      "          17       0.00      0.00      0.00        18\n",
      "          18       0.00      0.00      0.00        18\n",
      "          19       0.00      0.00      0.00        13\n",
      "          20       0.00      0.00      0.00        18\n",
      "          21       0.00      0.00      0.00        13\n",
      "          22       0.00      0.00      0.00        24\n",
      "          23       0.00      0.00      0.00        19\n",
      "          24       0.33      0.12      0.18         8\n",
      "          25       0.00      0.00      0.00        18\n",
      "          26       0.00      0.00      0.00        18\n",
      "          27       0.00      0.00      0.00        18\n",
      "          28       0.00      0.00      0.00         7\n",
      "          29       0.25      0.01      0.02       198\n",
      "          30       0.00      0.00      0.00         3\n",
      "          31       0.00      0.00      0.00       275\n",
      "          32       0.00      0.00      0.00       139\n",
      "          33       0.00      0.00      0.00         7\n",
      "          34       0.00      0.00      0.00        16\n",
      "          35       0.00      0.00      0.00         9\n",
      "          36       1.00      0.05      0.10        19\n",
      "          37       0.30      0.01      0.02       291\n",
      "          38       0.00      0.00      0.00       228\n",
      "          39       0.00      0.00      0.00        22\n",
      "          40       0.00      0.00      0.00        78\n",
      "          41       0.00      0.00      0.00         4\n",
      "          42       0.00      0.00      0.00        28\n",
      "          43       0.17      0.01      0.01       131\n",
      "          44       0.00      0.00      0.00        46\n",
      "          45       0.00      0.00      0.00         4\n",
      "          46       0.00      0.00      0.00        19\n",
      "          47       0.20      0.00      0.01       237\n",
      "          48       0.00      0.00      0.00        26\n",
      "          49       0.00      0.00      0.00        11\n",
      "          50       0.50      0.02      0.04        53\n",
      "          51       0.00      0.00      0.00         8\n",
      "          52       0.00      0.00      0.00        36\n",
      "          53       0.00      0.00      0.00        10\n",
      "          54       0.20      0.00      0.01       254\n",
      "          55       0.14      0.00      0.01       269\n",
      "          56       0.00      0.00      0.00         8\n",
      "          57       0.00      0.00      0.00         2\n",
      "          58       0.00      0.00      0.00        18\n",
      "          59       0.00      0.00      0.00        16\n",
      "          60       0.00      0.00      0.00        15\n",
      "          61       0.00      0.00      0.00        72\n",
      "          62       0.25      0.01      0.02       232\n",
      "          63       0.00      0.00      0.00        41\n",
      "          64       0.00      0.00      0.00        14\n",
      "          65       0.00      0.00      0.00        27\n",
      "          66       0.00      0.00      0.00       206\n",
      "          67       0.00      0.00      0.00        31\n",
      "          68       0.25      0.00      0.01       258\n",
      "          69       0.00      0.00      0.00        13\n",
      "          70       0.44      0.13      0.20       686\n",
      "          71       0.09      0.00      0.01       259\n",
      "          72       0.18      0.01      0.02       188\n",
      "          73       0.00      0.00      0.00        18\n",
      "          74       0.00      0.00      0.00         4\n",
      "          75       0.50      0.12      0.20         8\n",
      "          76       0.33      0.01      0.01       288\n",
      "          77       0.63      0.59      0.61      1489\n",
      "          78       0.43      0.20      0.27      1122\n",
      "          79       0.62      0.66      0.64      1506\n",
      "\n",
      "   micro avg       0.56      0.19      0.28     11980\n",
      "   macro avg       0.13      0.03      0.03     11980\n",
      "weighted avg       0.33      0.19      0.20     11980\n",
      " samples avg       0.58      0.19      0.28     11980\n",
      "\n"
     ]
    },
    {
     "name": "stderr",
     "output_type": "stream",
     "text": [
      "/usr/local/lib/python3.7/dist-packages/sklearn/metrics/_classification.py:1272: UndefinedMetricWarning: Precision and F-score are ill-defined and being set to 0.0 in labels with no predicted samples. Use `zero_division` parameter to control this behavior.\n",
      "  _warn_prf(average, modifier, msg_start, len(result))\n"
     ]
    }
   ],
   "source": [
    "print(colored('\\x1B[1mClassification Report','blue'))\n",
    "print(classification_report(y_test,Y_predicted_oneVsRest))"
   ]
  },
  {
   "cell_type": "code",
   "execution_count": 50,
   "metadata": {
    "colab": {
     "base_uri": "https://localhost:8080/"
    },
    "executionInfo": {
     "elapsed": 77,
     "status": "ok",
     "timestamp": 1623997206774,
     "user": {
      "displayName": "Pratik Nale",
      "photoUrl": "https://lh3.googleusercontent.com/a-/AOh14GgxACC2B4V1fhOSyFFh62hbIEiHukrFJR9SJbwbbQ=s64",
      "userId": "16935723069358383403"
     },
     "user_tz": -330
    },
    "id": "_l1CuF6JOmCE",
    "outputId": "320a6c77-b86d-445b-e469-978b08b8f1af"
   },
   "outputs": [
    {
     "name": "stdout",
     "output_type": "stream",
     "text": [
      "\u001b[34m\u001b[1mMetrics Micro BOW\u001b[0m\n",
      "\u001b[34m\u001b[1mAccuracy score: \u001b[0m\n",
      "0.001335559265442404\n",
      "\u001b[34m\u001b[1mF1 score: Micro\u001b[0m\n",
      "0.2816672906526894\n",
      "\u001b[34m\u001b[1mAverage precision score: Micro\u001b[0m\n",
      "0.1456747384213432\n",
      "\u001b[34m\u001b[1mAverage recall score: Micro\u001b[0m\n",
      "0.18839732888146912\n",
      "None\n"
     ]
    }
   ],
   "source": [
    "print(colored('\\x1B[1mMetrics Micro BOW','blue'))\n",
    "print(display_metrics_micro(y_test,Y_predicted_oneVsRest))"
   ]
  },
  {
   "cell_type": "code",
   "execution_count": 51,
   "metadata": {
    "colab": {
     "base_uri": "https://localhost:8080/"
    },
    "executionInfo": {
     "elapsed": 50,
     "status": "ok",
     "timestamp": 1623997206774,
     "user": {
      "displayName": "Pratik Nale",
      "photoUrl": "https://lh3.googleusercontent.com/a-/AOh14GgxACC2B4V1fhOSyFFh62hbIEiHukrFJR9SJbwbbQ=s64",
      "userId": "16935723069358383403"
     },
     "user_tz": -330
    },
    "id": "Dssyvq3-OmCJ",
    "outputId": "4ee3643c-d147-428e-e447-3d5ec27b6275"
   },
   "outputs": [
    {
     "name": "stdout",
     "output_type": "stream",
     "text": [
      "\u001b[34m\u001b[1mMetrics Macro BOW\u001b[0m\n",
      "\u001b[34m\u001b[1mAccuracy score: \u001b[0m\n",
      "0.001335559265442404\n",
      "\u001b[34m\u001b[1mF1 score: Macro\u001b[0m\n",
      "0.034440622816963376\n",
      "\u001b[34m\u001b[1mAverage recall score: MAcro\u001b[0m\n",
      "0.027209544063036835\n",
      "None\n"
     ]
    }
   ],
   "source": [
    "print(colored('\\x1B[1mMetrics Macro BOW','blue'))\n",
    "print(display_metrics_macro(y_test,Y_predicted_oneVsRest))"
   ]
  },
  {
   "cell_type": "code",
   "execution_count": 52,
   "metadata": {
    "colab": {
     "base_uri": "https://localhost:8080/"
    },
    "executionInfo": {
     "elapsed": 46,
     "status": "ok",
     "timestamp": 1623997206777,
     "user": {
      "displayName": "Pratik Nale",
      "photoUrl": "https://lh3.googleusercontent.com/a-/AOh14GgxACC2B4V1fhOSyFFh62hbIEiHukrFJR9SJbwbbQ=s64",
      "userId": "16935723069358383403"
     },
     "user_tz": -330
    },
    "id": "6rfHIWkoOmCM",
    "outputId": "4aa6d033-6f8c-448f-b15d-da0cf54c4039"
   },
   "outputs": [
    {
     "name": "stdout",
     "output_type": "stream",
     "text": [
      "\u001b[34m\u001b[1mMetrics Weighted BOW\u001b[0m\n",
      "\u001b[34m\u001b[1mAccuracy score: \u001b[0m\n",
      "0.001335559265442404\n",
      "\u001b[34m\u001b[1mF1 score: weighted\u001b[0m\n",
      "0.20430073448647212\n",
      "\u001b[34m\u001b[1mAverage precision score: weighted\u001b[0m\n",
      "0.24046347907400864\n",
      "\u001b[34m\u001b[1mAverage recall score: weighted\u001b[0m\n",
      "0.18839732888146912\n",
      "None\n"
     ]
    }
   ],
   "source": [
    "print(colored('\\x1B[1mMetrics Weighted BOW','blue'))\n",
    "print(display_metrics_weighted(y_test,Y_predicted_oneVsRest))"
   ]
  },
  {
   "cell_type": "markdown",
   "metadata": {
    "id": "kEWC1MUjOmCS"
   },
   "source": [
    "### Let's check for any 5 inputs and there predicted labels"
   ]
  },
  {
   "cell_type": "code",
   "execution_count": 53,
   "metadata": {
    "colab": {
     "base_uri": "https://localhost:8080/"
    },
    "executionInfo": {
     "elapsed": 35,
     "status": "ok",
     "timestamp": 1623997206779,
     "user": {
      "displayName": "Pratik Nale",
      "photoUrl": "https://lh3.googleusercontent.com/a-/AOh14GgxACC2B4V1fhOSyFFh62hbIEiHukrFJR9SJbwbbQ=s64",
      "userId": "16935723069358383403"
     },
     "user_tz": -330
    },
    "id": "UqUClYD5OmCT",
    "outputId": "fe0c57b6-03c5-4d4d-aaf2-3493c191b210"
   },
   "outputs": [
    {
     "name": "stdout",
     "output_type": "stream",
     "text": [
      "\u001b[34m\u001b[1mFunction for true label and predicted label BOW\u001b[0m\n"
     ]
    }
   ],
   "source": [
    "print(colored('\\x1B[1mFunction for true label and predicted label BOW','blue'))\n",
    "\n",
    "\n",
    "def print_predicted(y_predicted, y_test = y_test , n = 5):\n",
    "    j = []\n",
    "    for i in range(n):\n",
    "        j.append(random.randint(0, len(y_test)))\n",
    "    print(j)\n",
    "                 \n",
    "    for k in j:\n",
    "        print(binarizer.inverse_transform(y_predicted)[k])\n",
    "        print(binarizer.inverse_transform(y_test)[k])\n",
    "        print(\"=================x==================x================x==========\")"
   ]
  },
  {
   "cell_type": "code",
   "execution_count": 54,
   "metadata": {
    "colab": {
     "base_uri": "https://localhost:8080/"
    },
    "executionInfo": {
     "elapsed": 642,
     "status": "ok",
     "timestamp": 1623997207393,
     "user": {
      "displayName": "Pratik Nale",
      "photoUrl": "https://lh3.googleusercontent.com/a-/AOh14GgxACC2B4V1fhOSyFFh62hbIEiHukrFJR9SJbwbbQ=s64",
      "userId": "16935723069358383403"
     },
     "user_tz": -330
    },
    "id": "ygipZLT7OmCX",
    "outputId": "c2f37933-7833-41e0-9122-e5b7f4517678"
   },
   "outputs": [
    {
     "name": "stdout",
     "output_type": "stream",
     "text": [
      "\u001b[34m\u001b[1mTrue label and predicted label for any five examples\u001b[0m\n",
      "[1043, 1812, 29, 1184, 1853, 1182, 2990, 1812, 1462, 680]\n",
      "('female',)\n",
      "('15', 'Aquarius', 'Student', 'male')\n",
      "=================x==================x================x==========\n",
      "('male',)\n",
      "('25', 'Arts', 'Sagittarius', 'male')\n",
      "=================x==================x================x==========\n",
      "('male',)\n",
      "('17', 'Gemini', 'indUnk', 'male')\n",
      "=================x==================x================x==========\n",
      "('35', 'Aries', 'Technology', 'female')\n",
      "('17', 'Libra', 'Student', 'female')\n",
      "=================x==================x================x==========\n",
      "('male',)\n",
      "('17', 'Capricorn', 'Student', 'female')\n",
      "=================x==================x================x==========\n",
      "('male',)\n",
      "('37', 'Cancer', 'Religion', 'male')\n",
      "=================x==================x================x==========\n",
      "('female', 'indUnk')\n",
      "('25', 'Manufacturing', 'Virgo', 'male')\n",
      "=================x==================x================x==========\n",
      "('male',)\n",
      "('25', 'Arts', 'Sagittarius', 'male')\n",
      "=================x==================x================x==========\n",
      "('male',)\n",
      "('26', 'Cancer', 'female', 'indUnk')\n",
      "=================x==================x================x==========\n",
      "('female',)\n",
      "('43', 'Student', 'Taurus', 'female')\n",
      "=================x==================x================x==========\n"
     ]
    }
   ],
   "source": [
    "print(colored('\\x1B[1mTrue label and predicted label for any five examples','blue'))\n",
    "print_predicted(y_predicted=Y_predicted_oneVsRest,y_test=y_test, n= 10)"
   ]
  },
  {
   "cell_type": "markdown",
   "metadata": {
    "id": "wbbOkip2GNTj"
   },
   "source": [
    "### Classifier using Tf-Idf"
   ]
  },
  {
   "cell_type": "code",
   "execution_count": 55,
   "metadata": {
    "colab": {
     "base_uri": "https://localhost:8080/"
    },
    "executionInfo": {
     "elapsed": 32091,
     "status": "ok",
     "timestamp": 1623997239481,
     "user": {
      "displayName": "Pratik Nale",
      "photoUrl": "https://lh3.googleusercontent.com/a-/AOh14GgxACC2B4V1fhOSyFFh62hbIEiHukrFJR9SJbwbbQ=s64",
      "userId": "16935723069358383403"
     },
     "user_tz": -330
    },
    "id": "z8xciHZOGWje",
    "outputId": "99d8665a-9bee-4a1f-fbc9-47a749449ad7"
   },
   "outputs": [
    {
     "name": "stdout",
     "output_type": "stream",
     "text": [
      "\u001b[34m\u001b[1mUsing pipeline for applying logistic regression and one vs rest classifier\u001b[0m\n",
      "\u001b[34m\u001b[1mFitting data to classifier\u001b[0m\n"
     ]
    }
   ],
   "source": [
    "print(colored('\\x1B[1mUsing pipeline for applying logistic regression and one vs rest classifier','blue'))\n",
    "print(colored('\\x1B[1mFitting data to classifier','blue'))\n",
    "\n",
    "clsfr = Pipeline([\n",
    "                ('clf', OneVsRestClassifier(LogisticRegression(solver='lbfgs'),\n",
    "                    n_jobs=-1)),])\n",
    "\n",
    "clsfr.fit(xtrain_tfv, y_train)\n",
    "\n",
    "Y_predicted_oneVsRest = clsfr.predict(xtest_tfv)"
   ]
  },
  {
   "cell_type": "code",
   "execution_count": 56,
   "metadata": {
    "colab": {
     "base_uri": "https://localhost:8080/"
    },
    "executionInfo": {
     "elapsed": 27,
     "status": "ok",
     "timestamp": 1623997239482,
     "user": {
      "displayName": "Pratik Nale",
      "photoUrl": "https://lh3.googleusercontent.com/a-/AOh14GgxACC2B4V1fhOSyFFh62hbIEiHukrFJR9SJbwbbQ=s64",
      "userId": "16935723069358383403"
     },
     "user_tz": -330
    },
    "id": "RPO8FUG-GWjh",
    "outputId": "84db6cd8-66db-4c54-fb59-4f3091241637"
   },
   "outputs": [
    {
     "name": "stdout",
     "output_type": "stream",
     "text": [
      "\u001b[34m\u001b[1mClassification Report Tf-Idf\u001b[0m\n",
      "              precision    recall  f1-score   support\n",
      "\n",
      "           0       0.00      0.00      0.00        54\n",
      "           1       0.00      0.00      0.00       120\n",
      "           2       0.00      0.00      0.00       179\n",
      "           3       0.00      0.00      0.00       334\n",
      "           4       0.00      0.00      0.00       373\n",
      "           5       0.00      0.00      0.00       286\n",
      "           6       0.00      0.00      0.00       337\n",
      "           7       0.00      0.00      0.00       294\n",
      "           8       0.00      0.00      0.00       235\n",
      "           9       0.00      0.00      0.00       210\n",
      "          10       0.00      0.00      0.00        84\n",
      "          11       0.00      0.00      0.00       102\n",
      "          12       0.00      0.00      0.00        80\n",
      "          13       0.00      0.00      0.00        70\n",
      "          14       0.00      0.00      0.00        44\n",
      "          15       0.00      0.00      0.00        23\n",
      "          16       0.00      0.00      0.00        21\n",
      "          17       0.00      0.00      0.00        18\n",
      "          18       0.00      0.00      0.00        18\n",
      "          19       0.00      0.00      0.00        13\n",
      "          20       0.00      0.00      0.00        18\n",
      "          21       0.00      0.00      0.00        13\n",
      "          22       0.00      0.00      0.00        24\n",
      "          23       0.00      0.00      0.00        19\n",
      "          24       0.00      0.00      0.00         8\n",
      "          25       0.00      0.00      0.00        18\n",
      "          26       0.00      0.00      0.00        18\n",
      "          27       0.00      0.00      0.00        18\n",
      "          28       0.00      0.00      0.00         7\n",
      "          29       0.00      0.00      0.00       198\n",
      "          30       0.00      0.00      0.00         3\n",
      "          31       0.00      0.00      0.00       275\n",
      "          32       0.00      0.00      0.00       139\n",
      "          33       0.00      0.00      0.00         7\n",
      "          34       0.00      0.00      0.00        16\n",
      "          35       0.00      0.00      0.00         9\n",
      "          36       0.00      0.00      0.00        19\n",
      "          37       1.00      0.00      0.01       291\n",
      "          38       0.00      0.00      0.00       228\n",
      "          39       0.00      0.00      0.00        22\n",
      "          40       0.00      0.00      0.00        78\n",
      "          41       0.00      0.00      0.00         4\n",
      "          42       0.00      0.00      0.00        28\n",
      "          43       0.00      0.00      0.00       131\n",
      "          44       0.00      0.00      0.00        46\n",
      "          45       0.00      0.00      0.00         4\n",
      "          46       0.00      0.00      0.00        19\n",
      "          47       0.00      0.00      0.00       237\n",
      "          48       0.00      0.00      0.00        26\n",
      "          49       0.00      0.00      0.00        11\n",
      "          50       0.00      0.00      0.00        53\n",
      "          51       0.00      0.00      0.00         8\n",
      "          52       0.00      0.00      0.00        36\n",
      "          53       0.00      0.00      0.00        10\n",
      "          54       0.00      0.00      0.00       254\n",
      "          55       0.00      0.00      0.00       269\n",
      "          56       0.00      0.00      0.00         8\n",
      "          57       0.00      0.00      0.00         2\n",
      "          58       0.00      0.00      0.00        18\n",
      "          59       0.00      0.00      0.00        16\n",
      "          60       0.00      0.00      0.00        15\n",
      "          61       0.00      0.00      0.00        72\n",
      "          62       0.00      0.00      0.00       232\n",
      "          63       0.00      0.00      0.00        41\n",
      "          64       0.00      0.00      0.00        14\n",
      "          65       0.00      0.00      0.00        27\n",
      "          66       0.00      0.00      0.00       206\n",
      "          67       0.00      0.00      0.00        31\n",
      "          68       0.00      0.00      0.00       258\n",
      "          69       0.00      0.00      0.00        13\n",
      "          70       0.51      0.06      0.10       686\n",
      "          71       0.00      0.00      0.00       259\n",
      "          72       0.00      0.00      0.00       188\n",
      "          73       0.00      0.00      0.00        18\n",
      "          74       0.00      0.00      0.00         4\n",
      "          75       0.00      0.00      0.00         8\n",
      "          76       0.00      0.00      0.00       288\n",
      "          77       0.65      0.63      0.64      1489\n",
      "          78       0.44      0.04      0.08      1122\n",
      "          79       0.65      0.67      0.66      1506\n",
      "\n",
      "   micro avg       0.64      0.17      0.27     11980\n",
      "   macro avg       0.04      0.02      0.02     11980\n",
      "weighted avg       0.26      0.17      0.18     11980\n",
      " samples avg       0.64      0.17      0.27     11980\n",
      "\n"
     ]
    },
    {
     "name": "stderr",
     "output_type": "stream",
     "text": [
      "/usr/local/lib/python3.7/dist-packages/sklearn/metrics/_classification.py:1272: UndefinedMetricWarning: Precision and F-score are ill-defined and being set to 0.0 in labels with no predicted samples. Use `zero_division` parameter to control this behavior.\n",
      "  _warn_prf(average, modifier, msg_start, len(result))\n"
     ]
    }
   ],
   "source": [
    "print(colored('\\x1B[1mClassification Report Tf-Idf','blue'))\n",
    "print(classification_report(y_test,Y_predicted_oneVsRest))"
   ]
  },
  {
   "cell_type": "code",
   "execution_count": 57,
   "metadata": {
    "colab": {
     "base_uri": "https://localhost:8080/"
    },
    "executionInfo": {
     "elapsed": 20,
     "status": "ok",
     "timestamp": 1623997239483,
     "user": {
      "displayName": "Pratik Nale",
      "photoUrl": "https://lh3.googleusercontent.com/a-/AOh14GgxACC2B4V1fhOSyFFh62hbIEiHukrFJR9SJbwbbQ=s64",
      "userId": "16935723069358383403"
     },
     "user_tz": -330
    },
    "id": "aEfYwbXHGWjh",
    "outputId": "b85dbf7a-2167-486d-c3fb-e4e2e68488d2"
   },
   "outputs": [
    {
     "name": "stdout",
     "output_type": "stream",
     "text": [
      "\u001b[34m\u001b[1mMetrics Micro Tf-Idf\u001b[0m\n",
      "\u001b[34m\u001b[1mAccuracy score: \u001b[0m\n",
      "0.0\n",
      "\u001b[34m\u001b[1mF1 score: Micro\u001b[0m\n",
      "0.2683731362976646\n",
      "\u001b[34m\u001b[1mAverage precision score: Micro\u001b[0m\n",
      "0.15017622721317572\n",
      "\u001b[34m\u001b[1mAverage recall score: Micro\u001b[0m\n",
      "0.16978297161936562\n",
      "None\n"
     ]
    }
   ],
   "source": [
    "print(colored('\\x1B[1mMetrics Micro Tf-Idf','blue'))\n",
    "print(display_metrics_micro(y_test,Y_predicted_oneVsRest))"
   ]
  },
  {
   "cell_type": "code",
   "execution_count": 58,
   "metadata": {
    "colab": {
     "base_uri": "https://localhost:8080/"
    },
    "executionInfo": {
     "elapsed": 14,
     "status": "ok",
     "timestamp": 1623997239484,
     "user": {
      "displayName": "Pratik Nale",
      "photoUrl": "https://lh3.googleusercontent.com/a-/AOh14GgxACC2B4V1fhOSyFFh62hbIEiHukrFJR9SJbwbbQ=s64",
      "userId": "16935723069358383403"
     },
     "user_tz": -330
    },
    "id": "E50sZ7mOGWji",
    "outputId": "12071c49-5f2e-452b-e77e-fa0188e68993"
   },
   "outputs": [
    {
     "name": "stdout",
     "output_type": "stream",
     "text": [
      "\u001b[34m\u001b[1mMetrics Macro Tf-Idf\u001b[0m\n",
      "\u001b[34m\u001b[1mAccuracy score: \u001b[0m\n",
      "0.0\n",
      "\u001b[34m\u001b[1mF1 score: Macro\u001b[0m\n",
      "0.01854696084186681\n",
      "\u001b[34m\u001b[1mAverage recall score: MAcro\u001b[0m\n",
      "0.017517108755897636\n",
      "None\n"
     ]
    }
   ],
   "source": [
    "print(colored('\\x1B[1mMetrics Macro Tf-Idf','blue'))\n",
    "print(display_metrics_macro(y_test,Y_predicted_oneVsRest))"
   ]
  },
  {
   "cell_type": "code",
   "execution_count": 59,
   "metadata": {
    "colab": {
     "base_uri": "https://localhost:8080/"
    },
    "executionInfo": {
     "elapsed": 677,
     "status": "ok",
     "timestamp": 1623997240153,
     "user": {
      "displayName": "Pratik Nale",
      "photoUrl": "https://lh3.googleusercontent.com/a-/AOh14GgxACC2B4V1fhOSyFFh62hbIEiHukrFJR9SJbwbbQ=s64",
      "userId": "16935723069358383403"
     },
     "user_tz": -330
    },
    "id": "khvDdfBmGWji",
    "outputId": "67e98bff-dc8a-42bb-ff60-a7e708b5c473"
   },
   "outputs": [
    {
     "name": "stdout",
     "output_type": "stream",
     "text": [
      "\u001b[34m\u001b[1mMetrics Weighted Tf-Idf\u001b[0m\n",
      "\u001b[34m\u001b[1mAccuracy score: \u001b[0m\n",
      "0.0\n",
      "\u001b[34m\u001b[1mF1 score: weighted\u001b[0m\n",
      "0.1756275336323629\n",
      "\u001b[34m\u001b[1mAverage precision score: weighted\u001b[0m\n",
      "0.2426528367608967\n",
      "\u001b[34m\u001b[1mAverage recall score: weighted\u001b[0m\n",
      "0.16978297161936562\n",
      "None\n"
     ]
    }
   ],
   "source": [
    "print(colored('\\x1B[1mMetrics Weighted Tf-Idf','blue'))\n",
    "print(display_metrics_weighted(y_test,Y_predicted_oneVsRest))"
   ]
  },
  {
   "cell_type": "markdown",
   "metadata": {
    "id": "UIWUD7H6GWji"
   },
   "source": [
    "### Let's check for any 5 inputs and there predicted labels"
   ]
  },
  {
   "cell_type": "code",
   "execution_count": 60,
   "metadata": {
    "colab": {
     "base_uri": "https://localhost:8080/"
    },
    "executionInfo": {
     "elapsed": 23,
     "status": "ok",
     "timestamp": 1623997240154,
     "user": {
      "displayName": "Pratik Nale",
      "photoUrl": "https://lh3.googleusercontent.com/a-/AOh14GgxACC2B4V1fhOSyFFh62hbIEiHukrFJR9SJbwbbQ=s64",
      "userId": "16935723069358383403"
     },
     "user_tz": -330
    },
    "id": "I5dwY95BGWjj",
    "outputId": "9c1eb508-4058-40f4-9301-4c800202b420"
   },
   "outputs": [
    {
     "name": "stdout",
     "output_type": "stream",
     "text": [
      "\u001b[34m\u001b[1mFunction for true label and predicted label\u001b[0m\n"
     ]
    }
   ],
   "source": [
    "print(colored('\\x1B[1mFunction for true label and predicted label','blue'))\n",
    "\n",
    "\n",
    "def print_predicted(y_predicted, y_test = y_test , n = 5):\n",
    "    j = []\n",
    "    for i in range(n):\n",
    "        j.append(random.randint(0, len(y_test)))\n",
    "    print(j)\n",
    "                 \n",
    "    for k in j:\n",
    "        print(binarizer.inverse_transform(y_predicted)[k])\n",
    "        print(binarizer.inverse_transform(y_test)[k])\n",
    "        print(\"=================x==================x================x==========\")"
   ]
  },
  {
   "cell_type": "code",
   "execution_count": 61,
   "metadata": {
    "colab": {
     "base_uri": "https://localhost:8080/"
    },
    "executionInfo": {
     "elapsed": 18,
     "status": "ok",
     "timestamp": 1623997240155,
     "user": {
      "displayName": "Pratik Nale",
      "photoUrl": "https://lh3.googleusercontent.com/a-/AOh14GgxACC2B4V1fhOSyFFh62hbIEiHukrFJR9SJbwbbQ=s64",
      "userId": "16935723069358383403"
     },
     "user_tz": -330
    },
    "id": "oWdzXY0KGWjk",
    "outputId": "2aeb0be1-958a-4594-dd40-8f32045aaba8"
   },
   "outputs": [
    {
     "name": "stdout",
     "output_type": "stream",
     "text": [
      "\u001b[34m\u001b[1mTrue label and predicted label for any five examples\u001b[0m\n",
      "[2722, 1902, 2257, 1395, 2949, 1325, 2953, 167, 471, 229]\n",
      "('male',)\n",
      "('24', 'Gemini', 'Non-Profit', 'female')\n",
      "=================x==================x================x==========\n",
      "('male',)\n",
      "('16', 'Arts', 'Gemini', 'male')\n",
      "=================x==================x================x==========\n",
      "('female',)\n",
      "('17', 'Student', 'Virgo', 'male')\n",
      "=================x==================x================x==========\n",
      "('female',)\n",
      "('17', 'Arts', 'Virgo', 'female')\n",
      "=================x==================x================x==========\n",
      "('female',)\n",
      "('13', 'Scorpio', 'Student', 'female')\n",
      "=================x==================x================x==========\n",
      "('male',)\n",
      "('16', 'Aries', 'Telecommunications', 'female')\n",
      "=================x==================x================x==========\n",
      "('male',)\n",
      "('16', 'Capricorn', 'Student', 'male')\n",
      "=================x==================x================x==========\n",
      "('female',)\n",
      "('17', 'Leo', 'Student', 'female')\n",
      "=================x==================x================x==========\n",
      "('female',)\n",
      "('15', 'Leo', 'female', 'indUnk')\n",
      "=================x==================x================x==========\n",
      "('female',)\n",
      "('23', 'Capricorn', 'Technology', 'male')\n",
      "=================x==================x================x==========\n"
     ]
    }
   ],
   "source": [
    "print(colored('\\x1B[1mTrue label and predicted label for any five examples','blue'))\n",
    "print_predicted(y_predicted=Y_predicted_oneVsRest,y_test=y_test, n= 10)"
   ]
  },
  {
   "cell_type": "markdown",
   "metadata": {},
   "source": []
  }
 ],
 "metadata": {
  "accelerator": "TPU",
  "colab": {
   "collapsed_sections": [],
   "name": "MultilabelClassification_on_Blogs.ipynb",
   "provenance": []
  },
  "kernelspec": {
   "display_name": "Python 3",
   "language": "python",
   "name": "python3"
  },
  "language_info": {
   "codemirror_mode": {
    "name": "ipython",
    "version": 3
   },
   "file_extension": ".py",
   "mimetype": "text/x-python",
   "name": "python",
   "nbconvert_exporter": "python",
   "pygments_lexer": "ipython3",
   "version": "3.8.5"
  }
 },
 "nbformat": 4,
 "nbformat_minor": 1
}
