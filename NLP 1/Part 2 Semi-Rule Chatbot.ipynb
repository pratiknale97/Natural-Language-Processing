{
 "cells": [
  {
   "cell_type": "code",
   "execution_count": 1,
   "metadata": {
    "colab": {
     "base_uri": "https://localhost:8080/"
    },
    "executionInfo": {
     "elapsed": 449,
     "status": "ok",
     "timestamp": 1624125135593,
     "user": {
      "displayName": "Pratik Nale",
      "photoUrl": "https://lh3.googleusercontent.com/a-/AOh14GgxACC2B4V1fhOSyFFh62hbIEiHukrFJR9SJbwbbQ=s64",
      "userId": "16935723069358383403"
     },
     "user_tz": -330
    },
    "id": "fMDRoYq0WoCN",
    "outputId": "f97fe4ac-b963-4fce-e94e-0480f01db059"
   },
   "outputs": [
    {
     "name": "stdout",
     "output_type": "stream",
     "text": [
      "Drive already mounted at /content/drive; to attempt to forcibly remount, call drive.mount(\"/content/drive\", force_remount=True).\n"
     ]
    }
   ],
   "source": [
    "from google.colab import drive\n",
    "drive.mount('/content/drive')"
   ]
  },
  {
   "cell_type": "code",
   "execution_count": 2,
   "metadata": {
    "executionInfo": {
     "elapsed": 2038,
     "status": "ok",
     "timestamp": 1624125138329,
     "user": {
      "displayName": "Pratik Nale",
      "photoUrl": "https://lh3.googleusercontent.com/a-/AOh14GgxACC2B4V1fhOSyFFh62hbIEiHukrFJR9SJbwbbQ=s64",
      "userId": "16935723069358383403"
     },
     "user_tz": -330
    },
    "id": "lfrI8WN2WtTq"
   },
   "outputs": [],
   "source": [
    "import json \n",
    "import numpy as np \n",
    "import pandas as pd\n",
    "import tensorflow as tf\n",
    "from tensorflow import keras\n",
    "from tensorflow.keras.models import Sequential\n",
    "from tensorflow.keras.layers import Dense, Activation, Dropout\n",
    "\n",
    "\n",
    "# from keras.layers import Dense, \n",
    "from tensorflow.keras.preprocessing.text import Tokenizer\n",
    "from tensorflow.keras.preprocessing.sequence import pad_sequences\n",
    "from sklearn.preprocessing import LabelEncoder"
   ]
  },
  {
   "cell_type": "code",
   "execution_count": 3,
   "metadata": {
    "executionInfo": {
     "elapsed": 13,
     "status": "ok",
     "timestamp": 1624125138334,
     "user": {
      "displayName": "Pratik Nale",
      "photoUrl": "https://lh3.googleusercontent.com/a-/AOh14GgxACC2B4V1fhOSyFFh62hbIEiHukrFJR9SJbwbbQ=s64",
      "userId": "16935723069358383403"
     },
     "user_tz": -330
    },
    "id": "n3mrC0QReiuT"
   },
   "outputs": [],
   "source": [
    "with open('/content/drive/MyDrive/Files/GL Bot.json') as f:\n",
    "  data = pd.read_json(f)"
   ]
  },
  {
   "cell_type": "code",
   "execution_count": 4,
   "metadata": {
    "colab": {
     "base_uri": "https://localhost:8080/"
    },
    "executionInfo": {
     "elapsed": 11,
     "status": "ok",
     "timestamp": 1624125138334,
     "user": {
      "displayName": "Pratik Nale",
      "photoUrl": "https://lh3.googleusercontent.com/a-/AOh14GgxACC2B4V1fhOSyFFh62hbIEiHukrFJR9SJbwbbQ=s64",
      "userId": "16935723069358383403"
     },
     "user_tz": -330
    },
    "id": "hom057hee9-J",
    "outputId": "fd9309f3-5411-4824-977c-bf2e508fc70a"
   },
   "outputs": [
    {
     "data": {
      "text/plain": [
       "{'context_set': '',\n",
       " 'patterns': ['hi',\n",
       "  'how are you',\n",
       "  'is anyone there',\n",
       "  'hello',\n",
       "  'whats up',\n",
       "  'hey',\n",
       "  'yo',\n",
       "  'listen',\n",
       "  'please help me',\n",
       "  'i am learner from',\n",
       "  'i belong to',\n",
       "  'aiml batch',\n",
       "  'aifl batch',\n",
       "  'i am from',\n",
       "  'my pm is',\n",
       "  'blended',\n",
       "  'online',\n",
       "  'i am from',\n",
       "  'hey ya',\n",
       "  'talking to you for first time'],\n",
       " 'responses': ['Hello! how can i help you ?'],\n",
       " 'tag': 'Intro'}"
      ]
     },
     "execution_count": 4,
     "metadata": {
      "tags": []
     },
     "output_type": "execute_result"
    }
   ],
   "source": [
    "data['intents'][0]"
   ]
  },
  {
   "cell_type": "code",
   "execution_count": 5,
   "metadata": {
    "colab": {
     "base_uri": "https://localhost:8080/"
    },
    "executionInfo": {
     "elapsed": 714,
     "status": "ok",
     "timestamp": 1624125139041,
     "user": {
      "displayName": "Pratik Nale",
      "photoUrl": "https://lh3.googleusercontent.com/a-/AOh14GgxACC2B4V1fhOSyFFh62hbIEiHukrFJR9SJbwbbQ=s64",
      "userId": "16935723069358383403"
     },
     "user_tz": -330
    },
    "id": "FjgGoE4AL4mX",
    "outputId": "3fa3e277-8e1d-4185-ed21-19bb851413e5"
   },
   "outputs": [
    {
     "name": "stdout",
     "output_type": "stream",
     "text": [
      "[nltk_data] Downloading package stopwords to /root/nltk_data...\n",
      "[nltk_data]   Package stopwords is already up-to-date!\n",
      "[nltk_data] Downloading package punkt to /root/nltk_data...\n",
      "[nltk_data]   Package punkt is already up-to-date!\n"
     ]
    }
   ],
   "source": [
    "import numpy as np\n",
    "import nltk\n",
    "nltk.download('stopwords')\n",
    "nltk.download('punkt')\n",
    "from nltk.corpus import stopwords \n",
    "from nltk.tokenize import word_tokenize"
   ]
  },
  {
   "cell_type": "code",
   "execution_count": 6,
   "metadata": {
    "colab": {
     "base_uri": "https://localhost:8080/"
    },
    "executionInfo": {
     "elapsed": 12,
     "status": "ok",
     "timestamp": 1624125139042,
     "user": {
      "displayName": "Pratik Nale",
      "photoUrl": "https://lh3.googleusercontent.com/a-/AOh14GgxACC2B4V1fhOSyFFh62hbIEiHukrFJR9SJbwbbQ=s64",
      "userId": "16935723069358383403"
     },
     "user_tz": -330
    },
    "id": "vsrhNGNKJUxB",
    "outputId": "8bf0d68d-4f5d-4a4a-933d-80c12e12d299"
   },
   "outputs": [
    {
     "name": "stdout",
     "output_type": "stream",
     "text": [
      "[nltk_data] Downloading package wordnet to /root/nltk_data...\n",
      "[nltk_data]   Package wordnet is already up-to-date!\n"
     ]
    }
   ],
   "source": [
    "import nltk\n",
    "from nltk.stem import WordNetLemmatizer\n",
    "nltk.download('wordnet')\n",
    "import random"
   ]
  },
  {
   "cell_type": "code",
   "execution_count": 7,
   "metadata": {
    "executionInfo": {
     "elapsed": 8,
     "status": "ok",
     "timestamp": 1624125139042,
     "user": {
      "displayName": "Pratik Nale",
      "photoUrl": "https://lh3.googleusercontent.com/a-/AOh14GgxACC2B4V1fhOSyFFh62hbIEiHukrFJR9SJbwbbQ=s64",
      "userId": "16935723069358383403"
     },
     "user_tz": -330
    },
    "id": "KvnadFt1fGrx"
   },
   "outputs": [],
   "source": [
    "labels = []\n",
    "words=[]\n",
    "documents = []\n",
    "ignore_words = ['?', '!']\n",
    "\n",
    "for intent in data['intents']:\n",
    "  for pattern in intent['patterns']:\n",
    "    w = nltk.word_tokenize(pattern)\n",
    "    words.extend(w)\n",
    "    documents.append((w, intent['tag']))\n",
    "    if intent['tag'] not in labels:  \n",
    "      labels.append(intent['tag'])     \n",
    "num_classes = len(labels)"
   ]
  },
  {
   "cell_type": "code",
   "execution_count": 8,
   "metadata": {
    "executionInfo": {
     "elapsed": 2168,
     "status": "ok",
     "timestamp": 1624125141203,
     "user": {
      "displayName": "Pratik Nale",
      "photoUrl": "https://lh3.googleusercontent.com/a-/AOh14GgxACC2B4V1fhOSyFFh62hbIEiHukrFJR9SJbwbbQ=s64",
      "userId": "16935723069358383403"
     },
     "user_tz": -330
    },
    "id": "cy0pbCEfKD2o"
   },
   "outputs": [],
   "source": [
    "lemmatizer = WordNetLemmatizer()\n",
    "words = [lemmatizer.lemmatize(w.lower()) for w in words if w not in ignore_words]\n",
    "words = sorted(list(set(words)))\n",
    "labels = sorted(list(set(labels)))"
   ]
  },
  {
   "cell_type": "code",
   "execution_count": 9,
   "metadata": {
    "colab": {
     "base_uri": "https://localhost:8080/"
    },
    "executionInfo": {
     "elapsed": 36,
     "status": "ok",
     "timestamp": 1624125141226,
     "user": {
      "displayName": "Pratik Nale",
      "photoUrl": "https://lh3.googleusercontent.com/a-/AOh14GgxACC2B4V1fhOSyFFh62hbIEiHukrFJR9SJbwbbQ=s64",
      "userId": "16935723069358383403"
     },
     "user_tz": -330
    },
    "id": "7paOAd5-OVMF",
    "outputId": "6226eec3-ecbe-4e90-977e-263141939872"
   },
   "outputs": [
    {
     "name": "stderr",
     "output_type": "stream",
     "text": [
      "/usr/local/lib/python3.7/dist-packages/ipykernel_launcher.py:22: VisibleDeprecationWarning: Creating an ndarray from ragged nested sequences (which is a list-or-tuple of lists-or-tuples-or ndarrays with different lengths or shapes) is deprecated. If you meant to do this, you must specify 'dtype=object' when creating the ndarray\n"
     ]
    }
   ],
   "source": [
    "# initializing training data\n",
    "sentences = []\n",
    "output_empty = [0] * len(labels)\n",
    "for doc in documents:\n",
    "    # initializing bag of words\n",
    "    bag = []\n",
    "    # list of tokenized words for the pattern\n",
    "    pattern_words = doc[0]\n",
    "    # lemmatize each word - create base word, in attempt to represent related words\n",
    "    pattern_words = [lemmatizer.lemmatize(word.lower()) for word in pattern_words]\n",
    "    # create our bag of words array with 1, if word match found in current pattern\n",
    "    for w in words:\n",
    "        bag.append(1) if w in pattern_words else bag.append(0)\n",
    "\n",
    "    # output is a '0' for each tag and '1' for current tag (for each pattern)\n",
    "    output_row = list(output_empty)\n",
    "    output_row[labels.index(doc[1])] = 1\n",
    "\n",
    "    sentences.append([bag, output_row])\n",
    "# shuffle our features and turn into np.array\n",
    "random.shuffle(sentences)\n",
    "sentences = np.array(sentences)\n",
    "# create train and test lists. X - patterns, Y - intents\n",
    "X = list(sentences[:,0])\n",
    "y = list(sentences[:,1])"
   ]
  },
  {
   "cell_type": "code",
   "execution_count": 10,
   "metadata": {
    "colab": {
     "base_uri": "https://localhost:8080/"
    },
    "executionInfo": {
     "elapsed": 33,
     "status": "ok",
     "timestamp": 1624125141227,
     "user": {
      "displayName": "Pratik Nale",
      "photoUrl": "https://lh3.googleusercontent.com/a-/AOh14GgxACC2B4V1fhOSyFFh62hbIEiHukrFJR9SJbwbbQ=s64",
      "userId": "16935723069358383403"
     },
     "user_tz": -330
    },
    "id": "Uxf8k-FxG6wx",
    "outputId": "80448716-7575-4dbe-cd03-62ebfb083cf3"
   },
   "outputs": [
    {
     "name": "stdout",
     "output_type": "stream",
     "text": [
      "Model: \"sequential\"\n",
      "_________________________________________________________________\n",
      "Layer (type)                 Output Shape              Param #   \n",
      "=================================================================\n",
      "dense (Dense)                (None, 50)                7950      \n",
      "_________________________________________________________________\n",
      "dropout (Dropout)            (None, 50)                0         \n",
      "_________________________________________________________________\n",
      "dense_1 (Dense)              (None, 16)                816       \n",
      "_________________________________________________________________\n",
      "dense_2 (Dense)              (None, 16)                272       \n",
      "_________________________________________________________________\n",
      "dense_3 (Dense)              (None, 8)                 136       \n",
      "=================================================================\n",
      "Total params: 9,174\n",
      "Trainable params: 9,174\n",
      "Non-trainable params: 0\n",
      "_________________________________________________________________\n"
     ]
    }
   ],
   "source": [
    "model = Sequential()\n",
    "model.add(Dense(50, input_shape=(len(X[0]),), activation='relu'))\n",
    "model.add(Dropout(0.5))\n",
    "model.add(Dense(16, activation='relu'))\n",
    "model.add(Dense(16, activation='relu'))\n",
    "model.add(Dense(num_classes, activation='softmax'))\n",
    "\n",
    "model.compile(loss='categorical_crossentropy', optimizer='adam', metrics=['accuracy'])\n",
    "\n",
    "model.summary()"
   ]
  },
  {
   "cell_type": "code",
   "execution_count": 11,
   "metadata": {
    "colab": {
     "base_uri": "https://localhost:8080/"
    },
    "executionInfo": {
     "elapsed": 5796,
     "status": "ok",
     "timestamp": 1624125146994,
     "user": {
      "displayName": "Pratik Nale",
      "photoUrl": "https://lh3.googleusercontent.com/a-/AOh14GgxACC2B4V1fhOSyFFh62hbIEiHukrFJR9SJbwbbQ=s64",
      "userId": "16935723069358383403"
     },
     "user_tz": -330
    },
    "id": "q67uNVQDHAO0",
    "outputId": "b2c732bd-eaf9-4fcb-9500-b4e78476058e"
   },
   "outputs": [
    {
     "name": "stdout",
     "output_type": "stream",
     "text": [
      "Epoch 1/100\n",
      "32/32 [==============================] - 1s 2ms/step - loss: 2.0672 - accuracy: 0.1484\n",
      "Epoch 2/100\n",
      "32/32 [==============================] - 0s 1ms/step - loss: 2.0423 - accuracy: 0.2422\n",
      "Epoch 3/100\n",
      "32/32 [==============================] - 0s 1ms/step - loss: 2.0067 - accuracy: 0.3359\n",
      "Epoch 4/100\n",
      "32/32 [==============================] - 0s 1ms/step - loss: 1.9578 - accuracy: 0.2891\n",
      "Epoch 5/100\n",
      "32/32 [==============================] - 0s 1ms/step - loss: 1.9153 - accuracy: 0.3203\n",
      "Epoch 6/100\n",
      "32/32 [==============================] - 0s 2ms/step - loss: 1.8576 - accuracy: 0.2344\n",
      "Epoch 7/100\n",
      "32/32 [==============================] - 0s 1ms/step - loss: 1.7750 - accuracy: 0.2578\n",
      "Epoch 8/100\n",
      "32/32 [==============================] - 0s 1ms/step - loss: 1.7072 - accuracy: 0.3203\n",
      "Epoch 9/100\n",
      "32/32 [==============================] - 0s 2ms/step - loss: 1.6396 - accuracy: 0.3828\n",
      "Epoch 10/100\n",
      "32/32 [==============================] - 0s 2ms/step - loss: 1.5695 - accuracy: 0.3984\n",
      "Epoch 11/100\n",
      "32/32 [==============================] - 0s 1ms/step - loss: 1.4840 - accuracy: 0.4375\n",
      "Epoch 12/100\n",
      "32/32 [==============================] - 0s 1ms/step - loss: 1.3706 - accuracy: 0.4922\n",
      "Epoch 13/100\n",
      "32/32 [==============================] - 0s 1ms/step - loss: 1.3248 - accuracy: 0.5391\n",
      "Epoch 14/100\n",
      "32/32 [==============================] - 0s 1ms/step - loss: 1.2044 - accuracy: 0.6094\n",
      "Epoch 15/100\n",
      "32/32 [==============================] - 0s 1ms/step - loss: 1.1324 - accuracy: 0.6094\n",
      "Epoch 16/100\n",
      "32/32 [==============================] - 0s 2ms/step - loss: 1.0500 - accuracy: 0.6406\n",
      "Epoch 17/100\n",
      "32/32 [==============================] - 0s 2ms/step - loss: 0.9270 - accuracy: 0.6875\n",
      "Epoch 18/100\n",
      "32/32 [==============================] - 0s 1ms/step - loss: 0.8993 - accuracy: 0.7031\n",
      "Epoch 19/100\n",
      "32/32 [==============================] - 0s 1ms/step - loss: 0.7758 - accuracy: 0.7969\n",
      "Epoch 20/100\n",
      "32/32 [==============================] - 0s 2ms/step - loss: 0.7386 - accuracy: 0.7500\n",
      "Epoch 21/100\n",
      "32/32 [==============================] - 0s 1ms/step - loss: 0.6360 - accuracy: 0.8906\n",
      "Epoch 22/100\n",
      "32/32 [==============================] - 0s 2ms/step - loss: 0.5555 - accuracy: 0.8984\n",
      "Epoch 23/100\n",
      "32/32 [==============================] - 0s 2ms/step - loss: 0.5637 - accuracy: 0.8516\n",
      "Epoch 24/100\n",
      "32/32 [==============================] - 0s 2ms/step - loss: 0.5302 - accuracy: 0.8594\n",
      "Epoch 25/100\n",
      "32/32 [==============================] - 0s 1ms/step - loss: 0.4861 - accuracy: 0.8672\n",
      "Epoch 26/100\n",
      "32/32 [==============================] - 0s 1ms/step - loss: 0.5076 - accuracy: 0.8438\n",
      "Epoch 27/100\n",
      "32/32 [==============================] - 0s 2ms/step - loss: 0.4217 - accuracy: 0.9375\n",
      "Epoch 28/100\n",
      "32/32 [==============================] - 0s 2ms/step - loss: 0.4090 - accuracy: 0.8828\n",
      "Epoch 29/100\n",
      "32/32 [==============================] - 0s 2ms/step - loss: 0.3761 - accuracy: 0.8984\n",
      "Epoch 30/100\n",
      "32/32 [==============================] - 0s 2ms/step - loss: 0.3089 - accuracy: 0.9297\n",
      "Epoch 31/100\n",
      "32/32 [==============================] - 0s 1ms/step - loss: 0.4150 - accuracy: 0.8984\n",
      "Epoch 32/100\n",
      "32/32 [==============================] - 0s 1ms/step - loss: 0.2898 - accuracy: 0.9609\n",
      "Epoch 33/100\n",
      "32/32 [==============================] - 0s 1ms/step - loss: 0.2758 - accuracy: 0.9297\n",
      "Epoch 34/100\n",
      "32/32 [==============================] - 0s 1ms/step - loss: 0.2497 - accuracy: 0.9688\n",
      "Epoch 35/100\n",
      "32/32 [==============================] - 0s 1ms/step - loss: 0.2650 - accuracy: 0.9297\n",
      "Epoch 36/100\n",
      "32/32 [==============================] - 0s 1ms/step - loss: 0.2269 - accuracy: 0.9609\n",
      "Epoch 37/100\n",
      "32/32 [==============================] - 0s 1ms/step - loss: 0.1817 - accuracy: 0.9766\n",
      "Epoch 38/100\n",
      "32/32 [==============================] - 0s 1ms/step - loss: 0.2163 - accuracy: 0.9375\n",
      "Epoch 39/100\n",
      "32/32 [==============================] - 0s 1ms/step - loss: 0.1426 - accuracy: 0.9922\n",
      "Epoch 40/100\n",
      "32/32 [==============================] - 0s 2ms/step - loss: 0.1715 - accuracy: 0.9609\n",
      "Epoch 41/100\n",
      "32/32 [==============================] - 0s 2ms/step - loss: 0.2049 - accuracy: 0.9766\n",
      "Epoch 42/100\n",
      "32/32 [==============================] - 0s 2ms/step - loss: 0.1779 - accuracy: 0.9453\n",
      "Epoch 43/100\n",
      "32/32 [==============================] - 0s 1ms/step - loss: 0.1423 - accuracy: 0.9609\n",
      "Epoch 44/100\n",
      "32/32 [==============================] - 0s 1ms/step - loss: 0.1721 - accuracy: 0.9609\n",
      "Epoch 45/100\n",
      "32/32 [==============================] - 0s 1ms/step - loss: 0.1544 - accuracy: 0.9766\n",
      "Epoch 46/100\n",
      "32/32 [==============================] - 0s 1ms/step - loss: 0.1928 - accuracy: 0.9453\n",
      "Epoch 47/100\n",
      "32/32 [==============================] - 0s 1ms/step - loss: 0.1741 - accuracy: 0.9609\n",
      "Epoch 48/100\n",
      "32/32 [==============================] - 0s 1ms/step - loss: 0.1310 - accuracy: 0.9844\n",
      "Epoch 49/100\n",
      "32/32 [==============================] - 0s 1ms/step - loss: 0.1199 - accuracy: 0.9766\n",
      "Epoch 50/100\n",
      "32/32 [==============================] - 0s 2ms/step - loss: 0.1367 - accuracy: 0.9844\n",
      "Epoch 51/100\n",
      "32/32 [==============================] - 0s 2ms/step - loss: 0.0973 - accuracy: 0.9922\n",
      "Epoch 52/100\n",
      "32/32 [==============================] - 0s 2ms/step - loss: 0.1136 - accuracy: 0.9766\n",
      "Epoch 53/100\n",
      "32/32 [==============================] - 0s 2ms/step - loss: 0.1143 - accuracy: 0.9688\n",
      "Epoch 54/100\n",
      "32/32 [==============================] - 0s 2ms/step - loss: 0.0980 - accuracy: 0.9844\n",
      "Epoch 55/100\n",
      "32/32 [==============================] - 0s 1ms/step - loss: 0.1373 - accuracy: 0.9688\n",
      "Epoch 56/100\n",
      "32/32 [==============================] - 0s 1ms/step - loss: 0.1366 - accuracy: 0.9453\n",
      "Epoch 57/100\n",
      "32/32 [==============================] - 0s 1ms/step - loss: 0.1077 - accuracy: 0.9766\n",
      "Epoch 58/100\n",
      "32/32 [==============================] - 0s 1ms/step - loss: 0.0809 - accuracy: 0.9844\n",
      "Epoch 59/100\n",
      "32/32 [==============================] - 0s 2ms/step - loss: 0.0792 - accuracy: 0.9844\n",
      "Epoch 60/100\n",
      "32/32 [==============================] - 0s 1ms/step - loss: 0.1231 - accuracy: 0.9453\n",
      "Epoch 61/100\n",
      "32/32 [==============================] - 0s 2ms/step - loss: 0.0878 - accuracy: 0.9922\n",
      "Epoch 62/100\n",
      "32/32 [==============================] - 0s 1ms/step - loss: 0.0742 - accuracy: 0.9844\n",
      "Epoch 63/100\n",
      "32/32 [==============================] - 0s 2ms/step - loss: 0.0699 - accuracy: 0.9688\n",
      "Epoch 64/100\n",
      "32/32 [==============================] - 0s 2ms/step - loss: 0.0491 - accuracy: 1.0000\n",
      "Epoch 65/100\n",
      "32/32 [==============================] - 0s 1ms/step - loss: 0.0631 - accuracy: 0.9922\n",
      "Epoch 66/100\n",
      "32/32 [==============================] - 0s 1ms/step - loss: 0.0608 - accuracy: 1.0000\n",
      "Epoch 67/100\n",
      "32/32 [==============================] - 0s 1ms/step - loss: 0.0810 - accuracy: 0.9766\n",
      "Epoch 68/100\n",
      "32/32 [==============================] - 0s 1ms/step - loss: 0.0786 - accuracy: 0.9844\n",
      "Epoch 69/100\n",
      "32/32 [==============================] - 0s 1ms/step - loss: 0.0616 - accuracy: 0.9844\n",
      "Epoch 70/100\n",
      "32/32 [==============================] - 0s 2ms/step - loss: 0.0750 - accuracy: 0.9844\n",
      "Epoch 71/100\n",
      "32/32 [==============================] - 0s 1ms/step - loss: 0.0455 - accuracy: 1.0000\n",
      "Epoch 72/100\n",
      "32/32 [==============================] - 0s 1ms/step - loss: 0.0716 - accuracy: 0.9766\n",
      "Epoch 73/100\n",
      "32/32 [==============================] - 0s 1ms/step - loss: 0.0550 - accuracy: 0.9922\n",
      "Epoch 74/100\n",
      "32/32 [==============================] - 0s 2ms/step - loss: 0.0712 - accuracy: 0.9766\n",
      "Epoch 75/100\n",
      "32/32 [==============================] - 0s 2ms/step - loss: 0.0572 - accuracy: 0.9766\n",
      "Epoch 76/100\n",
      "32/32 [==============================] - 0s 2ms/step - loss: 0.0423 - accuracy: 0.9844\n",
      "Epoch 77/100\n",
      "32/32 [==============================] - 0s 1ms/step - loss: 0.0558 - accuracy: 0.9922\n",
      "Epoch 78/100\n",
      "32/32 [==============================] - 0s 2ms/step - loss: 0.0412 - accuracy: 0.9844\n",
      "Epoch 79/100\n",
      "32/32 [==============================] - 0s 1ms/step - loss: 0.0397 - accuracy: 0.9922\n",
      "Epoch 80/100\n",
      "32/32 [==============================] - 0s 1ms/step - loss: 0.0334 - accuracy: 0.9922\n",
      "Epoch 81/100\n",
      "32/32 [==============================] - 0s 2ms/step - loss: 0.0637 - accuracy: 0.9844\n",
      "Epoch 82/100\n",
      "32/32 [==============================] - 0s 1ms/step - loss: 0.0439 - accuracy: 1.0000\n",
      "Epoch 83/100\n",
      "32/32 [==============================] - 0s 1ms/step - loss: 0.0423 - accuracy: 0.9844\n",
      "Epoch 84/100\n",
      "32/32 [==============================] - 0s 2ms/step - loss: 0.0315 - accuracy: 0.9922\n",
      "Epoch 85/100\n",
      "32/32 [==============================] - 0s 1ms/step - loss: 0.0479 - accuracy: 0.9844\n",
      "Epoch 86/100\n",
      "32/32 [==============================] - 0s 2ms/step - loss: 0.0152 - accuracy: 1.0000\n",
      "Epoch 87/100\n",
      "32/32 [==============================] - 0s 1ms/step - loss: 0.0311 - accuracy: 0.9922\n",
      "Epoch 88/100\n",
      "32/32 [==============================] - 0s 2ms/step - loss: 0.0607 - accuracy: 0.9844\n",
      "Epoch 89/100\n",
      "32/32 [==============================] - 0s 1ms/step - loss: 0.0511 - accuracy: 0.9766\n",
      "Epoch 90/100\n",
      "32/32 [==============================] - 0s 1ms/step - loss: 0.0256 - accuracy: 0.9922\n",
      "Epoch 91/100\n",
      "32/32 [==============================] - 0s 1ms/step - loss: 0.0297 - accuracy: 0.9844\n",
      "Epoch 92/100\n",
      "32/32 [==============================] - 0s 1ms/step - loss: 0.0524 - accuracy: 0.9922\n",
      "Epoch 93/100\n",
      "32/32 [==============================] - 0s 2ms/step - loss: 0.0376 - accuracy: 1.0000\n",
      "Epoch 94/100\n",
      "32/32 [==============================] - 0s 2ms/step - loss: 0.0342 - accuracy: 0.9922\n",
      "Epoch 95/100\n",
      "32/32 [==============================] - 0s 2ms/step - loss: 0.0287 - accuracy: 1.0000\n",
      "Epoch 96/100\n",
      "32/32 [==============================] - 0s 2ms/step - loss: 0.0492 - accuracy: 0.9766\n",
      "Epoch 97/100\n",
      "32/32 [==============================] - 0s 1ms/step - loss: 0.0694 - accuracy: 0.9766\n",
      "Epoch 98/100\n",
      "32/32 [==============================] - 0s 1ms/step - loss: 0.0378 - accuracy: 1.0000\n",
      "Epoch 99/100\n",
      "32/32 [==============================] - 0s 1ms/step - loss: 0.0413 - accuracy: 0.9922\n",
      "Epoch 100/100\n",
      "32/32 [==============================] - 0s 1ms/step - loss: 0.0203 - accuracy: 0.9922\n"
     ]
    }
   ],
   "source": [
    "history = model.fit(np.array(X), np.array(y), epochs=100, batch_size = 4, verbose = 1)"
   ]
  },
  {
   "cell_type": "code",
   "execution_count": 12,
   "metadata": {
    "colab": {
     "base_uri": "https://localhost:8080/"
    },
    "executionInfo": {
     "elapsed": 1103,
     "status": "ok",
     "timestamp": 1624125148074,
     "user": {
      "displayName": "Pratik Nale",
      "photoUrl": "https://lh3.googleusercontent.com/a-/AOh14GgxACC2B4V1fhOSyFFh62hbIEiHukrFJR9SJbwbbQ=s64",
      "userId": "16935723069358383403"
     },
     "user_tz": -330
    },
    "id": "O5ThcDayHDm0",
    "outputId": "e31e33a1-13ac-435a-a50c-3c3c542f1796"
   },
   "outputs": [
    {
     "name": "stdout",
     "output_type": "stream",
     "text": [
      "INFO:tensorflow:Assets written to: /content/drive/MyDrive/Files/chat_model/assets\n"
     ]
    }
   ],
   "source": [
    "# to save the trained model\n",
    "model.save(\"/content/drive/MyDrive/Files/chat_model\")\n",
    "\n",
    "import pickle\n",
    "\n",
    "# to save the fitted tokenizer\n",
    "with open('words.pickle', 'wb') as handle:\n",
    "    pickle.dump(words, handle, protocol=pickle.HIGHEST_PROTOCOL)\n",
    "    \n",
    "# to save the fitted label encoder\n",
    "with open('labels.pickle', 'wb') as ecn_file:\n",
    "    pickle.dump(labels, ecn_file, protocol=pickle.HIGHEST_PROTOCOL)"
   ]
  },
  {
   "cell_type": "code",
   "execution_count": 13,
   "metadata": {
    "colab": {
     "base_uri": "https://localhost:8080/"
    },
    "executionInfo": {
     "elapsed": 93321,
     "status": "ok",
     "timestamp": 1624125241389,
     "user": {
      "displayName": "Pratik Nale",
      "photoUrl": "https://lh3.googleusercontent.com/a-/AOh14GgxACC2B4V1fhOSyFFh62hbIEiHukrFJR9SJbwbbQ=s64",
      "userId": "16935723069358383403"
     },
     "user_tz": -330
    },
    "id": "QLSXxfdoNKjD",
    "outputId": "a282b4f0-1702-4b44-ea6b-1a2a36cd4615"
   },
   "outputs": [
    {
     "name": "stdout",
     "output_type": "stream",
     "text": [
      "Start messaging with the bot (type quit to stop)!\n",
      "\n",
      "ChatBot: Hey There! How may I help you?\n",
      "\n",
      "User: \n",
      "Hi!!!\n",
      "ChatBot: Hello! how can i help you ?\n",
      "\n",
      "User: \n",
      "Neural Networks\n",
      "ChatBot: Link: Neural Nets wiki\n",
      "\n",
      "User: \n",
      "Supervised Learning\n",
      "ChatBot: Link: Machine Learning wiki \n",
      "\n",
      "User: \n",
      "Support Request\n",
      "ChatBot: Link: Machine Learning wiki \n",
      "\n",
      "User: \n",
      "Olympus\n",
      "ChatBot: Link: Olympus wiki\n",
      "\n",
      "User: \n",
      "Thank You\n",
      "ChatBot: I hope I was able to assist you, Good Bye\n",
      "\n",
      "User: \n",
      "Quit\n"
     ]
    }
   ],
   "source": [
    "import json \n",
    "import numpy as np\n",
    "from tensorflow import keras\n",
    "import random\n",
    "import pickle\n",
    "\n",
    "with open('/content/drive/MyDrive/Files/GL Bot.json') as file:\n",
    "    data = json.load(file)\n",
    "\n",
    "\n",
    "def chat():\n",
    "    # load trained model\n",
    "    model = keras.models.load_model('/content/drive/MyDrive/Files/chat_model')\n",
    "    ignore_words = ['?', '!']\n",
    "    # load tokenizer object\n",
    "    with open('words.pickle', 'rb') as handle:\n",
    "        words = pickle.load(handle)\n",
    "\n",
    "    # load label encoder object\n",
    "    with open('labels.pickle', 'rb') as enc:\n",
    "        labels = pickle.load(enc)\n",
    "\n",
    "    print(\"\\nChatBot: Hey There! How may I help you?\")\n",
    "\n",
    "    while True:\n",
    "        \n",
    "        print(\"\\nUser: \")\n",
    "        inp = input()\n",
    "        if inp.lower() == \"quit\":\n",
    "            break\n",
    "\n",
    "        sentence_words = nltk.word_tokenize(inp)\n",
    "        sentence_words = [lemmatizer.lemmatize(word.lower()) for word in sentence_words]\n",
    "\n",
    "        bag = [0]*len(words)\n",
    "        for s in sentence_words:\n",
    "            for i,w in enumerate(words):\n",
    "                if w == s:\n",
    "                    bag[i] = 1\n",
    "        bag =  np.array(bag)\n",
    "      \n",
    "        result = model.predict(np.array([bag]))[0]\n",
    "        ERROR_THRESHOLD = 0.25\n",
    "        res = [[i,r] for i,r in enumerate(result) if r>ERROR_THRESHOLD]\n",
    "        # sort by strength of probability\n",
    "        res.sort(key=lambda x: x[1], reverse=True)\n",
    "        output_list = []\n",
    "        for r in res:\n",
    "          output_list.append({\"intent\": labels[r[0]], \"probability\": str(r[1])})\n",
    "\n",
    "        tag = output_list[0]['intent']\n",
    "        list_of_intents = data['intents']\n",
    "        for i in list_of_intents:\n",
    "          if(i['tag'] == tag):\n",
    "            result = random.choice(i['responses'])\n",
    "            print(\"ChatBot:\", np.random.choice(i['responses']))\n",
    "print(\"Start messaging with the bot (type quit to stop)!\")\n",
    "chat()"
   ]
  }
 ],
 "metadata": {
  "colab": {
   "collapsed_sections": [],
   "name": "Part 2 Semi-Rule Chatbot.ipynb",
   "provenance": []
  },
  "kernelspec": {
   "display_name": "Python 3",
   "language": "python",
   "name": "python3"
  },
  "language_info": {
   "codemirror_mode": {
    "name": "ipython",
    "version": 3
   },
   "file_extension": ".py",
   "mimetype": "text/x-python",
   "name": "python",
   "nbconvert_exporter": "python",
   "pygments_lexer": "ipython3",
   "version": "3.8.5"
  }
 },
 "nbformat": 4,
 "nbformat_minor": 1
}
